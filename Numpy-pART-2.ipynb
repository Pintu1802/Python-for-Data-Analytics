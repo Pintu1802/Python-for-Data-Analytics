{
 "cells": [
  {
   "cell_type": "markdown",
   "id": "cee9551b-07b0-48cc-977b-cff4612e70c5",
   "metadata": {},
   "source": [
    "NUMPY PART - 2"
   ]
  },
  {
   "cell_type": "code",
   "execution_count": 4,
   "id": "628a0889-13c0-49d6-a750-c538ef20ee92",
   "metadata": {},
   "outputs": [],
   "source": [
    "#Numpy - Array manipulation."
   ]
  },
  {
   "cell_type": "code",
   "execution_count": 2,
   "id": "88a1f018-3971-4fed-a64c-5f93b4bb8364",
   "metadata": {},
   "outputs": [],
   "source": [
    "import numpy as np"
   ]
  },
  {
   "cell_type": "code",
   "execution_count": 5,
   "id": "17ebe8cf-2729-4ded-b7e4-9909f761ca05",
   "metadata": {},
   "outputs": [],
   "source": [
    "arr = np.random.randint(1,10 , (3,4))"
   ]
  },
  {
   "cell_type": "code",
   "execution_count": 6,
   "id": "0ec41905-f3f0-456f-a131-bca907eef631",
   "metadata": {},
   "outputs": [
    {
     "data": {
      "text/plain": [
       "array([[6, 9, 3, 7],\n",
       "       [5, 1, 3, 4],\n",
       "       [9, 6, 5, 7]])"
      ]
     },
     "execution_count": 6,
     "metadata": {},
     "output_type": "execute_result"
    }
   ],
   "source": [
    "arr"
   ]
  },
  {
   "cell_type": "code",
   "execution_count": 7,
   "id": "03c9bf34-8c52-414e-9458-cb5c22119104",
   "metadata": {},
   "outputs": [
    {
     "data": {
      "text/plain": [
       "array([[6, 9],\n",
       "       [3, 7],\n",
       "       [5, 1],\n",
       "       [3, 4],\n",
       "       [9, 6],\n",
       "       [5, 7]])"
      ]
     },
     "execution_count": 7,
     "metadata": {},
     "output_type": "execute_result"
    }
   ],
   "source": [
    "arr.reshape(6,2)"
   ]
  },
  {
   "cell_type": "code",
   "execution_count": 8,
   "id": "fbae164d-a8df-4dc4-9a14-dbc1c73e9d3e",
   "metadata": {},
   "outputs": [
    {
     "data": {
      "text/plain": [
       "array([[6, 9, 3, 7, 5, 1],\n",
       "       [3, 4, 9, 6, 5, 7]])"
      ]
     },
     "execution_count": 8,
     "metadata": {},
     "output_type": "execute_result"
    }
   ],
   "source": [
    "arr.reshape(2,6)"
   ]
  },
  {
   "cell_type": "code",
   "execution_count": 11,
   "id": "95f419e9-ceb0-4546-8c0c-daf357c2716b",
   "metadata": {},
   "outputs": [
    {
     "data": {
      "text/plain": [
       "array([[6, 9, 3, 7, 5, 1],\n",
       "       [3, 4, 9, 6, 5, 7]])"
      ]
     },
     "execution_count": 11,
     "metadata": {},
     "output_type": "execute_result"
    }
   ],
   "source": [
    "arr.reshape(2,-234)"
   ]
  },
  {
   "cell_type": "code",
   "execution_count": 12,
   "id": "547c66e1-577f-4820-b1cd-4090b813f457",
   "metadata": {},
   "outputs": [
    {
     "data": {
      "text/plain": [
       "array([[6, 5, 9],\n",
       "       [9, 1, 6],\n",
       "       [3, 3, 5],\n",
       "       [7, 4, 7]])"
      ]
     },
     "execution_count": 12,
     "metadata": {},
     "output_type": "execute_result"
    }
   ],
   "source": [
    "arr.T"
   ]
  },
  {
   "cell_type": "code",
   "execution_count": 13,
   "id": "be7d23e3-8fd6-47fe-b09b-726b3c7f5a92",
   "metadata": {},
   "outputs": [
    {
     "data": {
      "text/plain": [
       "array([[6, 9, 3, 7],\n",
       "       [5, 1, 3, 4],\n",
       "       [9, 6, 5, 7]])"
      ]
     },
     "execution_count": 13,
     "metadata": {},
     "output_type": "execute_result"
    }
   ],
   "source": [
    "arr"
   ]
  },
  {
   "cell_type": "code",
   "execution_count": 14,
   "id": "1e398b63-407a-4c12-a996-0efe5e26c1d5",
   "metadata": {},
   "outputs": [
    {
     "data": {
      "text/plain": [
       "array([6, 9, 3, 7, 5, 1, 3, 4, 9, 6, 5, 7])"
      ]
     },
     "execution_count": 14,
     "metadata": {},
     "output_type": "execute_result"
    }
   ],
   "source": [
    "arr.flatten()"
   ]
  },
  {
   "cell_type": "code",
   "execution_count": 16,
   "id": "5341265b-8248-4a49-979e-9376ada7255e",
   "metadata": {},
   "outputs": [],
   "source": [
    "arr1 = np.array([1,2,3,3,4])"
   ]
  },
  {
   "cell_type": "markdown",
   "id": "d4c12dd8-2600-449b-9142-058ba46875bb",
   "metadata": {},
   "source": [
    "# "
   ]
  },
  {
   "cell_type": "code",
   "execution_count": 17,
   "id": "0d45058d-f1ff-49c5-867b-1983c64cb245",
   "metadata": {},
   "outputs": [
    {
     "data": {
      "text/plain": [
       "1"
      ]
     },
     "execution_count": 17,
     "metadata": {},
     "output_type": "execute_result"
    }
   ],
   "source": [
    "arr1.ndim"
   ]
  },
  {
   "cell_type": "code",
   "execution_count": 18,
   "id": "758e0a79-bff6-4f65-a014-a57a66c8f66b",
   "metadata": {},
   "outputs": [
    {
     "data": {
      "text/plain": [
       "array([[1],\n",
       "       [2],\n",
       "       [3],\n",
       "       [3],\n",
       "       [4]])"
      ]
     },
     "execution_count": 18,
     "metadata": {},
     "output_type": "execute_result"
    }
   ],
   "source": [
    "np.expand_dims(arr1 ,axis=1)"
   ]
  },
  {
   "cell_type": "code",
   "execution_count": 19,
   "id": "3dedaf9b-4ff1-404b-9161-24823ef761f9",
   "metadata": {},
   "outputs": [
    {
     "data": {
      "text/plain": [
       "array([[1, 2, 3, 3, 4]])"
      ]
     },
     "execution_count": 19,
     "metadata": {},
     "output_type": "execute_result"
    }
   ],
   "source": [
    "np.expand_dims(arr1 , axis=0)"
   ]
  },
  {
   "cell_type": "code",
   "execution_count": 20,
   "id": "6479d1be-9a13-4c1a-91d9-90b2cceb6908",
   "metadata": {},
   "outputs": [
    {
     "data": {
      "text/plain": [
       "array([[6, 9, 3, 7],\n",
       "       [5, 1, 3, 4],\n",
       "       [9, 6, 5, 7]])"
      ]
     },
     "execution_count": 20,
     "metadata": {},
     "output_type": "execute_result"
    }
   ],
   "source": [
    "np.squeeze(arr)"
   ]
  },
  {
   "cell_type": "code",
   "execution_count": 21,
   "id": "e9f15cd5-d985-4bd9-884d-936fc5e92635",
   "metadata": {},
   "outputs": [],
   "source": [
    "data = np.array([[1], [2], [3]])"
   ]
  },
  {
   "cell_type": "code",
   "execution_count": 22,
   "id": "25ac0dc5-51bf-457e-b434-745e9f74c853",
   "metadata": {},
   "outputs": [
    {
     "data": {
      "text/plain": [
       "array([[1],\n",
       "       [2],\n",
       "       [3]])"
      ]
     },
     "execution_count": 22,
     "metadata": {},
     "output_type": "execute_result"
    }
   ],
   "source": [
    "data"
   ]
  },
  {
   "cell_type": "code",
   "execution_count": 23,
   "id": "cc1d05bd-f2b3-41ba-9938-c3870babe775",
   "metadata": {},
   "outputs": [
    {
     "data": {
      "text/plain": [
       "array([1, 2, 3])"
      ]
     },
     "execution_count": 23,
     "metadata": {},
     "output_type": "execute_result"
    }
   ],
   "source": [
    "np.squeeze(data)"
   ]
  },
  {
   "cell_type": "code",
   "execution_count": 24,
   "id": "588f5885-9dfe-495e-87db-b31fa02375dd",
   "metadata": {},
   "outputs": [
    {
     "data": {
      "text/plain": [
       "array([1, 2, 3, 3, 4])"
      ]
     },
     "execution_count": 24,
     "metadata": {},
     "output_type": "execute_result"
    }
   ],
   "source": [
    "arr1"
   ]
  },
  {
   "cell_type": "code",
   "execution_count": 25,
   "id": "972320eb-4cb7-48dc-8669-7a64cd5b3963",
   "metadata": {},
   "outputs": [
    {
     "data": {
      "text/plain": [
       "array([1, 1, 1, 2, 2, 2, 3, 3, 3, 3, 3, 3, 4, 4, 4])"
      ]
     },
     "execution_count": 25,
     "metadata": {},
     "output_type": "execute_result"
    }
   ],
   "source": [
    "np.repeat(arr1 , 3)"
   ]
  },
  {
   "cell_type": "code",
   "execution_count": 26,
   "id": "4120bc11-55ef-4fc7-b04c-b257e9bc089a",
   "metadata": {},
   "outputs": [
    {
     "data": {
      "text/plain": [
       "array([3, 4, 1, 2, 3])"
      ]
     },
     "execution_count": 26,
     "metadata": {},
     "output_type": "execute_result"
    }
   ],
   "source": [
    "np.roll(arr1 ,2)"
   ]
  },
  {
   "cell_type": "code",
   "execution_count": 27,
   "id": "456f1e71-a17d-4b3c-8b4f-b193371a9073",
   "metadata": {},
   "outputs": [
    {
     "data": {
      "text/plain": [
       "array([1, 2, 3, 3, 4])"
      ]
     },
     "execution_count": 27,
     "metadata": {},
     "output_type": "execute_result"
    }
   ],
   "source": [
    "arr1"
   ]
  },
  {
   "cell_type": "code",
   "execution_count": 28,
   "id": "af178ef1-0273-46db-b499-7a89472136f6",
   "metadata": {},
   "outputs": [
    {
     "data": {
      "text/plain": [
       "array([[1, 0, 0, 0, 0],\n",
       "       [0, 2, 0, 0, 0],\n",
       "       [0, 0, 3, 0, 0],\n",
       "       [0, 0, 0, 3, 0],\n",
       "       [0, 0, 0, 0, 4]])"
      ]
     },
     "execution_count": 28,
     "metadata": {},
     "output_type": "execute_result"
    }
   ],
   "source": [
    "np.diag(arr1)"
   ]
  },
  {
   "cell_type": "code",
   "execution_count": 29,
   "id": "9a67ab22-6c38-4bfb-9c86-344592d18161",
   "metadata": {},
   "outputs": [],
   "source": [
    "#Numpy - Binary Operators"
   ]
  },
  {
   "cell_type": "code",
   "execution_count": 30,
   "id": "0785440d-a6d8-4c11-bd69-32ccd1b23668",
   "metadata": {},
   "outputs": [],
   "source": [
    "arr1 = np.random.randint(1,10 , (3,4))"
   ]
  },
  {
   "cell_type": "code",
   "execution_count": 31,
   "id": "8d5b8564-c82e-4f5b-976e-cc19a847eabf",
   "metadata": {},
   "outputs": [],
   "source": [
    "arr2 = np.random.randint(1,10 , (3,4))"
   ]
  },
  {
   "cell_type": "code",
   "execution_count": 32,
   "id": "1d786e54-0dba-416c-a95c-fcedc0f1430e",
   "metadata": {},
   "outputs": [
    {
     "data": {
      "text/plain": [
       "array([[7, 3, 2, 9],\n",
       "       [8, 3, 4, 5],\n",
       "       [4, 5, 1, 9]])"
      ]
     },
     "execution_count": 32,
     "metadata": {},
     "output_type": "execute_result"
    }
   ],
   "source": [
    "arr1"
   ]
  },
  {
   "cell_type": "code",
   "execution_count": 33,
   "id": "875d0723-313d-45b0-a96c-4a766f97e7a3",
   "metadata": {},
   "outputs": [
    {
     "data": {
      "text/plain": [
       "array([[1, 4, 7, 1],\n",
       "       [4, 5, 4, 3],\n",
       "       [8, 5, 5, 9]])"
      ]
     },
     "execution_count": 33,
     "metadata": {},
     "output_type": "execute_result"
    }
   ],
   "source": [
    "arr2"
   ]
  },
  {
   "cell_type": "code",
   "execution_count": 34,
   "id": "69811763-27c3-4334-9a99-5248552e0146",
   "metadata": {},
   "outputs": [
    {
     "data": {
      "text/plain": [
       "array([[ 8,  7,  9, 10],\n",
       "       [12,  8,  8,  8],\n",
       "       [12, 10,  6, 18]])"
      ]
     },
     "execution_count": 34,
     "metadata": {},
     "output_type": "execute_result"
    }
   ],
   "source": [
    "arr1+arr2"
   ]
  },
  {
   "cell_type": "code",
   "execution_count": 35,
   "id": "53075db1-f8c4-4023-895d-10672052c02d",
   "metadata": {},
   "outputs": [
    {
     "data": {
      "text/plain": [
       "array([[ 7, 12, 14,  9],\n",
       "       [32, 15, 16, 15],\n",
       "       [32, 25,  5, 81]])"
      ]
     },
     "execution_count": 35,
     "metadata": {},
     "output_type": "execute_result"
    }
   ],
   "source": [
    "arr1*arr2"
   ]
  },
  {
   "cell_type": "code",
   "execution_count": 36,
   "id": "c910a02a-ff7f-4d7d-961a-f26a48c8aab6",
   "metadata": {},
   "outputs": [
    {
     "data": {
      "text/plain": [
       "array([[7.        , 0.75      , 0.28571429, 9.        ],\n",
       "       [2.        , 0.6       , 1.        , 1.66666667],\n",
       "       [0.5       , 1.        , 0.2       , 1.        ]])"
      ]
     },
     "execution_count": 36,
     "metadata": {},
     "output_type": "execute_result"
    }
   ],
   "source": [
    "arr1/arr2"
   ]
  },
  {
   "cell_type": "code",
   "execution_count": 37,
   "id": "45f0ffce-5856-40a3-829e-e6e7bb2fbabc",
   "metadata": {},
   "outputs": [
    {
     "data": {
      "text/plain": [
       "array([[ 6, -1, -5,  8],\n",
       "       [ 4, -2,  0,  2],\n",
       "       [-4,  0, -4,  0]])"
      ]
     },
     "execution_count": 37,
     "metadata": {},
     "output_type": "execute_result"
    }
   ],
   "source": [
    "arr1-arr2"
   ]
  },
  {
   "cell_type": "code",
   "execution_count": 38,
   "id": "6f7747bd-4d84-4aee-bad7-232d9794b33c",
   "metadata": {},
   "outputs": [
    {
     "data": {
      "text/plain": [
       "array([[0, 3, 2, 0],\n",
       "       [0, 3, 0, 2],\n",
       "       [4, 0, 1, 0]])"
      ]
     },
     "execution_count": 38,
     "metadata": {},
     "output_type": "execute_result"
    }
   ],
   "source": [
    "arr1%arr2"
   ]
  },
  {
   "cell_type": "code",
   "execution_count": 40,
   "id": "5969689f-001d-4021-ae0d-0b62cd0c1160",
   "metadata": {},
   "outputs": [
    {
     "data": {
      "text/plain": [
       "array([[        7,        81,       128,         9],\n",
       "       [     4096,       243,       256,       125],\n",
       "       [    65536,      3125,         1, 387420489]])"
      ]
     },
     "execution_count": 40,
     "metadata": {},
     "output_type": "execute_result"
    }
   ],
   "source": [
    "arr1 ** arr2"
   ]
  },
  {
   "cell_type": "code",
   "execution_count": 42,
   "id": "1aa0c16c-3a37-45f0-8879-fa3d3fd3e904",
   "metadata": {},
   "outputs": [
    {
     "data": {
      "text/plain": [
       "array([[1, 0, 2, 1],\n",
       "       [0, 1, 4, 1],\n",
       "       [0, 5, 1, 9]])"
      ]
     },
     "execution_count": 42,
     "metadata": {},
     "output_type": "execute_result"
    }
   ],
   "source": [
    "arr1 & arr2"
   ]
  },
  {
   "cell_type": "code",
   "execution_count": 45,
   "id": "afad135b-3e7a-46a3-8c65-f421f5a9eed9",
   "metadata": {},
   "outputs": [
    {
     "data": {
      "text/plain": [
       "array([[1, 4, 7, 1],\n",
       "       [4, 5, 4, 3],\n",
       "       [8, 5, 5, 9]])"
      ]
     },
     "execution_count": 45,
     "metadata": {},
     "output_type": "execute_result"
    }
   ],
   "source": [
    "\n",
    "arr2"
   ]
  },
  {
   "cell_type": "code",
   "execution_count": 47,
   "id": "6dee945f-faa3-41e9-8f1d-5f86f6eacf1a",
   "metadata": {},
   "outputs": [
    {
     "data": {
      "text/plain": [
       "array([[-7, -3, -2, -9],\n",
       "       [-8, -3, -4, -5],\n",
       "       [-4, -5, -1, -9]])"
      ]
     },
     "execution_count": 47,
     "metadata": {},
     "output_type": "execute_result"
    }
   ],
   "source": [
    "-arr1                   #Negate operation"
   ]
  },
  {
   "cell_type": "markdown",
   "id": "99fe9658-7707-4d98-be1b-3715423bdf6b",
   "metadata": {},
   "source": []
  },
  {
   "cell_type": "code",
   "execution_count": 48,
   "id": "82aa6c3a-e188-4772-b6c5-38520dd52369",
   "metadata": {},
   "outputs": [
    {
     "data": {
      "text/plain": [
       "array([[ True, False, False,  True],\n",
       "       [ True, False, False,  True],\n",
       "       [False, False, False, False]])"
      ]
     },
     "execution_count": 48,
     "metadata": {},
     "output_type": "execute_result"
    }
   ],
   "source": [
    "arr1>arr2"
   ]
  },
  {
   "cell_type": "code",
   "execution_count": 49,
   "id": "86b6e6a9-32cb-4044-8e6c-e08ed8e75278",
   "metadata": {},
   "outputs": [],
   "source": [
    "#Numpy - String Function."
   ]
  },
  {
   "cell_type": "code",
   "execution_count": 50,
   "id": "915a8e95-1830-428f-88d1-c80897c00796",
   "metadata": {},
   "outputs": [
    {
     "data": {
      "text/plain": [
       "array(['subh', 'kumar'], dtype='<U5')"
      ]
     },
     "execution_count": 50,
     "metadata": {},
     "output_type": "execute_result"
    }
   ],
   "source": [
    "np.array(['subh', 'kumar' , ])"
   ]
  },
  {
   "cell_type": "code",
   "execution_count": 51,
   "id": "f4de0261-59c3-4bf0-948c-3a88173df8ec",
   "metadata": {},
   "outputs": [
    {
     "data": {
      "text/plain": [
       "array([[6, 9, 3, 7],\n",
       "       [5, 1, 3, 4],\n",
       "       [9, 6, 5, 7]])"
      ]
     },
     "execution_count": 51,
     "metadata": {},
     "output_type": "execute_result"
    }
   ],
   "source": [
    "arr"
   ]
  },
  {
   "cell_type": "code",
   "execution_count": 59,
   "id": "057a0196-d3cd-42e2-8702-0bb2121e9df0",
   "metadata": {},
   "outputs": [],
   "source": [
    "#Numpy  Mathematical Function."
   ]
  },
  {
   "cell_type": "code",
   "execution_count": 60,
   "id": "bc47ff5e-66eb-4f88-bb5d-0a75fbeb2eee",
   "metadata": {},
   "outputs": [
    {
     "data": {
      "text/plain": [
       "array([[7, 3, 2, 9],\n",
       "       [8, 3, 4, 5],\n",
       "       [4, 5, 1, 9]])"
      ]
     },
     "execution_count": 60,
     "metadata": {},
     "output_type": "execute_result"
    }
   ],
   "source": [
    "arr1"
   ]
  },
  {
   "cell_type": "code",
   "execution_count": 61,
   "id": "405c0f99-a8a3-4efe-8243-85645c888c8f",
   "metadata": {},
   "outputs": [
    {
     "data": {
      "text/plain": [
       "array([[ 0.6569866 ,  0.14112001,  0.90929743,  0.41211849],\n",
       "       [ 0.98935825,  0.14112001, -0.7568025 , -0.95892427],\n",
       "       [-0.7568025 , -0.95892427,  0.84147098,  0.41211849]])"
      ]
     },
     "execution_count": 61,
     "metadata": {},
     "output_type": "execute_result"
    }
   ],
   "source": [
    "np.sin(arr1)"
   ]
  },
  {
   "cell_type": "code",
   "execution_count": 62,
   "id": "8435aa1f-139a-4e03-9afa-a3f8bcee3ac5",
   "metadata": {},
   "outputs": [
    {
     "data": {
      "text/plain": [
       "array([[ 0.87144798, -0.14254654, -2.18503986, -0.45231566],\n",
       "       [-6.79971146, -0.14254654,  1.15782128, -3.38051501],\n",
       "       [ 1.15782128, -3.38051501,  1.55740772, -0.45231566]])"
      ]
     },
     "execution_count": 62,
     "metadata": {},
     "output_type": "execute_result"
    }
   ],
   "source": [
    "np.tan(arr1)"
   ]
  },
  {
   "cell_type": "code",
   "execution_count": 63,
   "id": "f4efb6c4-a284-45b6-af37-949bf8a85e6f",
   "metadata": {},
   "outputs": [
    {
     "data": {
      "text/plain": [
       "array([[0.99999834, 0.99505475, 0.96402758, 0.99999997],\n",
       "       [0.99999977, 0.99505475, 0.9993293 , 0.9999092 ],\n",
       "       [0.9993293 , 0.9999092 , 0.76159416, 0.99999997]])"
      ]
     },
     "execution_count": 63,
     "metadata": {},
     "output_type": "execute_result"
    }
   ],
   "source": [
    "np.tanh(arr1)"
   ]
  },
  {
   "cell_type": "code",
   "execution_count": 64,
   "id": "79aa59ca-2a68-4caf-8f4e-88a875de458e",
   "metadata": {},
   "outputs": [
    {
     "data": {
      "text/plain": [
       "array([[0.84509804, 0.47712125, 0.30103   , 0.95424251],\n",
       "       [0.90308999, 0.47712125, 0.60205999, 0.69897   ],\n",
       "       [0.60205999, 0.69897   , 0.        , 0.95424251]])"
      ]
     },
     "execution_count": 64,
     "metadata": {},
     "output_type": "execute_result"
    }
   ],
   "source": [
    "np.log10(arr1)"
   ]
  },
  {
   "cell_type": "code",
   "execution_count": 65,
   "id": "0ec32b81-87d2-4667-bb21-5f66afa7e9d8",
   "metadata": {},
   "outputs": [
    {
     "data": {
      "text/plain": [
       "array([[1.09663316e+03, 2.00855369e+01, 7.38905610e+00, 8.10308393e+03],\n",
       "       [2.98095799e+03, 2.00855369e+01, 5.45981500e+01, 1.48413159e+02],\n",
       "       [5.45981500e+01, 1.48413159e+02, 2.71828183e+00, 8.10308393e+03]])"
      ]
     },
     "execution_count": 65,
     "metadata": {},
     "output_type": "execute_result"
    }
   ],
   "source": [
    "np.exp(arr1)"
   ]
  },
  {
   "cell_type": "code",
   "execution_count": 66,
   "id": "072795d5-1565-4293-b44c-6405a52421d1",
   "metadata": {},
   "outputs": [
    {
     "data": {
      "text/plain": [
       "array([[2.64575131, 1.73205081, 1.41421356, 3.        ],\n",
       "       [2.82842712, 1.73205081, 2.        , 2.23606798],\n",
       "       [2.        , 2.23606798, 1.        , 3.        ]])"
      ]
     },
     "execution_count": 66,
     "metadata": {},
     "output_type": "execute_result"
    }
   ],
   "source": [
    "np.sqrt(arr1)"
   ]
  },
  {
   "cell_type": "code",
   "execution_count": 67,
   "id": "32357664-ed0f-4933-98bc-27974190f28f",
   "metadata": {},
   "outputs": [
    {
     "data": {
      "text/plain": [
       "array([[49,  9,  4, 81],\n",
       "       [64,  9, 16, 25],\n",
       "       [16, 25,  1, 81]])"
      ]
     },
     "execution_count": 67,
     "metadata": {},
     "output_type": "execute_result"
    }
   ],
   "source": [
    "np.power(arr1,2)"
   ]
  },
  {
   "cell_type": "code",
   "execution_count": 68,
   "id": "4237fbaa-9315-4c78-a9af-474c221b4561",
   "metadata": {},
   "outputs": [
    {
     "data": {
      "text/plain": [
       "5.0"
      ]
     },
     "execution_count": 68,
     "metadata": {},
     "output_type": "execute_result"
    }
   ],
   "source": [
    "np.mean(arr1)"
   ]
  },
  {
   "cell_type": "code",
   "execution_count": 70,
   "id": "cb79daa5-fcc8-41ff-ba14-a440ba873787",
   "metadata": {},
   "outputs": [
    {
     "data": {
      "text/plain": [
       "4.5"
      ]
     },
     "execution_count": 70,
     "metadata": {},
     "output_type": "execute_result"
    }
   ],
   "source": [
    "np.median(arr1)"
   ]
  },
  {
   "cell_type": "code",
   "execution_count": 71,
   "id": "adda6439-adb8-44b5-8590-44d72c6aef31",
   "metadata": {},
   "outputs": [
    {
     "data": {
      "text/plain": [
       "2.581988897471611"
      ]
     },
     "execution_count": 71,
     "metadata": {},
     "output_type": "execute_result"
    }
   ],
   "source": [
    "np.std(arr1)"
   ]
  },
  {
   "cell_type": "code",
   "execution_count": 72,
   "id": "d111b8e3-8e26-48ac-b7e5-4572c96c2eba",
   "metadata": {},
   "outputs": [
    {
     "data": {
      "text/plain": [
       "6.666666666666667"
      ]
     },
     "execution_count": 72,
     "metadata": {},
     "output_type": "execute_result"
    }
   ],
   "source": [
    "np.var(arr1)"
   ]
  },
  {
   "cell_type": "code",
   "execution_count": 73,
   "id": "411b47da-131d-431a-af18-a0eb254506d0",
   "metadata": {},
   "outputs": [
    {
     "data": {
      "text/plain": [
       "1"
      ]
     },
     "execution_count": 73,
     "metadata": {},
     "output_type": "execute_result"
    }
   ],
   "source": [
    "np.min(arr1)"
   ]
  },
  {
   "cell_type": "code",
   "execution_count": 75,
   "id": "3dfd0d06-962a-43e9-abae-490bbc159c35",
   "metadata": {},
   "outputs": [
    {
     "data": {
      "text/plain": [
       "9"
      ]
     },
     "execution_count": 75,
     "metadata": {},
     "output_type": "execute_result"
    }
   ],
   "source": [
    "np.max(arr1)"
   ]
  },
  {
   "cell_type": "code",
   "execution_count": null,
   "id": "fbbac7dc-1d27-48e1-8b24-44e027262ecb",
   "metadata": {},
   "outputs": [],
   "source": []
  }
 ],
 "metadata": {
  "kernelspec": {
   "display_name": "Python 3 (ipykernel)",
   "language": "python",
   "name": "python3"
  },
  "language_info": {
   "codemirror_mode": {
    "name": "ipython",
    "version": 3
   },
   "file_extension": ".py",
   "mimetype": "text/x-python",
   "name": "python",
   "nbconvert_exporter": "python",
   "pygments_lexer": "ipython3",
   "version": "3.10.8"
  }
 },
 "nbformat": 4,
 "nbformat_minor": 5
}
