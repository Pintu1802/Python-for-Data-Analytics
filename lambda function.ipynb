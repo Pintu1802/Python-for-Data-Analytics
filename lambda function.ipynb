{
 "cells": [
  {
   "cell_type": "code",
   "execution_count": 1,
   "id": "35a631ae-859a-4d5a-8aa6-2de074d50540",
   "metadata": {},
   "outputs": [],
   "source": [
    "n = 3\n",
    "p = 2"
   ]
  },
  {
   "cell_type": "code",
   "execution_count": 2,
   "id": "7dfd978c-dc1b-4597-9aa9-bd8bdad0c7ab",
   "metadata": {},
   "outputs": [],
   "source": [
    "def test(n,p):\n",
    "    return n**p"
   ]
  },
  {
   "cell_type": "code",
   "execution_count": 3,
   "id": "a0383e0b-1c5d-4537-87ab-4467ac891d03",
   "metadata": {},
   "outputs": [
    {
     "data": {
      "text/plain": [
       "9"
      ]
     },
     "execution_count": 3,
     "metadata": {},
     "output_type": "execute_result"
    }
   ],
   "source": [
    "test(3,2)"
   ]
  },
  {
   "cell_type": "code",
   "execution_count": 13,
   "id": "2fb79e8f-757a-40a6-8868-aa02ecef03b5",
   "metadata": {},
   "outputs": [
    {
     "data": {
      "text/plain": [
       "<function __main__.<lambda>(n, p)>"
      ]
     },
     "execution_count": 13,
     "metadata": {},
     "output_type": "execute_result"
    }
   ],
   "source": [
    "lambda n,p : n**p"
   ]
  },
  {
   "cell_type": "code",
   "execution_count": 14,
   "id": "80f8e76e-c1a7-4020-9f70-1ac474fe3747",
   "metadata": {},
   "outputs": [],
   "source": [
    "a = lambda n,p : n**p"
   ]
  },
  {
   "cell_type": "code",
   "execution_count": 15,
   "id": "f55d1c03-53c6-4926-8023-9003c5435272",
   "metadata": {},
   "outputs": [
    {
     "data": {
      "text/plain": [
       "9"
      ]
     },
     "execution_count": 15,
     "metadata": {},
     "output_type": "execute_result"
    }
   ],
   "source": [
    "a(3,2)"
   ]
  },
  {
   "cell_type": "code",
   "execution_count": 18,
   "id": "26aab6a2-e7f8-4f8c-9777-490e6ecf6a32",
   "metadata": {},
   "outputs": [],
   "source": [
    "add =lambda x,y :x+y"
   ]
  },
  {
   "cell_type": "code",
   "execution_count": 19,
   "id": "199442e1-0f56-4e90-9b6f-81371065ef84",
   "metadata": {},
   "outputs": [
    {
     "data": {
      "text/plain": [
       "9"
      ]
     },
     "execution_count": 19,
     "metadata": {},
     "output_type": "execute_result"
    }
   ],
   "source": [
    "add(4,5)"
   ]
  },
  {
   "cell_type": "code",
   "execution_count": 21,
   "id": "2828f51d-55fc-4608-ba20-27b287a2aca9",
   "metadata": {},
   "outputs": [],
   "source": [
    "# convert celsius to fahrenhiet\n",
    "c_to_f = lambda c : (9/5)*c + 32\n"
   ]
  },
  {
   "cell_type": "code",
   "execution_count": 22,
   "id": "ceb5e93d-d71c-4ac1-b397-d17e360e9447",
   "metadata": {},
   "outputs": [
    {
     "data": {
      "text/plain": [
       "113.0"
      ]
     },
     "execution_count": 22,
     "metadata": {},
     "output_type": "execute_result"
    }
   ],
   "source": [
    "c_to_f(45)"
   ]
  },
  {
   "cell_type": "code",
   "execution_count": 23,
   "id": "1852dbf3-73ab-4737-99d2-aefad510e6b0",
   "metadata": {},
   "outputs": [],
   "source": [
    "finding_max = lambda x,y : x if x>y else y"
   ]
  },
  {
   "cell_type": "code",
   "execution_count": 24,
   "id": "02d3cacb-b085-4af4-aef8-3e0d08b7fc42",
   "metadata": {},
   "outputs": [
    {
     "data": {
      "text/plain": [
       "56"
      ]
     },
     "execution_count": 24,
     "metadata": {},
     "output_type": "execute_result"
    }
   ],
   "source": [
    "finding_max(45,56)"
   ]
  },
  {
   "cell_type": "code",
   "execution_count": 27,
   "id": "26ff89ba-44d4-450f-b08a-45a7d05d56b2",
   "metadata": {},
   "outputs": [],
   "source": [
    "s = \"pwskills\""
   ]
  },
  {
   "cell_type": "code",
   "execution_count": 29,
   "id": "911e6322-2e9a-4372-bc53-1465e5a10368",
   "metadata": {},
   "outputs": [],
   "source": [
    "# write a lambda function to return length of string\n",
    "find_len = lambda s : len(s)"
   ]
  },
  {
   "cell_type": "code",
   "execution_count": 30,
   "id": "0c799d81-4c7f-4cc9-b43e-63606e7ae93a",
   "metadata": {},
   "outputs": [
    {
     "data": {
      "text/plain": [
       "8"
      ]
     },
     "execution_count": 30,
     "metadata": {},
     "output_type": "execute_result"
    }
   ],
   "source": [
    "find_len(s)\n"
   ]
  },
  {
   "cell_type": "code",
   "execution_count": null,
   "id": "5512e12e-ed13-41ac-b3a5-9a030ea4d4b8",
   "metadata": {},
   "outputs": [],
   "source": []
  }
 ],
 "metadata": {
  "kernelspec": {
   "display_name": "Python 3 (ipykernel)",
   "language": "python",
   "name": "python3"
  },
  "language_info": {
   "codemirror_mode": {
    "name": "ipython",
    "version": 3
   },
   "file_extension": ".py",
   "mimetype": "text/x-python",
   "name": "python",
   "nbconvert_exporter": "python",
   "pygments_lexer": "ipython3",
   "version": "3.10.8"
  }
 },
 "nbformat": 4,
 "nbformat_minor": 5
}
