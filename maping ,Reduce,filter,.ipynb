{
 "cells": [
  {
   "cell_type": "code",
   "execution_count": 20,
   "id": "1d38c341-f08b-4c47-adde-6e66c9bb3006",
   "metadata": {},
   "outputs": [],
   "source": [
    "# Maping function"
   ]
  },
  {
   "cell_type": "code",
   "execution_count": 1,
   "id": "a7b5c71c-1c8f-40db-acfb-b2d48fa1bbe9",
   "metadata": {},
   "outputs": [],
   "source": [
    "l = [2,3,4,5,6]"
   ]
  },
  {
   "cell_type": "code",
   "execution_count": 2,
   "id": "5f10f098-77da-4a2c-bec2-1cd07e8fc44a",
   "metadata": {},
   "outputs": [],
   "source": [
    "def test(l):\n",
    "    l1 = []\n",
    "    for i in l :\n",
    "        l1.append(i**2)\n",
    "    return l1\n",
    "                 "
   ]
  },
  {
   "cell_type": "code",
   "execution_count": 3,
   "id": "06465cb8-baef-47e1-9595-0fabe36d08bd",
   "metadata": {},
   "outputs": [
    {
     "data": {
      "text/plain": [
       "[4, 9, 16, 25, 36]"
      ]
     },
     "execution_count": 3,
     "metadata": {},
     "output_type": "execute_result"
    }
   ],
   "source": [
    "test(l)"
   ]
  },
  {
   "cell_type": "code",
   "execution_count": 4,
   "id": "5f20a17f-40cb-4ea4-842e-e833c61143ad",
   "metadata": {},
   "outputs": [],
   "source": [
    "def sq(x):\n",
    "    return x**2"
   ]
  },
  {
   "cell_type": "code",
   "execution_count": 5,
   "id": "e4ed5610-b421-49de-adc1-6775ee6bd958",
   "metadata": {},
   "outputs": [
    {
     "data": {
      "text/plain": [
       "[4, 9, 16, 25, 36]"
      ]
     },
     "execution_count": 5,
     "metadata": {},
     "output_type": "execute_result"
    }
   ],
   "source": [
    "list(map(sq , l))"
   ]
  },
  {
   "cell_type": "code",
   "execution_count": 7,
   "id": "941273e3-18c0-4c97-9fbc-546888b7b560",
   "metadata": {},
   "outputs": [
    {
     "data": {
      "text/plain": [
       "[4, 9, 16, 25, 36]"
      ]
     },
     "execution_count": 7,
     "metadata": {},
     "output_type": "execute_result"
    }
   ],
   "source": [
    "list(map(lambda x : x**2 , l))"
   ]
  },
  {
   "cell_type": "code",
   "execution_count": 8,
   "id": "4a123dcc-d4b9-411a-9742-aac9782c6d5b",
   "metadata": {},
   "outputs": [
    {
     "data": {
      "text/plain": [
       "[7, 9, 11, 13, 15]"
      ]
     },
     "execution_count": 8,
     "metadata": {},
     "output_type": "execute_result"
    }
   ],
   "source": [
    "l1 = [1,2,3,4,5]\n",
    "l2 = [6,7,8,9,10]\n",
    "\n",
    "list(map(lambda x ,y : x+y , l1 ,l2))"
   ]
  },
  {
   "cell_type": "code",
   "execution_count": 9,
   "id": "3d8bdc59-a280-4a1b-adac-92221ec5fbe2",
   "metadata": {},
   "outputs": [],
   "source": [
    "def add(x,y) :\n",
    "    return x+y"
   ]
  },
  {
   "cell_type": "code",
   "execution_count": 12,
   "id": "dccc3ae4-a489-4253-994e-c03805287e37",
   "metadata": {},
   "outputs": [
    {
     "data": {
      "text/plain": [
       "[7, 9, 11, 13, 15]"
      ]
     },
     "execution_count": 12,
     "metadata": {},
     "output_type": "execute_result"
    }
   ],
   "source": [
    "list(map(add , l1 , l2))"
   ]
  },
  {
   "cell_type": "code",
   "execution_count": 14,
   "id": "7a423263-35ff-4660-8f76-212e50a17315",
   "metadata": {},
   "outputs": [
    {
     "data": {
      "text/plain": [
       "['P', 'W', 'S', 'K', 'I', 'L', 'L', 'S']"
      ]
     },
     "execution_count": 14,
     "metadata": {},
     "output_type": "execute_result"
    }
   ],
   "source": [
    "s = \"pwskills\"\n",
    "list(map(lambda s : s.upper(),s))"
   ]
  },
  {
   "cell_type": "code",
   "execution_count": 18,
   "id": "417ad62c-4206-4019-b563-53d51fa8483c",
   "metadata": {},
   "outputs": [
    {
     "data": {
      "text/plain": [
       "['P', 'I', 'N', 'T', 'U']"
      ]
     },
     "execution_count": 18,
     "metadata": {},
     "output_type": "execute_result"
    }
   ],
   "source": [
    "p = \"pintu\"\n",
    "list(map (lambda p: p.upper() ,p ))"
   ]
  },
  {
   "cell_type": "code",
   "execution_count": 19,
   "id": "c305e984-62d0-4e12-a612-92680dd1ef11",
   "metadata": {},
   "outputs": [
    {
     "data": {
      "text/plain": [
       "['p', 'i', 'n', 't', 'u']"
      ]
     },
     "execution_count": 19,
     "metadata": {},
     "output_type": "execute_result"
    }
   ],
   "source": [
    "p = \"PINTU\"\n",
    "list(map (lambda p: p.lower() ,p ))"
   ]
  },
  {
   "cell_type": "code",
   "execution_count": 21,
   "id": "e1cbf2c2-68be-4bb5-8682-d5abd688f689",
   "metadata": {},
   "outputs": [],
   "source": [
    "# Reduse function"
   ]
  },
  {
   "cell_type": "code",
   "execution_count": 23,
   "id": "6d69bf87-d177-42e4-af93-a1e4f2b19948",
   "metadata": {},
   "outputs": [],
   "source": [
    "from functools import reduce"
   ]
  },
  {
   "cell_type": "code",
   "execution_count": 27,
   "id": "aacd5ba4-3293-4349-97da-3b97d2eecf21",
   "metadata": {},
   "outputs": [],
   "source": [
    "l = [1,2,3,4,5]"
   ]
  },
  {
   "cell_type": "code",
   "execution_count": 34,
   "id": "8c471e90-4cdf-4035-ba3c-072a994aaef7",
   "metadata": {},
   "outputs": [
    {
     "data": {
      "text/plain": [
       "15"
      ]
     },
     "execution_count": 34,
     "metadata": {},
     "output_type": "execute_result"
    }
   ],
   "source": [
    "reduce(lambda x , y : x+y , l)"
   ]
  },
  {
   "cell_type": "code",
   "execution_count": 41,
   "id": "17964f97-b8d1-4da3-abe4-19c90782b817",
   "metadata": {},
   "outputs": [
    {
     "ename": "TypeError",
     "evalue": "<lambda>() missing 1 required positional argument: 'z'",
     "output_type": "error",
     "traceback": [
      "\u001b[0;31m---------------------------------------------------------------------------\u001b[0m",
      "\u001b[0;31mTypeError\u001b[0m                                 Traceback (most recent call last)",
      "Cell \u001b[0;32mIn[41], line 1\u001b[0m\n\u001b[0;32m----> 1\u001b[0m \u001b[43mreduce\u001b[49m\u001b[43m(\u001b[49m\u001b[38;5;28;43;01mlambda\u001b[39;49;00m\u001b[43m \u001b[49m\u001b[43mx\u001b[49m\u001b[43m \u001b[49m\u001b[43m,\u001b[49m\u001b[43m \u001b[49m\u001b[43my\u001b[49m\u001b[43m \u001b[49m\u001b[43m,\u001b[49m\u001b[43mz\u001b[49m\u001b[43m \u001b[49m\u001b[43m:\u001b[49m\u001b[43m \u001b[49m\u001b[43mx\u001b[49m\u001b[38;5;241;43m+\u001b[39;49m\u001b[43my\u001b[49m\u001b[38;5;241;43m+\u001b[39;49m\u001b[43mz\u001b[49m\u001b[43m \u001b[49m\u001b[43m,\u001b[49m\u001b[43m \u001b[49m\u001b[43ml\u001b[49m\u001b[43m)\u001b[49m   \u001b[38;5;66;03m# you can not three paramiter pass in reduce function\u001b[39;00m\n",
      "\u001b[0;31mTypeError\u001b[0m: <lambda>() missing 1 required positional argument: 'z'"
     ]
    }
   ],
   "source": [
    "reduce(lambda x , y ,z : x+y+z , l)   # you can not three paramiter pass in reduce function"
   ]
  },
  {
   "cell_type": "code",
   "execution_count": 42,
   "id": "bfa97117-5771-4e85-993f-c47bd3d494cf",
   "metadata": {},
   "outputs": [
    {
     "ename": "TypeError",
     "evalue": "reduce() of empty iterable with no initial value",
     "output_type": "error",
     "traceback": [
      "\u001b[0;31m---------------------------------------------------------------------------\u001b[0m",
      "\u001b[0;31mTypeError\u001b[0m                                 Traceback (most recent call last)",
      "Cell \u001b[0;32mIn[42], line 1\u001b[0m\n\u001b[0;32m----> 1\u001b[0m \u001b[43mreduce\u001b[49m\u001b[43m(\u001b[49m\u001b[38;5;28;43;01mlambda\u001b[39;49;00m\u001b[43m \u001b[49m\u001b[43mx\u001b[49m\u001b[43m \u001b[49m\u001b[43m,\u001b[49m\u001b[43m \u001b[49m\u001b[43my\u001b[49m\u001b[43m \u001b[49m\u001b[43m:\u001b[49m\u001b[43m \u001b[49m\u001b[43mx\u001b[49m\u001b[38;5;241;43m+\u001b[39;49m\u001b[43my\u001b[49m\u001b[43m \u001b[49m\u001b[43m,\u001b[49m\u001b[43m \u001b[49m\u001b[43m[\u001b[49m\u001b[43m]\u001b[49m\u001b[43m)\u001b[49m\n",
      "\u001b[0;31mTypeError\u001b[0m: reduce() of empty iterable with no initial value"
     ]
    }
   ],
   "source": [
    "reduce(lambda x , y : x+y , [])"
   ]
  },
  {
   "cell_type": "code",
   "execution_count": 43,
   "id": "816aece2-6a07-4525-8bad-89138593ebb7",
   "metadata": {},
   "outputs": [
    {
     "data": {
      "text/plain": [
       "[1, 2, 3, 4, 5]"
      ]
     },
     "execution_count": 43,
     "metadata": {},
     "output_type": "execute_result"
    }
   ],
   "source": [
    "reduce(lambda x, y : x_y ,[l])"
   ]
  },
  {
   "cell_type": "code",
   "execution_count": 44,
   "id": "ae54d851-0107-47e4-8949-6aefbcdf7982",
   "metadata": {},
   "outputs": [
    {
     "data": {
      "text/plain": [
       "15"
      ]
     },
     "execution_count": 44,
     "metadata": {},
     "output_type": "execute_result"
    }
   ],
   "source": [
    "reduce(lambda x, y : x+y ,l)"
   ]
  },
  {
   "cell_type": "code",
   "execution_count": 45,
   "id": "e6df6244-e38e-4850-b144-8e2932c9fbcf",
   "metadata": {},
   "outputs": [
    {
     "data": {
      "text/plain": [
       "[1, 2, 3, 4, 5]"
      ]
     },
     "execution_count": 45,
     "metadata": {},
     "output_type": "execute_result"
    }
   ],
   "source": [
    "l"
   ]
  },
  {
   "cell_type": "code",
   "execution_count": 48,
   "id": "add6b738-2107-4336-9768-d2e915469b0b",
   "metadata": {},
   "outputs": [
    {
     "data": {
      "text/plain": [
       "5"
      ]
     },
     "execution_count": 48,
     "metadata": {},
     "output_type": "execute_result"
    }
   ],
   "source": [
    "reduce(lambda x,y : x if x>y else y,l)"
   ]
  },
  {
   "cell_type": "code",
   "execution_count": 50,
   "id": "04e77b23-e63a-4668-966d-da6604654c52",
   "metadata": {},
   "outputs": [
    {
     "data": {
      "text/plain": [
       "[1, 2, 3, 4, 5]"
      ]
     },
     "execution_count": 50,
     "metadata": {},
     "output_type": "execute_result"
    }
   ],
   "source": [
    "l"
   ]
  },
  {
   "cell_type": "code",
   "execution_count": 51,
   "id": "b85c7b24-367f-47a9-932b-6f539cea5164",
   "metadata": {},
   "outputs": [],
   "source": [
    "# Filter function"
   ]
  },
  {
   "cell_type": "code",
   "execution_count": 53,
   "id": "83f6fd2e-9150-4c8f-9506-e90369ee324c",
   "metadata": {},
   "outputs": [
    {
     "ename": "TypeError",
     "evalue": "'int' object is not iterable",
     "output_type": "error",
     "traceback": [
      "\u001b[0;31m---------------------------------------------------------------------------\u001b[0m",
      "\u001b[0;31mTypeError\u001b[0m                                 Traceback (most recent call last)",
      "Cell \u001b[0;32mIn[53], line 1\u001b[0m\n\u001b[0;32m----> 1\u001b[0m \u001b[38;5;28mlist\u001b[39m(\u001b[38;5;28;43mfilter\u001b[39;49m\u001b[43m(\u001b[49m\u001b[38;5;28;43;01mlambda\u001b[39;49;00m\u001b[43m \u001b[49m\u001b[43mx\u001b[49m\u001b[43m \u001b[49m\u001b[43m:\u001b[49m\u001b[43m \u001b[49m\u001b[43mx\u001b[49m\u001b[43m \u001b[49m\u001b[38;5;241;43m%\u001b[39;49m\u001b[43m \u001b[49m\u001b[38;5;241;43m2\u001b[39;49m\u001b[43m \u001b[49m\u001b[38;5;241;43m==\u001b[39;49m\u001b[43m \u001b[49m\u001b[38;5;241;43m0\u001b[39;49m\u001b[43m \u001b[49m\u001b[43m,\u001b[49m\u001b[43m \u001b[49m\u001b[38;5;241;43m1\u001b[39;49m\u001b[43m)\u001b[49m)\n",
      "\u001b[0;31mTypeError\u001b[0m: 'int' object is not iterable"
     ]
    }
   ],
   "source": [
    "list(filter(lambda x : x % 2 == 0 , 1))"
   ]
  },
  {
   "cell_type": "code",
   "execution_count": 55,
   "id": "2ad5f247-28ca-4938-a648-c5c164ed2181",
   "metadata": {},
   "outputs": [
    {
     "data": {
      "text/plain": [
       "[2, 4]"
      ]
     },
     "execution_count": 55,
     "metadata": {},
     "output_type": "execute_result"
    }
   ],
   "source": [
    "list(filter(lambda x : x % 2 == 0 , l))"
   ]
  },
  {
   "cell_type": "code",
   "execution_count": 58,
   "id": "58064465-0399-4ec8-8c9a-3fa1e4dad429",
   "metadata": {},
   "outputs": [
    {
     "data": {
      "text/plain": [
       "[1, 3, 5]"
      ]
     },
     "execution_count": 58,
     "metadata": {},
     "output_type": "execute_result"
    }
   ],
   "source": [
    "list(filter(lambda x : x % 2 != 0 ,l))"
   ]
  },
  {
   "cell_type": "code",
   "execution_count": 59,
   "id": "43fe2d09-016b-4199-a758-06345bad4596",
   "metadata": {},
   "outputs": [],
   "source": [
    "l1 = [-1,2,3,-4,-5,6]"
   ]
  },
  {
   "cell_type": "code",
   "execution_count": 61,
   "id": "5107d48a-0533-4055-a725-a9b18b3e5959",
   "metadata": {},
   "outputs": [
    {
     "data": {
      "text/plain": [
       "[-1, -4, -5]"
      ]
     },
     "execution_count": 61,
     "metadata": {},
     "output_type": "execute_result"
    }
   ],
   "source": [
    "list(filter(lambda x : x <0,l1))"
   ]
  },
  {
   "cell_type": "code",
   "execution_count": 62,
   "id": "f5cdd7cb-eb1e-4db1-b40e-f820dc867d38",
   "metadata": {},
   "outputs": [],
   "source": [
    "l2 = [\"pintu\" , \"pwskills\", \"kumar\", \"krish\"]"
   ]
  },
  {
   "cell_type": "code",
   "execution_count": 66,
   "id": "7018f23a-95a4-4637-b018-eee49f630e68",
   "metadata": {},
   "outputs": [
    {
     "data": {
      "text/plain": [
       "['pintu', 'kumar', 'krish']"
      ]
     },
     "execution_count": 66,
     "metadata": {},
     "output_type": "execute_result"
    }
   ],
   "source": [
    "list(filter(lambda x : len(x) < 6, l2))"
   ]
  },
  {
   "cell_type": "code",
   "execution_count": null,
   "id": "f07206c0-4ee9-4f68-a2d2-9b0ad97817c7",
   "metadata": {},
   "outputs": [],
   "source": []
  }
 ],
 "metadata": {
  "kernelspec": {
   "display_name": "Python 3 (ipykernel)",
   "language": "python",
   "name": "python3"
  },
  "language_info": {
   "codemirror_mode": {
    "name": "ipython",
    "version": 3
   },
   "file_extension": ".py",
   "mimetype": "text/x-python",
   "name": "python",
   "nbconvert_exporter": "python",
   "pygments_lexer": "ipython3",
   "version": "3.10.8"
  }
 },
 "nbformat": 4,
 "nbformat_minor": 5
}
