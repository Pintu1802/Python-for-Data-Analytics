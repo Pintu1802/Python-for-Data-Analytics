{
 "cells": [
  {
   "cell_type": "markdown",
   "id": "bf13d40a-a664-482e-8060-86bfa4a22aac",
   "metadata": {},
   "source": [
    " Oops types\n",
    "    \n",
    "    1.polymorphism"
   ]
  },
  {
   "cell_type": "code",
   "execution_count": 1,
   "id": "c2ab25dc-bd68-4916-a87c-96e2ff15bcd5",
   "metadata": {},
   "outputs": [],
   "source": [
    "def test(a , b):\n",
    "    return a+b"
   ]
  },
  {
   "cell_type": "code",
   "execution_count": 2,
   "id": "b77172da-bf54-40b7-8713-cb3ed5a1233b",
   "metadata": {},
   "outputs": [
    {
     "data": {
      "text/plain": [
       "7"
      ]
     },
     "execution_count": 2,
     "metadata": {},
     "output_type": "execute_result"
    }
   ],
   "source": [
    "test(3,4)"
   ]
  },
  {
   "cell_type": "code",
   "execution_count": 3,
   "id": "8e2dc137-53ac-44fa-b861-ecfeecd33b8d",
   "metadata": {},
   "outputs": [
    {
     "data": {
      "text/plain": [
       "'subh kumar '"
      ]
     },
     "execution_count": 3,
     "metadata": {},
     "output_type": "execute_result"
    }
   ],
   "source": [
    "test(\"subh \" ,\"kumar \")"
   ]
  },
  {
   "cell_type": "code",
   "execution_count": 4,
   "id": "2620e379-f6c9-4ced-a497-54acaa1c0609",
   "metadata": {},
   "outputs": [
    {
     "data": {
      "text/plain": [
       "[3, 4, 5, 6, 45, 678, 67]"
      ]
     },
     "execution_count": 4,
     "metadata": {},
     "output_type": "execute_result"
    }
   ],
   "source": [
    "test([3,4,5,6],[45,678,67])"
   ]
  },
  {
   "cell_type": "code",
   "execution_count": 5,
   "id": "8ffaeb6a-ec68-47ce-b408-c839c9d49ef8",
   "metadata": {},
   "outputs": [],
   "source": [
    "class data_science:\n",
    "    \n",
    "    def syllabus(self):\n",
    "        print(\"this is my syllabus for data science masters\")\n",
    "    "
   ]
  },
  {
   "cell_type": "code",
   "execution_count": 6,
   "id": "a81ac9c5-14a0-4034-8a68-138808a245cf",
   "metadata": {},
   "outputs": [],
   "source": [
    "class web_dev:\n",
    "    \n",
    "    def syllabus(self):\n",
    "        print(\"this is my syllabus for web dev\")"
   ]
  },
  {
   "cell_type": "code",
   "execution_count": 7,
   "id": "c9e3d170-27e8-41df-9e18-70612d00f764",
   "metadata": {},
   "outputs": [],
   "source": [
    "def class_parcer(class_obj):\n",
    "    for i in class_obj:\n",
    "        i.syllabus()    "
   ]
  },
  {
   "cell_type": "code",
   "execution_count": 8,
   "id": "39c0cd6d-c47e-4b0d-bd3c-97fa9cbc63cb",
   "metadata": {},
   "outputs": [],
   "source": [
    "data_science = data_science()"
   ]
  },
  {
   "cell_type": "code",
   "execution_count": 9,
   "id": "b802cb17-355e-413d-b7ab-07582940567c",
   "metadata": {},
   "outputs": [],
   "source": [
    "web_dev = web_dev()"
   ]
  },
  {
   "cell_type": "code",
   "execution_count": 10,
   "id": "14240391-26ef-4dc4-84f9-26aa615b6534",
   "metadata": {},
   "outputs": [],
   "source": [
    "class_obj = [data_science,web_dev]"
   ]
  },
  {
   "cell_type": "code",
   "execution_count": 12,
   "id": "79704409-7e6c-4872-8976-fde4a18db222",
   "metadata": {},
   "outputs": [
    {
     "name": "stdout",
     "output_type": "stream",
     "text": [
      "this is my syllabus for data science masters\n",
      "this is my syllabus for web dev\n"
     ]
    }
   ],
   "source": [
    "class_parcer(class_obj)"
   ]
  },
  {
   "cell_type": "code",
   "execution_count": null,
   "id": "bfee2a52-28c1-4c7f-9998-91fcf455122d",
   "metadata": {},
   "outputs": [],
   "source": []
  },
  {
   "cell_type": "markdown",
   "id": "70941a70-028e-4cd2-a3a1-6d1fd6cb177b",
   "metadata": {},
   "source": [
    "Encapsulation in Python"
   ]
  },
  {
   "cell_type": "code",
   "execution_count": 12,
   "id": "85733d45-203e-4be6-9679-356954fd5b35",
   "metadata": {},
   "outputs": [],
   "source": [
    "class test:\n",
    "    def __init__(self, a, b):\n",
    "        self.a = a\n",
    "        self.b = b"
   ]
  },
  {
   "cell_type": "code",
   "execution_count": 14,
   "id": "cb5a5322-d7a3-4375-9574-3e323899a3c8",
   "metadata": {},
   "outputs": [],
   "source": [
    "t = test(23,34)"
   ]
  },
  {
   "cell_type": "code",
   "execution_count": 15,
   "id": "7646612c-3fbd-427b-8064-0215dfd6759b",
   "metadata": {},
   "outputs": [],
   "source": [
    "t.a = 232453"
   ]
  },
  {
   "cell_type": "code",
   "execution_count": 16,
   "id": "e86b29ce-c37e-41de-a645-1fb38d0a7b54",
   "metadata": {},
   "outputs": [
    {
     "data": {
      "text/plain": [
       "232453"
      ]
     },
     "execution_count": 16,
     "metadata": {},
     "output_type": "execute_result"
    }
   ],
   "source": [
    "t.a"
   ]
  },
  {
   "cell_type": "code",
   "execution_count": 24,
   "id": "8f03a8f1-b31f-43fb-902c-5ba9bdc30135",
   "metadata": {},
   "outputs": [],
   "source": [
    "class car :\n",
    "    def __init__(self , year , make , model , speed):\n",
    "            self.__year = year\n",
    "            self.__make = make\n",
    "            self.__model = model\n",
    "            self.__speed = 0\n",
    "    def set_speed(self,speed):\n",
    "            self.__speed = 0 if speed < 0 else speed\n",
    "            \n",
    "    def get_speed(self) :\n",
    "            return self.__speed"
   ]
  },
  {
   "cell_type": "code",
   "execution_count": 25,
   "id": "56fff07c-4af8-4415-9e4d-bd0ec2cf7fc0",
   "metadata": {},
   "outputs": [],
   "source": [
    "c = car(2021 , \"toyata\", \"innova\",12)"
   ]
  },
  {
   "cell_type": "code",
   "execution_count": 26,
   "id": "b1c1859f-db70-4866-aaaa-463249d640d2",
   "metadata": {},
   "outputs": [
    {
     "data": {
      "text/plain": [
       "2021"
      ]
     },
     "execution_count": 26,
     "metadata": {},
     "output_type": "execute_result"
    }
   ],
   "source": [
    "c._car__year"
   ]
  },
  {
   "cell_type": "code",
   "execution_count": 32,
   "id": "1e651698-1b1c-46e2-be10-832e0aa80ff3",
   "metadata": {},
   "outputs": [],
   "source": [
    "c.set_speed(-2345)"
   ]
  },
  {
   "cell_type": "code",
   "execution_count": 33,
   "id": "2324016c-f0a9-4faf-baba-c4dafe67c70a",
   "metadata": {},
   "outputs": [
    {
     "data": {
      "text/plain": [
       "0"
      ]
     },
     "execution_count": 33,
     "metadata": {},
     "output_type": "execute_result"
    }
   ],
   "source": [
    "c.get_speed()"
   ]
  },
  {
   "cell_type": "code",
   "execution_count": 34,
   "id": "e0003672-4be2-4a2e-8615-ae58beefa779",
   "metadata": {},
   "outputs": [],
   "source": [
    "c.set_speed(234)"
   ]
  },
  {
   "cell_type": "code",
   "execution_count": 35,
   "id": "46ec826b-cb5d-4896-b0df-308792c3122c",
   "metadata": {},
   "outputs": [
    {
     "data": {
      "text/plain": [
       "234"
      ]
     },
     "execution_count": 35,
     "metadata": {},
     "output_type": "execute_result"
    }
   ],
   "source": [
    "c.get_speed()"
   ]
  },
  {
   "cell_type": "code",
   "execution_count": 2,
   "id": "f3669d31-7aa8-451c-b053-a11416708e9e",
   "metadata": {},
   "outputs": [],
   "source": [
    "class bank_account :\n",
    "    def __init__(self , balance):\n",
    "        self.__balance = balance\n",
    "        \n",
    "    def deposit(self , amount):\n",
    "        self.__balance = self.__balance + amount\n",
    "    \n",
    "    def withdaw(self , amount) :\n",
    "        if self.__balance >= amount :\n",
    "            self.__balance = self.__balance - amount\n",
    "            return True\n",
    "        else:\n",
    "            return False\n",
    "    def get_balance(self):\n",
    "        return self.__balance"
   ]
  },
  {
   "cell_type": "code",
   "execution_count": 3,
   "id": "c1d236a8-655c-4d0a-8195-1d130c88f6cf",
   "metadata": {},
   "outputs": [],
   "source": [
    "pintu = bank_account(1000)"
   ]
  },
  {
   "cell_type": "code",
   "execution_count": 4,
   "id": "50e8e5c5-5f27-4f6a-9159-8d77a34ee871",
   "metadata": {},
   "outputs": [
    {
     "data": {
      "text/plain": [
       "1000"
      ]
     },
     "execution_count": 4,
     "metadata": {},
     "output_type": "execute_result"
    }
   ],
   "source": [
    "pintu.get_balance()"
   ]
  },
  {
   "cell_type": "code",
   "execution_count": 5,
   "id": "613138a1-cc76-4eaa-b5bd-a963a644f54d",
   "metadata": {},
   "outputs": [],
   "source": [
    "pintu.deposit(5000)"
   ]
  },
  {
   "cell_type": "code",
   "execution_count": 6,
   "id": "1c755355-1dff-4819-8b4f-bdb746a49990",
   "metadata": {},
   "outputs": [
    {
     "data": {
      "text/plain": [
       "6000"
      ]
     },
     "execution_count": 6,
     "metadata": {},
     "output_type": "execute_result"
    }
   ],
   "source": [
    "pintu.get_balance()"
   ]
  },
  {
   "cell_type": "code",
   "execution_count": 7,
   "id": "110524ed-6b24-4afb-86ac-23c096465e34",
   "metadata": {},
   "outputs": [],
   "source": [
    "pintu.deposit(1000)"
   ]
  },
  {
   "cell_type": "code",
   "execution_count": 8,
   "id": "e3bd29a9-37de-42d0-8499-df172cdd72e1",
   "metadata": {},
   "outputs": [
    {
     "data": {
      "text/plain": [
       "7000"
      ]
     },
     "execution_count": 8,
     "metadata": {},
     "output_type": "execute_result"
    }
   ],
   "source": [
    "pintu.get_balance()"
   ]
  },
  {
   "cell_type": "code",
   "execution_count": 9,
   "id": "c3f46115-f9fd-4ced-afec-1810fecf96fa",
   "metadata": {},
   "outputs": [
    {
     "data": {
      "text/plain": [
       "True"
      ]
     },
     "execution_count": 9,
     "metadata": {},
     "output_type": "execute_result"
    }
   ],
   "source": [
    "pintu.withdaw(2000)"
   ]
  },
  {
   "cell_type": "code",
   "execution_count": 10,
   "id": "68aecea7-cd0d-436a-8823-aee2f6333e65",
   "metadata": {},
   "outputs": [
    {
     "data": {
      "text/plain": [
       "False"
      ]
     },
     "execution_count": 10,
     "metadata": {},
     "output_type": "execute_result"
    }
   ],
   "source": [
    "pintu.withdaw(9000)"
   ]
  },
  {
   "cell_type": "code",
   "execution_count": 11,
   "id": "e7e2323a-a0ea-4e87-b77a-44e1d14c8ba4",
   "metadata": {},
   "outputs": [
    {
     "data": {
      "text/plain": [
       "5000"
      ]
     },
     "execution_count": 11,
     "metadata": {},
     "output_type": "execute_result"
    }
   ],
   "source": [
    "pintu.get_balance()"
   ]
  },
  {
   "cell_type": "markdown",
   "id": "2f4cb84f-e276-46f2-8631-6f304f77657e",
   "metadata": {},
   "source": [
    "Inheritence in Python"
   ]
  },
  {
   "cell_type": "code",
   "execution_count": 12,
   "id": "baeb5e21-423e-4bcf-a926-87d2232464a6",
   "metadata": {},
   "outputs": [],
   "source": [
    "class test :\n",
    "    def test_meth(self):\n",
    "        return \"this is my first class\""
   ]
  },
  {
   "cell_type": "code",
   "execution_count": 13,
   "id": "a57d0307-dc59-4695-88f5-d3d439a67538",
   "metadata": {},
   "outputs": [],
   "source": [
    "class child_test(test):\n",
    "    pass"
   ]
  },
  {
   "cell_type": "code",
   "execution_count": 14,
   "id": "9ddc0b3f-812e-4c6a-8778-f98e20bb7dcc",
   "metadata": {},
   "outputs": [],
   "source": [
    "child_test_obj = child_test()"
   ]
  },
  {
   "cell_type": "code",
   "execution_count": 15,
   "id": "ab3c069e-a43a-4a26-a84d-6db3afa8af50",
   "metadata": {},
   "outputs": [
    {
     "data": {
      "text/plain": [
       "'this is my first class'"
      ]
     },
     "execution_count": 15,
     "metadata": {},
     "output_type": "execute_result"
    }
   ],
   "source": [
    "child_test_obj.test_meth()"
   ]
  },
  {
   "cell_type": "markdown",
   "id": "6d37df52-5fff-4413-b753-67756bdf1708",
   "metadata": {},
   "source": [
    "Inheritence"
   ]
  },
  {
   "cell_type": "code",
   "execution_count": 1,
   "id": "5cd148e2-0c91-438c-9b19-5d3bd731f6f2",
   "metadata": {},
   "outputs": [],
   "source": [
    "class test:\n",
    "    \n",
    "    def test_meth(self):\n",
    "        return \"this is my first class\""
   ]
  },
  {
   "cell_type": "code",
   "execution_count": 2,
   "id": "9b456be9-8d58-4a1d-a4e5-051044729948",
   "metadata": {},
   "outputs": [],
   "source": [
    "class child_test(test):\n",
    "    pass"
   ]
  },
  {
   "cell_type": "code",
   "execution_count": 3,
   "id": "b234399b-cea8-4682-8bed-085bfcc20192",
   "metadata": {},
   "outputs": [],
   "source": [
    "child_test_obj = child_test()"
   ]
  },
  {
   "cell_type": "code",
   "execution_count": 4,
   "id": "cc06ce17-2ab9-478c-9107-a5c2473821a7",
   "metadata": {},
   "outputs": [
    {
     "data": {
      "text/plain": [
       "'this is my first class'"
      ]
     },
     "execution_count": 4,
     "metadata": {},
     "output_type": "execute_result"
    }
   ],
   "source": [
    "child_test_obj.test_meth()"
   ]
  },
  {
   "cell_type": "code",
   "execution_count": 13,
   "id": "d56e2aa3-94b1-4523-9428-69b0d405b459",
   "metadata": {},
   "outputs": [],
   "source": [
    "class class1:\n",
    "    \n",
    "    def test_class1(self):\n",
    "        return \"this is a meth form class1\""
   ]
  },
  {
   "cell_type": "code",
   "execution_count": 14,
   "id": "2a4fed08-4507-49e3-8116-66007b572417",
   "metadata": {},
   "outputs": [],
   "source": [
    "class class2(class1):\n",
    "    def test_class2(self):\n",
    "        return \"this is a meth form class2\""
   ]
  },
  {
   "cell_type": "code",
   "execution_count": 15,
   "id": "c508894d-ea0a-4af4-bed8-f43c5729d5c7",
   "metadata": {},
   "outputs": [],
   "source": [
    "class class3(class2):\n",
    "    pass"
   ]
  },
  {
   "cell_type": "code",
   "execution_count": 19,
   "id": "09bbb837-06a4-4736-bede-0292708ee493",
   "metadata": {},
   "outputs": [],
   "source": [
    "obj_class3 = class3()"
   ]
  },
  {
   "cell_type": "code",
   "execution_count": 20,
   "id": "e9ef2e4f-8669-4afc-ac19-b8f4ef90a90c",
   "metadata": {},
   "outputs": [
    {
     "data": {
      "text/plain": [
       "'this is a meth form class1'"
      ]
     },
     "execution_count": 20,
     "metadata": {},
     "output_type": "execute_result"
    }
   ],
   "source": [
    "obj_class3.test_class1()"
   ]
  },
  {
   "cell_type": "code",
   "execution_count": 22,
   "id": "ddd1cac1-8cfe-4a73-b150-8b45b3fb76e6",
   "metadata": {},
   "outputs": [
    {
     "data": {
      "text/plain": [
       "'this is a meth form class2'"
      ]
     },
     "execution_count": 22,
     "metadata": {},
     "output_type": "execute_result"
    }
   ],
   "source": [
    "obj_class3.test_class2()"
   ]
  },
  {
   "cell_type": "code",
   "execution_count": 24,
   "id": "779806b3-45e2-48bd-b179-c57ab65f0a59",
   "metadata": {},
   "outputs": [],
   "source": [
    "class class1:\n",
    "    \n",
    "    def test_class1(self):\n",
    "        return \"this is class1 \"\n",
    " "
   ]
  },
  {
   "cell_type": "code",
   "execution_count": 25,
   "id": "8a412f44-3918-4b09-af79-a454643606b2",
   "metadata": {},
   "outputs": [],
   "source": [
    "class class2:\n",
    "    def test_class2(self):\n",
    "        return \"this is class2\""
   ]
  },
  {
   "cell_type": "code",
   "execution_count": 26,
   "id": "417e3652-a584-436b-83c9-4372a279a742",
   "metadata": {},
   "outputs": [],
   "source": [
    "class class3(class1 , class2):\n",
    "    pass"
   ]
  },
  {
   "cell_type": "code",
   "execution_count": 27,
   "id": "fa080cbd-bbc2-4689-9b10-d44b96a53cf5",
   "metadata": {},
   "outputs": [],
   "source": [
    "obj_class3 = class3()"
   ]
  },
  {
   "cell_type": "code",
   "execution_count": 28,
   "id": "63c07fbd-1778-4278-a831-28977f08199b",
   "metadata": {},
   "outputs": [
    {
     "data": {
      "text/plain": [
       "'this is class1 '"
      ]
     },
     "execution_count": 28,
     "metadata": {},
     "output_type": "execute_result"
    }
   ],
   "source": [
    "obj_class3.test_class1()"
   ]
  },
  {
   "cell_type": "code",
   "execution_count": 30,
   "id": "802ba7c0-465a-4902-a5ac-e770914dc96e",
   "metadata": {},
   "outputs": [
    {
     "data": {
      "text/plain": [
       "'this is class2'"
      ]
     },
     "execution_count": 30,
     "metadata": {},
     "output_type": "execute_result"
    }
   ],
   "source": [
    "obj_class3.test_class2()"
   ]
  },
  {
   "cell_type": "markdown",
   "id": "1c1b3cdc-200b-4eaf-84f5-99c953ece2dd",
   "metadata": {},
   "source": [
    "Abstraction"
   ]
  },
  {
   "cell_type": "code",
   "execution_count": 44,
   "id": "3b90ebc0-9c9d-4cfb-bd0a-40a912866fe0",
   "metadata": {},
   "outputs": [],
   "source": [
    "import abc\n",
    "class pwskills:\n",
    "    @abc.abstractclassmethod\n",
    "    \n",
    "    def stuent_details(self):\n",
    "        pass\n",
    "    @abc.abstractclassmethod\n",
    "    def student_assingment(self):\n",
    "        pass\n",
    "    @abc.abstractclassmethod\n",
    "    def student_marks(self):\n",
    "        pass\n",
    "   "
   ]
  },
  {
   "cell_type": "code",
   "execution_count": 45,
   "id": "5687f53e-4a85-42b8-81f2-14c606bca810",
   "metadata": {},
   "outputs": [],
   "source": [
    "class studen_details(pwskills):\n",
    "    def student_details(self):\n",
    "        return \"this is a meth for taking student details\"\n",
    "    def studen_assingment(self):\n",
    "        return \"this ia a meth for assing details for a perticualt student\""
   ]
  },
  {
   "cell_type": "code",
   "execution_count": 46,
   "id": "e02fae72-24d6-4379-99e0-e73f6698652a",
   "metadata": {},
   "outputs": [],
   "source": [
    "class data_science_master(pwskills):\n",
    "    def student_datail(self):\n",
    "        return \"this will return a student details for data science masterr\"\n",
    "    def studen_assingment(self):\n",
    "        return \"this will give you a student assingment details for data sceience master\""
   ]
  },
  {
   "cell_type": "code",
   "execution_count": 47,
   "id": "8d957c19-d3dd-4c7c-a99a-0f2f369f0044",
   "metadata": {},
   "outputs": [
    {
     "ename": "NameError",
     "evalue": "name 'data_science_masters' is not defined",
     "output_type": "error",
     "traceback": [
      "\u001b[0;31m---------------------------------------------------------------------------\u001b[0m",
      "\u001b[0;31mNameError\u001b[0m                                 Traceback (most recent call last)",
      "Cell \u001b[0;32mIn[47], line 1\u001b[0m\n\u001b[0;32m----> 1\u001b[0m dsm \u001b[38;5;241m=\u001b[39m \u001b[43mdata_science_masters\u001b[49m()\n\u001b[1;32m      2\u001b[0m dsm\u001b[38;5;241m.\u001b[39mstudent_details()\n",
      "\u001b[0;31mNameError\u001b[0m: name 'data_science_masters' is not defined"
     ]
    }
   ],
   "source": [
    "dsm = data_science_masters()\n",
    "dsm.student_details()"
   ]
  },
  {
   "cell_type": "code",
   "execution_count": 49,
   "id": "4dbab7cb-7101-473e-a6ba-2a82f43f57d9",
   "metadata": {},
   "outputs": [
    {
     "ename": "NameError",
     "evalue": "name 'student_details' is not defined",
     "output_type": "error",
     "traceback": [
      "\u001b[0;31m---------------------------------------------------------------------------\u001b[0m",
      "\u001b[0;31mNameError\u001b[0m                                 Traceback (most recent call last)",
      "Cell \u001b[0;32mIn[49], line 1\u001b[0m\n\u001b[0;32m----> 1\u001b[0m sd \u001b[38;5;241m=\u001b[39m \u001b[43mstudent_details\u001b[49m()\n\u001b[1;32m      2\u001b[0m dsm\u001b[38;5;241m.\u001b[39mstuent_details()\n",
      "\u001b[0;31mNameError\u001b[0m: name 'student_details' is not defined"
     ]
    }
   ],
   "source": [
    "sd = student_details()\n",
    "dsm.stuent_details()"
   ]
  },
  {
   "cell_type": "code",
   "execution_count": null,
   "id": "af7823e7-e111-4caa-9413-a01d1ba03f6f",
   "metadata": {},
   "outputs": [],
   "source": []
  }
 ],
 "metadata": {
  "kernelspec": {
   "display_name": "Python 3 (ipykernel)",
   "language": "python",
   "name": "python3"
  },
  "language_info": {
   "codemirror_mode": {
    "name": "ipython",
    "version": 3
   },
   "file_extension": ".py",
   "mimetype": "text/x-python",
   "name": "python",
   "nbconvert_exporter": "python",
   "pygments_lexer": "ipython3",
   "version": "3.10.8"
  }
 },
 "nbformat": 4,
 "nbformat_minor": 5
}
