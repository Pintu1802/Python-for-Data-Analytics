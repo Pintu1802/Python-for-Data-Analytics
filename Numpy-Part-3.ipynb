{
 "cells": [
  {
   "cell_type": "markdown",
   "id": "a4691cf4-f2f0-4ae6-8421-3cd21aef484a",
   "metadata": {},
   "source": [
    "NUMPY PART - 4"
   ]
  },
  {
   "cell_type": "code",
   "execution_count": 1,
   "id": "5883a901-5b64-46e9-b382-9d67b6e11cea",
   "metadata": {},
   "outputs": [],
   "source": [
    "#Sort, Search & Counting function."
   ]
  },
  {
   "cell_type": "code",
   "execution_count": 2,
   "id": "0381951d-3b84-4973-8027-04ae0cdb225c",
   "metadata": {},
   "outputs": [],
   "source": [
    "import numpy as np"
   ]
  },
  {
   "cell_type": "code",
   "execution_count": 6,
   "id": "5b0ce07a-2e3b-4339-8f77-b52960404e1f",
   "metadata": {},
   "outputs": [],
   "source": [
    "arr = np.array([12,13,445,1,2,3,4,5,67,8,9,10])"
   ]
  },
  {
   "cell_type": "code",
   "execution_count": 7,
   "id": "c1d502b5-fd14-4641-9f04-4c92cbd9c723",
   "metadata": {},
   "outputs": [
    {
     "data": {
      "text/plain": [
       "array([ 12,  13, 445,   1,   2,   3,   4,   5,  67,   8,   9,  10])"
      ]
     },
     "execution_count": 7,
     "metadata": {},
     "output_type": "execute_result"
    }
   ],
   "source": [
    "arr"
   ]
  },
  {
   "cell_type": "code",
   "execution_count": 8,
   "id": "d830de4d-6369-464a-9554-cacf725a3f24",
   "metadata": {},
   "outputs": [
    {
     "data": {
      "text/plain": [
       "array([  1,   2,   3,   4,   5,   8,   9,  10,  12,  13,  67, 445])"
      ]
     },
     "execution_count": 8,
     "metadata": {},
     "output_type": "execute_result"
    }
   ],
   "source": [
    "np.sort(arr)"
   ]
  },
  {
   "cell_type": "code",
   "execution_count": 11,
   "id": "9c7f2cdc-951f-441b-b562-a03416f4d8f6",
   "metadata": {},
   "outputs": [
    {
     "data": {
      "text/plain": [
       "12"
      ]
     },
     "execution_count": 11,
     "metadata": {},
     "output_type": "execute_result"
    }
   ],
   "source": [
    "np.searchsorted(arr , 34 )"
   ]
  },
  {
   "cell_type": "code",
   "execution_count": 12,
   "id": "4b1e3aaa-1276-4041-929f-6f9b25c5ef21",
   "metadata": {},
   "outputs": [],
   "source": [
    "arr1 = np.array([0,345,454,0,0,0,0,0])"
   ]
  },
  {
   "cell_type": "code",
   "execution_count": 13,
   "id": "aef9ea6c-c07c-421f-af7b-d81fa054dc8f",
   "metadata": {},
   "outputs": [
    {
     "data": {
      "text/plain": [
       "2"
      ]
     },
     "execution_count": 13,
     "metadata": {},
     "output_type": "execute_result"
    }
   ],
   "source": [
    "np.count_nonzero(arr1)"
   ]
  },
  {
   "cell_type": "code",
   "execution_count": 14,
   "id": "cfda3430-5eed-4cd3-9c6a-54b71a51fc57",
   "metadata": {},
   "outputs": [
    {
     "data": {
      "text/plain": [
       "array([ 12,  13, 445,   1,   2,   3,   4,   5,  67,   8,   9,  10])"
      ]
     },
     "execution_count": 14,
     "metadata": {},
     "output_type": "execute_result"
    }
   ],
   "source": [
    "arr"
   ]
  },
  {
   "cell_type": "code",
   "execution_count": 16,
   "id": "8544720e-860a-498c-b4f0-50620c321a2e",
   "metadata": {},
   "outputs": [
    {
     "data": {
      "text/plain": [
       "(array([ 0,  1,  2,  8,  9, 10, 11]),)"
      ]
     },
     "execution_count": 16,
     "metadata": {},
     "output_type": "execute_result"
    }
   ],
   "source": [
    "np.where(arr > 6 )"
   ]
  },
  {
   "cell_type": "code",
   "execution_count": 17,
   "id": "5b85fa8f-db4f-499d-a863-97ca8d09e22b",
   "metadata": {},
   "outputs": [
    {
     "data": {
      "text/plain": [
       "array([ 12,  13, 445,  67,   8,   9,  10])"
      ]
     },
     "execution_count": 17,
     "metadata": {},
     "output_type": "execute_result"
    }
   ],
   "source": [
    "np.extract(arr>6 , arr)"
   ]
  },
  {
   "cell_type": "code",
   "execution_count": 18,
   "id": "b63f9939-729a-420c-a278-92225eac7e6a",
   "metadata": {},
   "outputs": [],
   "source": [
    "#Numpy - Byte Swapping"
   ]
  },
  {
   "cell_type": "code",
   "execution_count": 19,
   "id": "caee2768-4ebf-4f36-8fef-3ed148b7b87f",
   "metadata": {},
   "outputs": [
    {
     "data": {
      "text/plain": [
       "array([ 12,  13, 445,   1,   2,   3,   4,   5,  67,   8,   9,  10])"
      ]
     },
     "execution_count": 19,
     "metadata": {},
     "output_type": "execute_result"
    }
   ],
   "source": [
    "arr"
   ]
  },
  {
   "cell_type": "code",
   "execution_count": 20,
   "id": "fede6f13-06bf-4d31-acb8-de135d06e374",
   "metadata": {},
   "outputs": [
    {
     "data": {
      "text/plain": [
       "array([  864691128455135232,   936748722493063168, -4827577325564461056,\n",
       "          72057594037927936,   144115188075855872,   216172782113783808,\n",
       "         288230376151711744,   360287970189639680,  4827858800541171712,\n",
       "         576460752303423488,   648518346341351424,   720575940379279360])"
      ]
     },
     "execution_count": 20,
     "metadata": {},
     "output_type": "execute_result"
    }
   ],
   "source": [
    "arr.byteswap()"
   ]
  },
  {
   "cell_type": "code",
   "execution_count": 21,
   "id": "6eaded5e-4590-4da9-add0-6cbbd5e05a5a",
   "metadata": {},
   "outputs": [],
   "source": [
    "a = np.copy(arr)"
   ]
  },
  {
   "cell_type": "code",
   "execution_count": 22,
   "id": "4a7675d8-bfd1-4ec8-a344-afc5d6c1d19f",
   "metadata": {},
   "outputs": [],
   "source": [
    "b = arr.view()"
   ]
  },
  {
   "cell_type": "code",
   "execution_count": 23,
   "id": "e2102ac8-1ecd-49ce-b940-e925949d7bd8",
   "metadata": {},
   "outputs": [
    {
     "data": {
      "text/plain": [
       "array([ 12,  13, 445,   1,   2,   3,   4,   5,  67,   8,   9,  10])"
      ]
     },
     "execution_count": 23,
     "metadata": {},
     "output_type": "execute_result"
    }
   ],
   "source": [
    "b"
   ]
  },
  {
   "cell_type": "code",
   "execution_count": 24,
   "id": "a95fec4f-33ca-4ef9-a124-309beb287d51",
   "metadata": {},
   "outputs": [
    {
     "data": {
      "text/plain": [
       "array([ 12,  13, 445,   1,   2,   3,   4,   5,  67,   8,   9,  10])"
      ]
     },
     "execution_count": 24,
     "metadata": {},
     "output_type": "execute_result"
    }
   ],
   "source": [
    "arr"
   ]
  },
  {
   "cell_type": "code",
   "execution_count": 25,
   "id": "b87e6c2e-ad42-4548-98f8-7874cac23fde",
   "metadata": {},
   "outputs": [],
   "source": [
    "a = np.copy(arr)"
   ]
  },
  {
   "cell_type": "code",
   "execution_count": 26,
   "id": "f68ac8ce-07d7-4e87-8d54-9442e9c4c36a",
   "metadata": {},
   "outputs": [],
   "source": [
    "b = arr.view()"
   ]
  },
  {
   "cell_type": "code",
   "execution_count": 27,
   "id": "9e3118ee-55f7-4811-9bda-853886b5134f",
   "metadata": {},
   "outputs": [
    {
     "data": {
      "text/plain": [
       "array([ 12,  13, 445,   1,   2,   3,   4,   5,  67,   8,   9,  10])"
      ]
     },
     "execution_count": 27,
     "metadata": {},
     "output_type": "execute_result"
    }
   ],
   "source": [
    "b"
   ]
  },
  {
   "cell_type": "code",
   "execution_count": 28,
   "id": "27d996e5-3e2e-4fcb-bd9c-10803f75fee4",
   "metadata": {},
   "outputs": [],
   "source": [
    "#Numpy - Matrix Library"
   ]
  },
  {
   "cell_type": "code",
   "execution_count": 29,
   "id": "8ff919e2-a379-4afe-82f7-51005501c12c",
   "metadata": {},
   "outputs": [],
   "source": [
    "import numpy.matlib as nm"
   ]
  },
  {
   "cell_type": "code",
   "execution_count": 30,
   "id": "a8f7373d-d7f1-43ec-a47d-d67d64467268",
   "metadata": {},
   "outputs": [
    {
     "data": {
      "text/plain": [
       "array([0., 0., 0., 0., 0.])"
      ]
     },
     "execution_count": 30,
     "metadata": {},
     "output_type": "execute_result"
    }
   ],
   "source": [
    "np.zeros(5)"
   ]
  },
  {
   "cell_type": "code",
   "execution_count": 31,
   "id": "11485ad0-8242-4b32-9059-1d194d6f24e2",
   "metadata": {},
   "outputs": [
    {
     "data": {
      "text/plain": [
       "matrix([[1., 1., 1., 1.],\n",
       "        [1., 1., 1., 1.],\n",
       "        [1., 1., 1., 1.]])"
      ]
     },
     "execution_count": 31,
     "metadata": {},
     "output_type": "execute_result"
    }
   ],
   "source": [
    "nm.ones((3,4\n",
    "        ))"
   ]
  },
  {
   "cell_type": "code",
   "execution_count": 32,
   "id": "98ad063a-8170-4be8-a146-6f0bef0a2f5f",
   "metadata": {},
   "outputs": [
    {
     "data": {
      "text/plain": [
       "array([[1., 0., 0., 0., 0.],\n",
       "       [0., 1., 0., 0., 0.],\n",
       "       [0., 0., 1., 0., 0.],\n",
       "       [0., 0., 0., 1., 0.],\n",
       "       [0., 0., 0., 0., 1.]])"
      ]
     },
     "execution_count": 32,
     "metadata": {},
     "output_type": "execute_result"
    }
   ],
   "source": [
    "np.eye(5)"
   ]
  },
  {
   "cell_type": "code",
   "execution_count": 33,
   "id": "3aff400a-d979-4ace-9514-739344e9f797",
   "metadata": {},
   "outputs": [],
   "source": [
    "# Numpy - Linear Algebra "
   ]
  },
  {
   "cell_type": "code",
   "execution_count": 34,
   "id": "ef22d5d2-4596-459a-8fff-ee0a4450bf32",
   "metadata": {},
   "outputs": [],
   "source": [
    "arr1 = np.random.randint([[2,3], [4,5]])"
   ]
  },
  {
   "cell_type": "code",
   "execution_count": 35,
   "id": "04455e02-3868-4c8f-978c-a481bd12dc89",
   "metadata": {},
   "outputs": [],
   "source": [
    "arr2 = np.random.randint([[2,3], [4,5]])"
   ]
  },
  {
   "cell_type": "code",
   "execution_count": 36,
   "id": "83272ad1-92af-4fc7-b7ff-1ddb155efa11",
   "metadata": {},
   "outputs": [
    {
     "data": {
      "text/plain": [
       "array([[5, 2],\n",
       "       [4, 0]])"
      ]
     },
     "execution_count": 36,
     "metadata": {},
     "output_type": "execute_result"
    }
   ],
   "source": [
    "np.dot(arr1,arr2)"
   ]
  },
  {
   "cell_type": "code",
   "execution_count": 37,
   "id": "e89994ee-6e8b-467f-b739-8e7823e5b2cc",
   "metadata": {},
   "outputs": [
    {
     "data": {
      "text/plain": [
       "array([[5, 2],\n",
       "       [4, 0]])"
      ]
     },
     "execution_count": 37,
     "metadata": {},
     "output_type": "execute_result"
    }
   ],
   "source": [
    "arr1@arr2"
   ]
  },
  {
   "cell_type": "code",
   "execution_count": null,
   "id": "09a5f5ce-ffe9-4abe-b659-c8ad4f498b52",
   "metadata": {},
   "outputs": [],
   "source": []
  }
 ],
 "metadata": {
  "kernelspec": {
   "display_name": "Python 3 (ipykernel)",
   "language": "python",
   "name": "python3"
  },
  "language_info": {
   "codemirror_mode": {
    "name": "ipython",
    "version": 3
   },
   "file_extension": ".py",
   "mimetype": "text/x-python",
   "name": "python",
   "nbconvert_exporter": "python",
   "pygments_lexer": "ipython3",
   "version": "3.10.8"
  }
 },
 "nbformat": 4,
 "nbformat_minor": 5
}
