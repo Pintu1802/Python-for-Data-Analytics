{
 "cells": [
  {
   "cell_type": "code",
   "execution_count": 1,
   "id": "e78fd3c1-0619-45de-8b57-f90dc0678881",
   "metadata": {},
   "outputs": [],
   "source": [
    "## Pandas Advance Part-3"
   ]
  },
  {
   "cell_type": "code",
   "execution_count": 2,
   "id": "e2dd0064-350b-4e1d-be6f-3fe4b133825b",
   "metadata": {},
   "outputs": [],
   "source": [
    "import pandas as pd"
   ]
  },
  {
   "cell_type": "code",
   "execution_count": 3,
   "id": "d6049952-f028-4b04-873b-52a738847719",
   "metadata": {},
   "outputs": [],
   "source": [
    "df=pd.read_csv(\"https://raw.githubusercontent.com/datasciencedojo/datasets/master/titanic.csv\")"
   ]
  },
  {
   "cell_type": "code",
   "execution_count": 4,
   "id": "b051ae63-1878-4a37-916e-28c78ca6dfd5",
   "metadata": {},
   "outputs": [
    {
     "data": {
      "text/plain": [
       "Index(['PassengerId', 'Survived', 'Pclass', 'Name', 'Sex', 'Age', 'SibSp',\n",
       "       'Parch', 'Ticket', 'Fare', 'Cabin', 'Embarked'],\n",
       "      dtype='object')"
      ]
     },
     "execution_count": 4,
     "metadata": {},
     "output_type": "execute_result"
    }
   ],
   "source": [
    " df.columns"
   ]
  },
  {
   "cell_type": "code",
   "execution_count": 5,
   "id": "d36d4142-c2b0-4260-b6a7-9e59de273e13",
   "metadata": {},
   "outputs": [],
   "source": [
    "s= df['Name']"
   ]
  },
  {
   "cell_type": "code",
   "execution_count": 6,
   "id": "43626fec-d2b6-4f45-827e-3db47a92a1fb",
   "metadata": {},
   "outputs": [
    {
     "data": {
      "text/plain": [
       "0                                Braund, Mr. Owen Harris\n",
       "1      Cumings, Mrs. John Bradley (Florence Briggs Th...\n",
       "2                                 Heikkinen, Miss. Laina\n",
       "3           Futrelle, Mrs. Jacques Heath (Lily May Peel)\n",
       "4                               Allen, Mr. William Henry\n",
       "                             ...                        \n",
       "886                                Montvila, Rev. Juozas\n",
       "887                         Graham, Miss. Margaret Edith\n",
       "888             Johnston, Miss. Catherine Helen \"Carrie\"\n",
       "889                                Behr, Mr. Karl Howell\n",
       "890                                  Dooley, Mr. Patrick\n",
       "Name: Name, Length: 891, dtype: object"
      ]
     },
     "execution_count": 6,
     "metadata": {},
     "output_type": "execute_result"
    }
   ],
   "source": [
    "s"
   ]
  },
  {
   "cell_type": "code",
   "execution_count": 7,
   "id": "e0658a45-079d-4693-83f6-a3b43cb71871",
   "metadata": {},
   "outputs": [
    {
     "data": {
      "text/plain": [
       "891"
      ]
     },
     "execution_count": 7,
     "metadata": {},
     "output_type": "execute_result"
    }
   ],
   "source": [
    "len(df['Name'])"
   ]
  },
  {
   "cell_type": "code",
   "execution_count": 8,
   "id": "15b4f12f-6115-49b9-ab24-c97739ca5df3",
   "metadata": {},
   "outputs": [
    {
     "data": {
      "text/plain": [
       "891"
      ]
     },
     "execution_count": 8,
     "metadata": {},
     "output_type": "execute_result"
    }
   ],
   "source": [
    "len(s)"
   ]
  },
  {
   "cell_type": "code",
   "execution_count": 9,
   "id": "003746bc-47ac-47b5-9410-0d1b168b24ba",
   "metadata": {},
   "outputs": [],
   "source": [
    "s= df['Name'][0:10]"
   ]
  },
  {
   "cell_type": "code",
   "execution_count": 15,
   "id": "cb3e205c-dd84-4bcd-991f-4c0140ee7bc8",
   "metadata": {},
   "outputs": [
    {
     "data": {
      "text/plain": [
       "pintu    NaN\n",
       "b        NaN\n",
       "c        NaN\n",
       "d        NaN\n",
       "e        NaN\n",
       "f        NaN\n",
       "g        NaN\n",
       "h        NaN\n",
       "i        NaN\n",
       "j        NaN\n",
       "Name: Name, dtype: object"
      ]
     },
     "execution_count": 15,
     "metadata": {},
     "output_type": "execute_result"
    }
   ],
   "source": [
    "pd.Series(s,index=l)"
   ]
  },
  {
   "cell_type": "code",
   "execution_count": 16,
   "id": "42d25edc-cc94-439c-b4fd-923d9fd09a4d",
   "metadata": {},
   "outputs": [],
   "source": [
    "s1=pd.Series(list(s),index=l)"
   ]
  },
  {
   "cell_type": "code",
   "execution_count": 17,
   "id": "7ad720f0-5adb-408e-956b-d4411b7d7082",
   "metadata": {},
   "outputs": [
    {
     "data": {
      "text/plain": [
       "pintu                              Braund, Mr. Owen Harris\n",
       "b        Cumings, Mrs. John Bradley (Florence Briggs Th...\n",
       "c                                   Heikkinen, Miss. Laina\n",
       "d             Futrelle, Mrs. Jacques Heath (Lily May Peel)\n",
       "e                                 Allen, Mr. William Henry\n",
       "f                                         Moran, Mr. James\n",
       "g                                  McCarthy, Mr. Timothy J\n",
       "h                           Palsson, Master. Gosta Leonard\n",
       "i        Johnson, Mrs. Oscar W (Elisabeth Vilhelmina Berg)\n",
       "j                      Nasser, Mrs. Nicholas (Adele Achem)\n",
       "dtype: object"
      ]
     },
     "execution_count": 17,
     "metadata": {},
     "output_type": "execute_result"
    }
   ],
   "source": [
    "s1"
   ]
  },
  {
   "cell_type": "code",
   "execution_count": 18,
   "id": "f0d53f40-352d-4935-8f84-1cf3ee112b58",
   "metadata": {},
   "outputs": [],
   "source": [
    "l = ['pintu','b','c','d','e','f','g','h','i','j']"
   ]
  },
  {
   "cell_type": "code",
   "execution_count": 19,
   "id": "98d25af8-555f-4e05-8659-c5a5747cf24f",
   "metadata": {},
   "outputs": [
    {
     "data": {
      "text/plain": [
       "pintu    NaN\n",
       "b        NaN\n",
       "c        NaN\n",
       "d        NaN\n",
       "e        NaN\n",
       "f        NaN\n",
       "g        NaN\n",
       "h        NaN\n",
       "i        NaN\n",
       "j        NaN\n",
       "Name: Name, dtype: object"
      ]
     },
     "execution_count": 19,
     "metadata": {},
     "output_type": "execute_result"
    }
   ],
   "source": [
    "pd.Series(s,index=l)"
   ]
  },
  {
   "cell_type": "code",
   "execution_count": 20,
   "id": "d688e610-e30a-43a7-81ad-86312c801650",
   "metadata": {},
   "outputs": [
    {
     "data": {
      "text/plain": [
       "'Braund, Mr. Owen Harris'"
      ]
     },
     "execution_count": 20,
     "metadata": {},
     "output_type": "execute_result"
    }
   ],
   "source": [
    "s[0]"
   ]
  },
  {
   "cell_type": "code",
   "execution_count": 21,
   "id": "ac35535d-b0c7-42df-a48f-704e23d3b370",
   "metadata": {},
   "outputs": [
    {
     "data": {
      "text/plain": [
       "'Braund, Mr. Owen Harris'"
      ]
     },
     "execution_count": 21,
     "metadata": {},
     "output_type": "execute_result"
    }
   ],
   "source": [
    "s1[0]"
   ]
  },
  {
   "cell_type": "code",
   "execution_count": 22,
   "id": "d456df18-239c-4489-9bac-430784dba0be",
   "metadata": {},
   "outputs": [
    {
     "data": {
      "text/plain": [
       "'Braund, Mr. Owen Harris'"
      ]
     },
     "execution_count": 22,
     "metadata": {},
     "output_type": "execute_result"
    }
   ],
   "source": [
    "s1['pintu']"
   ]
  },
  {
   "cell_type": "code",
   "execution_count": 23,
   "id": "8664d7b7-4b5a-4989-aa14-829793ceaf57",
   "metadata": {},
   "outputs": [
    {
     "name": "stderr",
     "output_type": "stream",
     "text": [
      "/tmp/ipykernel_91/2451741888.py:1: FutureWarning: The series.append method is deprecated and will be removed from pandas in a future version. Use pandas.concat instead.\n",
      "  s2 = s1.append(s)\n"
     ]
    }
   ],
   "source": [
    "s2 = s1.append(s)"
   ]
  },
  {
   "cell_type": "code",
   "execution_count": 24,
   "id": "2ffe8ac6-9868-4ba9-a01b-fc61776934cd",
   "metadata": {},
   "outputs": [
    {
     "data": {
      "text/plain": [
       "pintu                              Braund, Mr. Owen Harris\n",
       "b        Cumings, Mrs. John Bradley (Florence Briggs Th...\n",
       "c                                   Heikkinen, Miss. Laina\n",
       "d             Futrelle, Mrs. Jacques Heath (Lily May Peel)\n",
       "e                                 Allen, Mr. William Henry\n",
       "f                                         Moran, Mr. James\n",
       "g                                  McCarthy, Mr. Timothy J\n",
       "h                           Palsson, Master. Gosta Leonard\n",
       "i        Johnson, Mrs. Oscar W (Elisabeth Vilhelmina Berg)\n",
       "j                      Nasser, Mrs. Nicholas (Adele Achem)\n",
       "0                                  Braund, Mr. Owen Harris\n",
       "1        Cumings, Mrs. John Bradley (Florence Briggs Th...\n",
       "2                                   Heikkinen, Miss. Laina\n",
       "3             Futrelle, Mrs. Jacques Heath (Lily May Peel)\n",
       "4                                 Allen, Mr. William Henry\n",
       "5                                         Moran, Mr. James\n",
       "6                                  McCarthy, Mr. Timothy J\n",
       "7                           Palsson, Master. Gosta Leonard\n",
       "8        Johnson, Mrs. Oscar W (Elisabeth Vilhelmina Berg)\n",
       "9                      Nasser, Mrs. Nicholas (Adele Achem)\n",
       "dtype: object"
      ]
     },
     "execution_count": 24,
     "metadata": {},
     "output_type": "execute_result"
    }
   ],
   "source": [
    "s2"
   ]
  },
  {
   "cell_type": "code",
   "execution_count": 25,
   "id": "52a9495d-27ca-4eb8-96fd-8c8f71002919",
   "metadata": {},
   "outputs": [
    {
     "data": {
      "text/plain": [
       "'Allen, Mr. William Henry'"
      ]
     },
     "execution_count": 25,
     "metadata": {},
     "output_type": "execute_result"
    }
   ],
   "source": [
    "s2[4]"
   ]
  },
  {
   "cell_type": "code",
   "execution_count": 28,
   "id": "965f8564-afb3-44cf-93a0-4647a4f62e1f",
   "metadata": {},
   "outputs": [],
   "source": [
    "s4=pd.Series([3,4,5,6,6,] , index=[2,4,5,6,1])"
   ]
  },
  {
   "cell_type": "code",
   "execution_count": 31,
   "id": "a097beee-10bd-40c1-9ca0-9a8951962653",
   "metadata": {},
   "outputs": [],
   "source": [
    "s5 = pd.Series([34,335,45,45,454], index=[9,4,5,6,7]) "
   ]
  },
  {
   "cell_type": "code",
   "execution_count": 35,
   "id": "b0c06ad6-0fde-48a9-8ab5-9fc105faefc0",
   "metadata": {},
   "outputs": [
    {
     "name": "stderr",
     "output_type": "stream",
     "text": [
      "/tmp/ipykernel_91/884104408.py:1: FutureWarning: The series.append method is deprecated and will be removed from pandas in a future version. Use pandas.concat instead.\n",
      "  s6=s4.append(s5)\n"
     ]
    }
   ],
   "source": [
    "s6=s4.append(s5)"
   ]
  },
  {
   "cell_type": "code",
   "execution_count": 36,
   "id": "28925b85-6d30-4a3d-944e-dd16968d3ac6",
   "metadata": {},
   "outputs": [
    {
     "data": {
      "text/plain": [
       "2      3\n",
       "4      4\n",
       "5      5\n",
       "6      6\n",
       "1      6\n",
       "9     34\n",
       "4    335\n",
       "5     45\n",
       "6     45\n",
       "7    454\n",
       "dtype: int64"
      ]
     },
     "execution_count": 36,
     "metadata": {},
     "output_type": "execute_result"
    }
   ],
   "source": [
    "s6"
   ]
  },
  {
   "cell_type": "code",
   "execution_count": 39,
   "id": "56efac3d-9298-4904-8fbd-e2342086ac0f",
   "metadata": {},
   "outputs": [
    {
     "data": {
      "text/plain": [
       "4      4\n",
       "4    335\n",
       "dtype: int64"
      ]
     },
     "execution_count": 39,
     "metadata": {},
     "output_type": "execute_result"
    }
   ],
   "source": [
    "s6[4]"
   ]
  },
  {
   "cell_type": "code",
   "execution_count": 40,
   "id": "d84bdbeb-002b-473c-80a5-0ad59f4d781d",
   "metadata": {},
   "outputs": [
    {
     "data": {
      "text/plain": [
       "6     6\n",
       "6    45\n",
       "dtype: int64"
      ]
     },
     "execution_count": 40,
     "metadata": {},
     "output_type": "execute_result"
    }
   ],
   "source": [
    "s6[6]"
   ]
  },
  {
   "cell_type": "code",
   "execution_count": 41,
   "id": "9b12b425-7d61-48d1-b8a1-3c66c8a277d2",
   "metadata": {},
   "outputs": [
    {
     "name": "stderr",
     "output_type": "stream",
     "text": [
      "/tmp/ipykernel_91/4018399945.py:1: FutureWarning: The behavior of `series[i:j]` with an integer-dtype index is deprecated. In a future version, this will be treated as *label-based* indexing, consistent with e.g. `series[i]` lookups. To retain the old behavior, use `series.iloc[i:j]`. To get the future behavior, use `series.loc[i:j]`.\n",
      "  s6[0:6]\n"
     ]
    },
    {
     "data": {
      "text/plain": [
       "2     3\n",
       "4     4\n",
       "5     5\n",
       "6     6\n",
       "1     6\n",
       "9    34\n",
       "dtype: int64"
      ]
     },
     "execution_count": 41,
     "metadata": {},
     "output_type": "execute_result"
    }
   ],
   "source": [
    "s6[0:6]"
   ]
  },
  {
   "cell_type": "code",
   "execution_count": 42,
   "id": "8316f2cf-c2a1-4951-9f83-6a8d840e1a3d",
   "metadata": {},
   "outputs": [
    {
     "data": {
      "text/plain": [
       "2    3\n",
       "4    4\n",
       "5    5\n",
       "6    6\n",
       "1    6\n",
       "dtype: int64"
      ]
     },
     "execution_count": 42,
     "metadata": {},
     "output_type": "execute_result"
    }
   ],
   "source": [
    "s4"
   ]
  },
  {
   "cell_type": "code",
   "execution_count": 43,
   "id": "168ee40c-14f6-4d5d-9e91-bc44855fb7fa",
   "metadata": {},
   "outputs": [
    {
     "data": {
      "text/plain": [
       "9     34\n",
       "4    335\n",
       "5     45\n",
       "6     45\n",
       "7    454\n",
       "dtype: int64"
      ]
     },
     "execution_count": 43,
     "metadata": {},
     "output_type": "execute_result"
    }
   ],
   "source": [
    "s5"
   ]
  },
  {
   "cell_type": "code",
   "execution_count": 44,
   "id": "30411299-13c5-4c9a-b2a1-f5c42ba4886b",
   "metadata": {},
   "outputs": [
    {
     "data": {
      "text/plain": [
       "1       NaN\n",
       "2       NaN\n",
       "4    1340.0\n",
       "5     225.0\n",
       "6     270.0\n",
       "7       NaN\n",
       "9       NaN\n",
       "dtype: float64"
      ]
     },
     "execution_count": 44,
     "metadata": {},
     "output_type": "execute_result"
    }
   ],
   "source": [
    "s4*s5"
   ]
  },
  {
   "cell_type": "code",
   "execution_count": 45,
   "id": "540a8d07-3584-41ea-8eac-3a5e2d834a06",
   "metadata": {},
   "outputs": [
    {
     "data": {
      "text/plain": [
       "1      NaN\n",
       "2      NaN\n",
       "4    339.0\n",
       "5     50.0\n",
       "6     51.0\n",
       "7      NaN\n",
       "9      NaN\n",
       "dtype: float64"
      ]
     },
     "execution_count": 45,
     "metadata": {},
     "output_type": "execute_result"
    }
   ],
   "source": [
    "s4+s5"
   ]
  },
  {
   "cell_type": "code",
   "execution_count": null,
   "id": "babb10f3-5ed8-4169-ab4e-47ec6194c24b",
   "metadata": {},
   "outputs": [],
   "source": []
  }
 ],
 "metadata": {
  "kernelspec": {
   "display_name": "Python 3 (ipykernel)",
   "language": "python",
   "name": "python3"
  },
  "language_info": {
   "codemirror_mode": {
    "name": "ipython",
    "version": 3
   },
   "file_extension": ".py",
   "mimetype": "text/x-python",
   "name": "python",
   "nbconvert_exporter": "python",
   "pygments_lexer": "ipython3",
   "version": "3.10.8"
  }
 },
 "nbformat": 4,
 "nbformat_minor": 5
}
