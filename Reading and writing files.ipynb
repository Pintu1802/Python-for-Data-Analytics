{
 "cells": [
  {
   "cell_type": "code",
   "execution_count": 5,
   "id": "d7fe4243-d02d-4a6d-a549-b7fa812627ae",
   "metadata": {},
   "outputs": [],
   "source": [
    "data = {\n",
    "    \"name\" : \"subh\",\n",
    "    \"mail_id\" : \"subh@gmail.com\",\n",
    "    \"phone number\" : 8936038454,\n",
    "    \"subject\" : [\"data science \" , \"big data\" , \"data analytics\"]\n",
    "}\n",
    "                 "
   ]
  },
  {
   "cell_type": "code",
   "execution_count": 6,
   "id": "ab811b60-15fd-48a6-bedd-c600bb3e6011",
   "metadata": {},
   "outputs": [],
   "source": [
    "import json         # json is a package"
   ]
  },
  {
   "cell_type": "code",
   "execution_count": 7,
   "id": "6d2bb5d5-9eaa-4c31-b90d-7c5592a47bca",
   "metadata": {},
   "outputs": [],
   "source": [
    "with open(\"data.json\" , \"w\" ) as f :        ## dump ia a write to data\n",
    "    json.dump(data , f)"
   ]
  },
  {
   "cell_type": "code",
   "execution_count": 8,
   "id": "93029e28-0739-43d9-89a7-358edce11cf1",
   "metadata": {},
   "outputs": [],
   "source": [
    "## read data\n",
    "with open(\"data.json\" , \"r\") as f :\n",
    "    data1 = json.load(f)"
   ]
  },
  {
   "cell_type": "code",
   "execution_count": 9,
   "id": "4c69c546-75f5-4593-a356-dcd8be9b5c71",
   "metadata": {},
   "outputs": [
    {
     "data": {
      "text/plain": [
       "{'name': 'subh',\n",
       " 'mail_id': 'subh@gmail.com',\n",
       " 'phone number': 8936038454,\n",
       " 'subject': ['data science ', 'big data', 'data analytics']}"
      ]
     },
     "execution_count": 9,
     "metadata": {},
     "output_type": "execute_result"
    }
   ],
   "source": [
    "data1"
   ]
  },
  {
   "cell_type": "code",
   "execution_count": 10,
   "id": "344dc8c2-ba05-4714-bb93-8a6a7755aeb5",
   "metadata": {},
   "outputs": [
    {
     "data": {
      "text/plain": [
       "['data science ', 'big data', 'data analytics']"
      ]
     },
     "execution_count": 10,
     "metadata": {},
     "output_type": "execute_result"
    }
   ],
   "source": [
    "data1['subject']"
   ]
  },
  {
   "cell_type": "code",
   "execution_count": 11,
   "id": "3e1430e7-16a7-446c-a20f-ca79839198af",
   "metadata": {},
   "outputs": [
    {
     "data": {
      "text/plain": [
       "'data analytics'"
      ]
     },
     "execution_count": 11,
     "metadata": {},
     "output_type": "execute_result"
    }
   ],
   "source": [
    "data1['subject'] [2]"
   ]
  },
  {
   "cell_type": "code",
   "execution_count": 12,
   "id": "e08a2e78-1238-4fb4-af65-3ed4f303a7bd",
   "metadata": {},
   "outputs": [],
   "source": [
    "import csv"
   ]
  },
  {
   "cell_type": "code",
   "execution_count": 13,
   "id": "a87c6f8f-f1d7-4e2a-afdb-32bbc06f5fcf",
   "metadata": {},
   "outputs": [],
   "source": [
    "data = [[\"name\" , \"email\" , \"phone_number\"],\n",
    "        [\"subh\" , \"subh@gmail.com\" , 893603845],\n",
    "        [\"krish\" , \"krish@gmail.com\" , 979875367]\n",
    "]\n"
   ]
  },
  {
   "cell_type": "code",
   "execution_count": 14,
   "id": "e328304d-c74c-4793-ae17-a731f6469cc3",
   "metadata": {},
   "outputs": [],
   "source": [
    " ## how to write in csv file \n",
    "with open(\"data.csv\" , \"w\" ) as f :\n",
    "    writer = csv.writer(f)\n",
    "    for i in data:\n",
    "        writer.writerow(i)\n",
    "    "
   ]
  },
  {
   "cell_type": "code",
   "execution_count": 15,
   "id": "e2246d99-694a-4aa0-bd33-fccd985454fc",
   "metadata": {},
   "outputs": [
    {
     "name": "stdout",
     "output_type": "stream",
     "text": [
      "['name', 'email', 'phone_number']\n",
      "['subh', 'subh@gmail.com', '893603845']\n",
      "['krish', 'krish@gmail.com', '979875367']\n"
     ]
    }
   ],
   "source": [
    "## read and write operation\n",
    "with open(\"data.csv\" , 'r') as f :\n",
    "    read_data = csv.reader(f)\n",
    "    \n",
    "    for i  in read_data:\n",
    "        print(i)"
   ]
  },
  {
   "cell_type": "code",
   "execution_count": 26,
   "id": "2763f166-a68a-4763-8677-a836356f7bd8",
   "metadata": {},
   "outputs": [],
   "source": [
    "## How to read binary data ya write \n",
    "with open(\"test4.bin\", \"wb\") as f:\n",
    "    f.write(b\"\\x01\\x02\\x03\\6897776\")"
   ]
  },
  {
   "cell_type": "code",
   "execution_count": 32,
   "id": "eb1b326d-520c-44ec-86d2-98a41ee05539",
   "metadata": {},
   "outputs": [
    {
     "name": "stdout",
     "output_type": "stream",
     "text": [
      "b''\n"
     ]
    }
   ],
   "source": [
    "## read the data\n",
    "with open(\"test4.bin\" , \"rb\")as f:\n",
    "    print(f.read())"
   ]
  },
  {
   "cell_type": "code",
   "execution_count": null,
   "id": "afeda4ce-f50a-44c4-95f4-c6af314d17e3",
   "metadata": {},
   "outputs": [],
   "source": []
  }
 ],
 "metadata": {
  "kernelspec": {
   "display_name": "Python 3 (ipykernel)",
   "language": "python",
   "name": "python3"
  },
  "language_info": {
   "codemirror_mode": {
    "name": "ipython",
    "version": 3
   },
   "file_extension": ".py",
   "mimetype": "text/x-python",
   "name": "python",
   "nbconvert_exporter": "python",
   "pygments_lexer": "ipython3",
   "version": "3.10.8"
  }
 },
 "nbformat": 4,
 "nbformat_minor": 5
}
