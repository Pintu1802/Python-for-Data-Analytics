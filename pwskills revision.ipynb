{
 "cells": [
  {
   "cell_type": "code",
   "execution_count": 1,
   "id": "5ef52765",
   "metadata": {},
   "outputs": [
    {
     "name": "stdout",
     "output_type": "stream",
     "text": [
      "current date and time\n",
      "24-01-06 21:28:53\n"
     ]
    }
   ],
   "source": [
    "import datetime\n",
    "now = datetime.datetime.now()\n",
    "print (\"current date and time\")\n",
    "print (now.strftime(\"%y-%m-%d %H:%M:%S\"))"
   ]
  },
  {
   "cell_type": "code",
   "execution_count": 2,
   "id": "982d5b18",
   "metadata": {},
   "outputs": [
    {
     "name": "stdout",
     "output_type": "stream",
     "text": [
      "date and time\n",
      "24-01-06 21:2853\n"
     ]
    }
   ],
   "source": [
    "import datetime\n",
    "now = datetime.datetime.now()\n",
    "print(\"date and time\")\n",
    "print(now.strftime(\"%y-%m-%d %H:%M%S\"))"
   ]
  },
  {
   "cell_type": "markdown",
   "id": "677d0379",
   "metadata": {},
   "source": [
    "## Basic python"
   ]
  },
  {
   "cell_type": "code",
   "execution_count": 3,
   "id": "de360d33",
   "metadata": {},
   "outputs": [],
   "source": [
    "b = False"
   ]
  },
  {
   "cell_type": "code",
   "execution_count": 4,
   "id": "0d882c9f",
   "metadata": {},
   "outputs": [
    {
     "name": "stdout",
     "output_type": "stream",
     "text": [
      "False\n"
     ]
    }
   ],
   "source": [
    "print(b)"
   ]
  },
  {
   "cell_type": "code",
   "execution_count": 5,
   "id": "5ee67060",
   "metadata": {},
   "outputs": [
    {
     "data": {
      "text/plain": [
       "bool"
      ]
     },
     "execution_count": 5,
     "metadata": {},
     "output_type": "execute_result"
    }
   ],
   "source": [
    "type(b)"
   ]
  },
  {
   "cell_type": "code",
   "execution_count": 6,
   "id": "db79fcdf",
   "metadata": {},
   "outputs": [],
   "source": [
    "B = (1,2,3,4,5,6)"
   ]
  },
  {
   "cell_type": "code",
   "execution_count": 7,
   "id": "b13aa62b",
   "metadata": {},
   "outputs": [
    {
     "data": {
      "text/plain": [
       "tuple"
      ]
     },
     "execution_count": 7,
     "metadata": {},
     "output_type": "execute_result"
    }
   ],
   "source": [
    "type(B)"
   ]
  },
  {
   "cell_type": "code",
   "execution_count": 8,
   "id": "ffd918f7",
   "metadata": {},
   "outputs": [],
   "source": [
    "B = [1,2,3,4,5,6]"
   ]
  },
  {
   "cell_type": "code",
   "execution_count": 9,
   "id": "fafa6613",
   "metadata": {},
   "outputs": [
    {
     "data": {
      "text/plain": [
       "list"
      ]
     },
     "execution_count": 9,
     "metadata": {},
     "output_type": "execute_result"
    }
   ],
   "source": [
    "type(B)"
   ]
  },
  {
   "cell_type": "code",
   "execution_count": 10,
   "id": "4ebf76c7",
   "metadata": {},
   "outputs": [],
   "source": [
    "a= 3+4j"
   ]
  },
  {
   "cell_type": "code",
   "execution_count": 11,
   "id": "20cd2b89",
   "metadata": {},
   "outputs": [
    {
     "data": {
      "text/plain": [
       "complex"
      ]
     },
     "execution_count": 11,
     "metadata": {},
     "output_type": "execute_result"
    }
   ],
   "source": [
    "type(a)"
   ]
  },
  {
   "cell_type": "code",
   "execution_count": 12,
   "id": "45e7e326",
   "metadata": {},
   "outputs": [
    {
     "data": {
      "text/plain": [
       "3.0"
      ]
     },
     "execution_count": 12,
     "metadata": {},
     "output_type": "execute_result"
    }
   ],
   "source": [
    "a.real"
   ]
  },
  {
   "cell_type": "code",
   "execution_count": 13,
   "id": "57585e54",
   "metadata": {},
   "outputs": [
    {
     "data": {
      "text/plain": [
       "4.0"
      ]
     },
     "execution_count": 13,
     "metadata": {},
     "output_type": "execute_result"
    }
   ],
   "source": [
    "a.imag"
   ]
  },
  {
   "cell_type": "code",
   "execution_count": 14,
   "id": "7f9c3dae",
   "metadata": {},
   "outputs": [],
   "source": [
    "s=\"pintukumarsah\""
   ]
  },
  {
   "cell_type": "code",
   "execution_count": 15,
   "id": "7fb00b18",
   "metadata": {},
   "outputs": [
    {
     "data": {
      "text/plain": [
       "str"
      ]
     },
     "execution_count": 15,
     "metadata": {},
     "output_type": "execute_result"
    }
   ],
   "source": [
    "type(s)"
   ]
  },
  {
   "cell_type": "code",
   "execution_count": 16,
   "id": "b4590b9c",
   "metadata": {},
   "outputs": [
    {
     "data": {
      "text/plain": [
       "'n'"
      ]
     },
     "execution_count": 16,
     "metadata": {},
     "output_type": "execute_result"
    }
   ],
   "source": [
    "s[2]"
   ]
  },
  {
   "cell_type": "code",
   "execution_count": 17,
   "id": "c5b6adb9",
   "metadata": {},
   "outputs": [
    {
     "data": {
      "text/plain": [
       "'k'"
      ]
     },
     "execution_count": 17,
     "metadata": {},
     "output_type": "execute_result"
    }
   ],
   "source": [
    "s[5]"
   ]
  },
  {
   "cell_type": "code",
   "execution_count": 18,
   "id": "99b26845",
   "metadata": {},
   "outputs": [
    {
     "data": {
      "text/plain": [
       "'i'"
      ]
     },
     "execution_count": 18,
     "metadata": {},
     "output_type": "execute_result"
    }
   ],
   "source": [
    "s[--1]"
   ]
  },
  {
   "cell_type": "code",
   "execution_count": 19,
   "id": "76974e9c",
   "metadata": {},
   "outputs": [
    {
     "data": {
      "text/plain": [
       "'u'"
      ]
     },
     "execution_count": 19,
     "metadata": {},
     "output_type": "execute_result"
    }
   ],
   "source": [
    "s[----4]"
   ]
  },
  {
   "cell_type": "code",
   "execution_count": 20,
   "id": "d520b08b",
   "metadata": {},
   "outputs": [
    {
     "name": "stdout",
     "output_type": "stream",
     "text": [
      "k\n"
     ]
    }
   ],
   "source": [
    "print(s[5])"
   ]
  },
  {
   "cell_type": "code",
   "execution_count": 21,
   "id": "a55bca5f",
   "metadata": {},
   "outputs": [
    {
     "name": "stdout",
     "output_type": "stream",
     "text": [
      "pintukumarsah\n"
     ]
    }
   ],
   "source": [
    "print(s)"
   ]
  },
  {
   "cell_type": "code",
   "execution_count": 22,
   "id": "b8c6dbb2",
   "metadata": {},
   "outputs": [
    {
     "data": {
      "text/plain": [
       "'p'"
      ]
     },
     "execution_count": 22,
     "metadata": {},
     "output_type": "execute_result"
    }
   ],
   "source": [
    "s[0]"
   ]
  },
  {
   "cell_type": "code",
   "execution_count": 23,
   "id": "eb62541a",
   "metadata": {},
   "outputs": [
    {
     "data": {
      "text/plain": [
       "'pi'"
      ]
     },
     "execution_count": 23,
     "metadata": {},
     "output_type": "execute_result"
    }
   ],
   "source": [
    "s[0:2]"
   ]
  },
  {
   "cell_type": "code",
   "execution_count": 24,
   "id": "01de6a5b",
   "metadata": {},
   "outputs": [
    {
     "data": {
      "text/plain": [
       "'pintukumars'"
      ]
     },
     "execution_count": 24,
     "metadata": {},
     "output_type": "execute_result"
    }
   ],
   "source": [
    "s[0:-2]"
   ]
  },
  {
   "cell_type": "code",
   "execution_count": 25,
   "id": "1e657ed8",
   "metadata": {},
   "outputs": [
    {
     "data": {
      "text/plain": [
       "'pintukumar'"
      ]
     },
     "execution_count": 25,
     "metadata": {},
     "output_type": "execute_result"
    }
   ],
   "source": [
    "s[0:-3]"
   ]
  },
  {
   "cell_type": "code",
   "execution_count": 26,
   "id": "2250d6bf",
   "metadata": {},
   "outputs": [
    {
     "data": {
      "text/plain": [
       "'pi'"
      ]
     },
     "execution_count": 26,
     "metadata": {},
     "output_type": "execute_result"
    }
   ],
   "source": [
    "s[0:--2]"
   ]
  },
  {
   "cell_type": "code",
   "execution_count": 27,
   "id": "065d8217",
   "metadata": {},
   "outputs": [
    {
     "data": {
      "text/plain": [
       "'pintukum'"
      ]
     },
     "execution_count": 27,
     "metadata": {},
     "output_type": "execute_result"
    }
   ],
   "source": [
    "s[0:8]"
   ]
  },
  {
   "cell_type": "code",
   "execution_count": 28,
   "id": "ef3d5f0e",
   "metadata": {},
   "outputs": [
    {
     "data": {
      "text/plain": [
       "'pnuu'"
      ]
     },
     "execution_count": 28,
     "metadata": {},
     "output_type": "execute_result"
    }
   ],
   "source": [
    "s[0:8:2]"
   ]
  },
  {
   "cell_type": "code",
   "execution_count": 29,
   "id": "8cab8305",
   "metadata": {},
   "outputs": [
    {
     "data": {
      "text/plain": [
       "'ptu'"
      ]
     },
     "execution_count": 29,
     "metadata": {},
     "output_type": "execute_result"
    }
   ],
   "source": [
    "s[0:8:3]"
   ]
  },
  {
   "cell_type": "code",
   "execution_count": 30,
   "id": "5de792f7",
   "metadata": {},
   "outputs": [
    {
     "data": {
      "text/plain": [
       "'pintukumarsah'"
      ]
     },
     "execution_count": 30,
     "metadata": {},
     "output_type": "execute_result"
    }
   ],
   "source": [
    "s[::]"
   ]
  },
  {
   "cell_type": "code",
   "execution_count": 31,
   "id": "4b4650eb",
   "metadata": {},
   "outputs": [
    {
     "data": {
      "text/plain": [
       "'pnuuash'"
      ]
     },
     "execution_count": 31,
     "metadata": {},
     "output_type": "execute_result"
    }
   ],
   "source": [
    "s[::2]"
   ]
  },
  {
   "cell_type": "code",
   "execution_count": 32,
   "id": "3ac962c0",
   "metadata": {},
   "outputs": [
    {
     "data": {
      "text/plain": [
       "'hsauunp'"
      ]
     },
     "execution_count": 32,
     "metadata": {},
     "output_type": "execute_result"
    }
   ],
   "source": [
    "s[::-2]"
   ]
  },
  {
   "cell_type": "code",
   "execution_count": 33,
   "id": "fa182d0b",
   "metadata": {},
   "outputs": [
    {
     "name": "stdout",
     "output_type": "stream",
     "text": [
      "pintukumarsah\n"
     ]
    }
   ],
   "source": [
    "print(s)"
   ]
  },
  {
   "cell_type": "code",
   "execution_count": 34,
   "id": "7c5a3a5c",
   "metadata": {},
   "outputs": [
    {
     "data": {
      "text/plain": [
       "'pa'"
      ]
     },
     "execution_count": 34,
     "metadata": {},
     "output_type": "execute_result"
    }
   ],
   "source": [
    "s[::8]"
   ]
  },
  {
   "cell_type": "code",
   "execution_count": 35,
   "id": "3a530d91",
   "metadata": {},
   "outputs": [
    {
     "data": {
      "text/plain": [
       "'ns'"
      ]
     },
     "execution_count": 35,
     "metadata": {},
     "output_type": "execute_result"
    }
   ],
   "source": [
    "s[2::8]"
   ]
  },
  {
   "cell_type": "code",
   "execution_count": 36,
   "id": "30033ad2",
   "metadata": {},
   "outputs": [
    {
     "data": {
      "text/plain": [
       "'nr'"
      ]
     },
     "execution_count": 36,
     "metadata": {},
     "output_type": "execute_result"
    }
   ],
   "source": [
    "s[2::8-1]"
   ]
  },
  {
   "cell_type": "code",
   "execution_count": 37,
   "id": "bcd3caac",
   "metadata": {},
   "outputs": [
    {
     "data": {
      "text/plain": [
       "'nr'"
      ]
     },
     "execution_count": 37,
     "metadata": {},
     "output_type": "execute_result"
    }
   ],
   "source": [
    "s[2::9-2]"
   ]
  },
  {
   "cell_type": "code",
   "execution_count": 38,
   "id": "08f5843c",
   "metadata": {},
   "outputs": [
    {
     "data": {
      "text/plain": [
       "'amukutni'"
      ]
     },
     "execution_count": 38,
     "metadata": {},
     "output_type": "execute_result"
    }
   ],
   "source": [
    "s[8:0:-1]"
   ]
  },
  {
   "cell_type": "code",
   "execution_count": 39,
   "id": "e95974c7",
   "metadata": {},
   "outputs": [
    {
     "data": {
      "text/plain": [
       "''"
      ]
     },
     "execution_count": 39,
     "metadata": {},
     "output_type": "execute_result"
    }
   ],
   "source": [
    "s[-1:9000:-2]"
   ]
  },
  {
   "cell_type": "code",
   "execution_count": 40,
   "id": "26e0a43c",
   "metadata": {},
   "outputs": [],
   "source": [
    "p= \"this is my first class\""
   ]
  },
  {
   "cell_type": "code",
   "execution_count": 41,
   "id": "f6305f08",
   "metadata": {},
   "outputs": [
    {
     "data": {
      "text/plain": [
       "22"
      ]
     },
     "execution_count": 41,
     "metadata": {},
     "output_type": "execute_result"
    }
   ],
   "source": [
    "len(p)"
   ]
  },
  {
   "cell_type": "code",
   "execution_count": 42,
   "id": "364b58fa",
   "metadata": {},
   "outputs": [
    {
     "data": {
      "text/plain": [
       "3"
      ]
     },
     "execution_count": 42,
     "metadata": {},
     "output_type": "execute_result"
    }
   ],
   "source": [
    "p.find('s')"
   ]
  },
  {
   "cell_type": "code",
   "execution_count": 43,
   "id": "c1bed6fe",
   "metadata": {},
   "outputs": [
    {
     "data": {
      "text/plain": [
       "11"
      ]
     },
     "execution_count": 43,
     "metadata": {},
     "output_type": "execute_result"
    }
   ],
   "source": [
    "p.find('f')"
   ]
  },
  {
   "cell_type": "code",
   "execution_count": 44,
   "id": "d8203284",
   "metadata": {},
   "outputs": [
    {
     "data": {
      "text/plain": [
       "8"
      ]
     },
     "execution_count": 44,
     "metadata": {},
     "output_type": "execute_result"
    }
   ],
   "source": [
    "p.find('my')"
   ]
  },
  {
   "cell_type": "code",
   "execution_count": 45,
   "id": "b1e688b3",
   "metadata": {},
   "outputs": [
    {
     "data": {
      "text/plain": [
       "5"
      ]
     },
     "execution_count": 45,
     "metadata": {},
     "output_type": "execute_result"
    }
   ],
   "source": [
    "p.count('s')"
   ]
  },
  {
   "cell_type": "code",
   "execution_count": 46,
   "id": "820de9fc",
   "metadata": {},
   "outputs": [
    {
     "data": {
      "text/plain": [
       "1"
      ]
     },
     "execution_count": 46,
     "metadata": {},
     "output_type": "execute_result"
    }
   ],
   "source": [
    "p.count('c')"
   ]
  },
  {
   "cell_type": "code",
   "execution_count": 47,
   "id": "85329282",
   "metadata": {},
   "outputs": [
    {
     "name": "stdout",
     "output_type": "stream",
     "text": [
      "this is my first class\n"
     ]
    }
   ],
   "source": [
    "print(p)"
   ]
  },
  {
   "cell_type": "code",
   "execution_count": 48,
   "id": "95306e2f",
   "metadata": {},
   "outputs": [
    {
     "data": {
      "text/plain": [
       "'THIS IS MY FIRST CLASS'"
      ]
     },
     "execution_count": 48,
     "metadata": {},
     "output_type": "execute_result"
    }
   ],
   "source": [
    "p.upper()"
   ]
  },
  {
   "cell_type": "code",
   "execution_count": 49,
   "id": "d50d6d1d",
   "metadata": {},
   "outputs": [
    {
     "data": {
      "text/plain": [
       "'this is my first class'"
      ]
     },
     "execution_count": 49,
     "metadata": {},
     "output_type": "execute_result"
    }
   ],
   "source": [
    "p.lower()"
   ]
  },
  {
   "cell_type": "code",
   "execution_count": 50,
   "id": "f8170472",
   "metadata": {},
   "outputs": [
    {
     "data": {
      "text/plain": [
       "'This Is My First Class'"
      ]
     },
     "execution_count": 50,
     "metadata": {},
     "output_type": "execute_result"
    }
   ],
   "source": [
    "p.title()"
   ]
  },
  {
   "cell_type": "code",
   "execution_count": 51,
   "id": "aab3d851",
   "metadata": {},
   "outputs": [
    {
     "data": {
      "text/plain": [
       "'This is my first class'"
      ]
     },
     "execution_count": 51,
     "metadata": {},
     "output_type": "execute_result"
    }
   ],
   "source": [
    "p.capitalize()"
   ]
  },
  {
   "cell_type": "code",
   "execution_count": 52,
   "id": "eb51b65c",
   "metadata": {},
   "outputs": [
    {
     "name": "stdout",
     "output_type": "stream",
     "text": [
      "pintukumarsah\n"
     ]
    }
   ],
   "source": [
    "print(s)"
   ]
  },
  {
   "cell_type": "code",
   "execution_count": 53,
   "id": "1aca1e48",
   "metadata": {},
   "outputs": [
    {
     "data": {
      "text/plain": [
       "'pintukumarsahgupta'"
      ]
     },
     "execution_count": 53,
     "metadata": {},
     "output_type": "execute_result"
    }
   ],
   "source": [
    "s + \"gupta\""
   ]
  },
  {
   "cell_type": "code",
   "execution_count": 54,
   "id": "3305a6af",
   "metadata": {},
   "outputs": [
    {
     "data": {
      "text/plain": [
       "'pintukumarsah'"
      ]
     },
     "execution_count": 54,
     "metadata": {},
     "output_type": "execute_result"
    }
   ],
   "source": [
    "s"
   ]
  },
  {
   "cell_type": "code",
   "execution_count": 55,
   "id": "935d4b68",
   "metadata": {},
   "outputs": [
    {
     "data": {
      "text/plain": [
       "'pintukumarsahpintukumarsah'"
      ]
     },
     "execution_count": 55,
     "metadata": {},
     "output_type": "execute_result"
    }
   ],
   "source": [
    "s * 2"
   ]
  },
  {
   "cell_type": "code",
   "execution_count": 56,
   "id": "84590638",
   "metadata": {},
   "outputs": [
    {
     "data": {
      "text/plain": [
       "'pintupintu'"
      ]
     },
     "execution_count": 56,
     "metadata": {},
     "output_type": "execute_result"
    }
   ],
   "source": [
    "\"pintu\" * 2"
   ]
  },
  {
   "cell_type": "markdown",
   "id": "a775a9ec",
   "metadata": {},
   "source": [
    "## List , Tuple , Set"
   ]
  },
  {
   "cell_type": "code",
   "execution_count": 57,
   "id": "a16bd58b",
   "metadata": {},
   "outputs": [],
   "source": [
    "l= [\"pintu\",True,4+5j,1,2,3,345,78.65]"
   ]
  },
  {
   "cell_type": "code",
   "execution_count": 58,
   "id": "000a81c8",
   "metadata": {},
   "outputs": [
    {
     "data": {
      "text/plain": [
       "list"
      ]
     },
     "execution_count": 58,
     "metadata": {},
     "output_type": "execute_result"
    }
   ],
   "source": [
    "type(l)"
   ]
  },
  {
   "cell_type": "code",
   "execution_count": 59,
   "id": "26952270",
   "metadata": {},
   "outputs": [
    {
     "data": {
      "text/plain": [
       "complex"
      ]
     },
     "execution_count": 59,
     "metadata": {},
     "output_type": "execute_result"
    }
   ],
   "source": [
    "type(l[2])"
   ]
  },
  {
   "cell_type": "code",
   "execution_count": 60,
   "id": "1a8599af",
   "metadata": {},
   "outputs": [
    {
     "data": {
      "text/plain": [
       "bool"
      ]
     },
     "execution_count": 60,
     "metadata": {},
     "output_type": "execute_result"
    }
   ],
   "source": [
    "type(l[1])"
   ]
  },
  {
   "cell_type": "code",
   "execution_count": 61,
   "id": "e3149118",
   "metadata": {},
   "outputs": [
    {
     "data": {
      "text/plain": [
       "int"
      ]
     },
     "execution_count": 61,
     "metadata": {},
     "output_type": "execute_result"
    }
   ],
   "source": [
    "type(l[4])"
   ]
  },
  {
   "cell_type": "code",
   "execution_count": 62,
   "id": "ce381293",
   "metadata": {},
   "outputs": [
    {
     "data": {
      "text/plain": [
       "str"
      ]
     },
     "execution_count": 62,
     "metadata": {},
     "output_type": "execute_result"
    }
   ],
   "source": [
    "type(l[0])"
   ]
  },
  {
   "cell_type": "code",
   "execution_count": 63,
   "id": "07812b68",
   "metadata": {},
   "outputs": [
    {
     "name": "stdout",
     "output_type": "stream",
     "text": [
      "pintu\n"
     ]
    }
   ],
   "source": [
    "print(l[0])"
   ]
  },
  {
   "cell_type": "code",
   "execution_count": 64,
   "id": "5688ea15",
   "metadata": {},
   "outputs": [
    {
     "data": {
      "text/plain": [
       "'pintu'"
      ]
     },
     "execution_count": 64,
     "metadata": {},
     "output_type": "execute_result"
    }
   ],
   "source": [
    "l[0]"
   ]
  },
  {
   "cell_type": "code",
   "execution_count": 65,
   "id": "6570a3d7",
   "metadata": {},
   "outputs": [
    {
     "data": {
      "text/plain": [
       "(4+5j)"
      ]
     },
     "execution_count": 65,
     "metadata": {},
     "output_type": "execute_result"
    }
   ],
   "source": [
    "l[2]"
   ]
  },
  {
   "cell_type": "code",
   "execution_count": 66,
   "id": "2106fa01",
   "metadata": {},
   "outputs": [
    {
     "data": {
      "text/plain": [
       "['pintu', True, (4+5j), 1, 2, 3, 345, 78.65]"
      ]
     },
     "execution_count": 66,
     "metadata": {},
     "output_type": "execute_result"
    }
   ],
   "source": [
    "l"
   ]
  },
  {
   "cell_type": "code",
   "execution_count": 67,
   "id": "d80ad94e",
   "metadata": {},
   "outputs": [
    {
     "data": {
      "text/plain": [
       "['pintu', True, (4+5j), 1, 2, 3, 345, 78.65]"
      ]
     },
     "execution_count": 67,
     "metadata": {},
     "output_type": "execute_result"
    }
   ],
   "source": [
    "l[:]"
   ]
  },
  {
   "cell_type": "code",
   "execution_count": 68,
   "id": "da9cdc03",
   "metadata": {},
   "outputs": [
    {
     "data": {
      "text/plain": [
       "['pintu', True, (4+5j), 1, 2]"
      ]
     },
     "execution_count": 68,
     "metadata": {},
     "output_type": "execute_result"
    }
   ],
   "source": [
    "l[0:5]"
   ]
  },
  {
   "cell_type": "code",
   "execution_count": 69,
   "id": "e168960c",
   "metadata": {},
   "outputs": [
    {
     "data": {
      "text/plain": [
       "78.65"
      ]
     },
     "execution_count": 69,
     "metadata": {},
     "output_type": "execute_result"
    }
   ],
   "source": [
    "l[-1]"
   ]
  },
  {
   "cell_type": "code",
   "execution_count": 70,
   "id": "6a028175",
   "metadata": {},
   "outputs": [
    {
     "data": {
      "text/plain": [
       "'pintu'"
      ]
     },
     "execution_count": 70,
     "metadata": {},
     "output_type": "execute_result"
    }
   ],
   "source": [
    "l[-8]"
   ]
  },
  {
   "cell_type": "code",
   "execution_count": 71,
   "id": "924ff3f4",
   "metadata": {},
   "outputs": [],
   "source": [
    "s=\"pwskills\""
   ]
  },
  {
   "cell_type": "code",
   "execution_count": 72,
   "id": "5b18a6d6",
   "metadata": {},
   "outputs": [
    {
     "data": {
      "text/plain": [
       "['p', 'w', 's', 'k', 'i', 'l', 'l', 's']"
      ]
     },
     "execution_count": 72,
     "metadata": {},
     "output_type": "execute_result"
    }
   ],
   "source": [
    "list(s)"
   ]
  },
  {
   "cell_type": "code",
   "execution_count": 73,
   "id": "2eec9650",
   "metadata": {},
   "outputs": [
    {
     "data": {
      "text/plain": [
       "['p',\n",
       " 'w',\n",
       " 's',\n",
       " 'k',\n",
       " 'i',\n",
       " 'l',\n",
       " 'l',\n",
       " 's',\n",
       " 'pintu',\n",
       " True,\n",
       " (4+5j),\n",
       " 1,\n",
       " 2,\n",
       " 3,\n",
       " 345,\n",
       " 78.65]"
      ]
     },
     "execution_count": 73,
     "metadata": {},
     "output_type": "execute_result"
    }
   ],
   "source": [
    "list(s) + l"
   ]
  },
  {
   "cell_type": "code",
   "execution_count": 74,
   "id": "20716316",
   "metadata": {},
   "outputs": [
    {
     "data": {
      "text/plain": [
       "['pintu', True, (4+5j), 1, 2, 3, 345, 78.65]"
      ]
     },
     "execution_count": 74,
     "metadata": {},
     "output_type": "execute_result"
    }
   ],
   "source": [
    "l"
   ]
  },
  {
   "cell_type": "code",
   "execution_count": 75,
   "id": "9fc912e4",
   "metadata": {},
   "outputs": [
    {
     "data": {
      "text/plain": [
       "'int'"
      ]
     },
     "execution_count": 75,
     "metadata": {},
     "output_type": "execute_result"
    }
   ],
   "source": [
    "l[0] [1:4]"
   ]
  },
  {
   "cell_type": "code",
   "execution_count": 76,
   "id": "53efb975",
   "metadata": {},
   "outputs": [],
   "source": [
    "l1= [1,2,3,4,\"pintu\"]"
   ]
  },
  {
   "cell_type": "code",
   "execution_count": 77,
   "id": "1197a9b0",
   "metadata": {},
   "outputs": [
    {
     "data": {
      "text/plain": [
       "['pintu', True, (4+5j), 1, 2, 3, 345, 78.65, 1, 2, 3, 4, 'pintu']"
      ]
     },
     "execution_count": 77,
     "metadata": {},
     "output_type": "execute_result"
    }
   ],
   "source": [
    "l+l1"
   ]
  },
  {
   "cell_type": "code",
   "execution_count": 78,
   "id": "290c603b",
   "metadata": {},
   "outputs": [
    {
     "data": {
      "text/plain": [
       "[1, 2, 3, 4, 'pintu', 1, 2, 3, 4, 'pintu', 1, 2, 3, 4, 'pintu']"
      ]
     },
     "execution_count": 78,
     "metadata": {},
     "output_type": "execute_result"
    }
   ],
   "source": [
    "l1*3"
   ]
  },
  {
   "cell_type": "code",
   "execution_count": 79,
   "id": "7f5a18a8",
   "metadata": {},
   "outputs": [],
   "source": [
    "l= [\"pintu\",True,4+5j,1,2,3,345,78.65]"
   ]
  },
  {
   "cell_type": "code",
   "execution_count": 80,
   "id": "3a448595",
   "metadata": {},
   "outputs": [],
   "source": [
    "l.append(\"pwskillls\")                    ### append- Add any data"
   ]
  },
  {
   "cell_type": "code",
   "execution_count": 81,
   "id": "a4fc31a1",
   "metadata": {},
   "outputs": [
    {
     "data": {
      "text/plain": [
       "['pintu', True, (4+5j), 1, 2, 3, 345, 78.65, 'pwskillls']"
      ]
     },
     "execution_count": 81,
     "metadata": {},
     "output_type": "execute_result"
    }
   ],
   "source": [
    "\n",
    "\n",
    "\n",
    "\n",
    "l"
   ]
  },
  {
   "cell_type": "code",
   "execution_count": 82,
   "id": "fbc3dee4",
   "metadata": {},
   "outputs": [],
   "source": [
    "l.extend('pintu')                     ### extend the data in diffrent"
   ]
  },
  {
   "cell_type": "code",
   "execution_count": 83,
   "id": "5b3655e8",
   "metadata": {},
   "outputs": [
    {
     "data": {
      "text/plain": [
       "['pintu',\n",
       " True,\n",
       " (4+5j),\n",
       " 1,\n",
       " 2,\n",
       " 3,\n",
       " 345,\n",
       " 78.65,\n",
       " 'pwskillls',\n",
       " 'p',\n",
       " 'i',\n",
       " 'n',\n",
       " 't',\n",
       " 'u']"
      ]
     },
     "execution_count": 83,
     "metadata": {},
     "output_type": "execute_result"
    }
   ],
   "source": [
    "l"
   ]
  },
  {
   "cell_type": "code",
   "execution_count": 84,
   "id": "ca076d8c",
   "metadata": {},
   "outputs": [],
   "source": [
    "l.extend([1,2,3])"
   ]
  },
  {
   "cell_type": "code",
   "execution_count": 85,
   "id": "2ae9a87c",
   "metadata": {},
   "outputs": [
    {
     "data": {
      "text/plain": [
       "['pintu',\n",
       " True,\n",
       " (4+5j),\n",
       " 1,\n",
       " 2,\n",
       " 3,\n",
       " 345,\n",
       " 78.65,\n",
       " 'pwskillls',\n",
       " 'p',\n",
       " 'i',\n",
       " 'n',\n",
       " 't',\n",
       " 'u',\n",
       " 1,\n",
       " 2,\n",
       " 3]"
      ]
     },
     "execution_count": 85,
     "metadata": {},
     "output_type": "execute_result"
    }
   ],
   "source": [
    "l"
   ]
  },
  {
   "cell_type": "code",
   "execution_count": 86,
   "id": "83417514",
   "metadata": {},
   "outputs": [],
   "source": [
    "l.insert(1,'True')             ## insert the data"
   ]
  },
  {
   "cell_type": "code",
   "execution_count": 87,
   "id": "ad7085bd",
   "metadata": {},
   "outputs": [
    {
     "data": {
      "text/plain": [
       "['pintu',\n",
       " 'True',\n",
       " True,\n",
       " (4+5j),\n",
       " 1,\n",
       " 2,\n",
       " 3,\n",
       " 345,\n",
       " 78.65,\n",
       " 'pwskillls',\n",
       " 'p',\n",
       " 'i',\n",
       " 'n',\n",
       " 't',\n",
       " 'u',\n",
       " 1,\n",
       " 2,\n",
       " 3]"
      ]
     },
     "execution_count": 87,
     "metadata": {},
     "output_type": "execute_result"
    }
   ],
   "source": [
    "l"
   ]
  },
  {
   "cell_type": "code",
   "execution_count": 88,
   "id": "f5aba670",
   "metadata": {},
   "outputs": [],
   "source": [
    "l1 = [1,2,3,4,\"pintu\",\"gupta\"]"
   ]
  },
  {
   "cell_type": "code",
   "execution_count": 89,
   "id": "40be1c3d",
   "metadata": {},
   "outputs": [
    {
     "data": {
      "text/plain": [
       "'gupta'"
      ]
     },
     "execution_count": 89,
     "metadata": {},
     "output_type": "execute_result"
    }
   ],
   "source": [
    "l1.pop()"
   ]
  },
  {
   "cell_type": "code",
   "execution_count": 90,
   "id": "11b84b3c",
   "metadata": {},
   "outputs": [
    {
     "data": {
      "text/plain": [
       "[1, 2, 3, 4, 'pintu']"
      ]
     },
     "execution_count": 90,
     "metadata": {},
     "output_type": "execute_result"
    }
   ],
   "source": [
    "l1"
   ]
  },
  {
   "cell_type": "code",
   "execution_count": 91,
   "id": "605d5b85",
   "metadata": {},
   "outputs": [],
   "source": [
    "f=[2,3,4,5,6,7,\"pintu\",\"pwskills\"]"
   ]
  },
  {
   "cell_type": "code",
   "execution_count": 92,
   "id": "632d34b5",
   "metadata": {},
   "outputs": [
    {
     "data": {
      "text/plain": [
       "list"
      ]
     },
     "execution_count": 92,
     "metadata": {},
     "output_type": "execute_result"
    }
   ],
   "source": [
    "type(f)"
   ]
  },
  {
   "cell_type": "code",
   "execution_count": 93,
   "id": "6b98fb6e",
   "metadata": {},
   "outputs": [
    {
     "data": {
      "text/plain": [
       "'pintu'"
      ]
     },
     "execution_count": 93,
     "metadata": {},
     "output_type": "execute_result"
    }
   ],
   "source": [
    "f[6]"
   ]
  },
  {
   "cell_type": "code",
   "execution_count": 94,
   "id": "2d0b4c9c",
   "metadata": {},
   "outputs": [
    {
     "name": "stdout",
     "output_type": "stream",
     "text": [
      "n\n"
     ]
    }
   ],
   "source": [
    "print(\"pintu\"[2])"
   ]
  },
  {
   "cell_type": "code",
   "execution_count": 95,
   "id": "8e73edd2",
   "metadata": {},
   "outputs": [
    {
     "data": {
      "text/plain": [
       "'pwskills'"
      ]
     },
     "execution_count": 95,
     "metadata": {},
     "output_type": "execute_result"
    }
   ],
   "source": [
    "f[7]"
   ]
  },
  {
   "cell_type": "code",
   "execution_count": 96,
   "id": "4039f121",
   "metadata": {},
   "outputs": [
    {
     "name": "stdout",
     "output_type": "stream",
     "text": [
      "pws\n"
     ]
    }
   ],
   "source": [
    "print(\"pwskills\"[0:3])"
   ]
  },
  {
   "cell_type": "code",
   "execution_count": 97,
   "id": "9083911f",
   "metadata": {},
   "outputs": [
    {
     "data": {
      "text/plain": [
       "[2, 3, 4, 5, 6, 7, 'pintu', 'pwskills']"
      ]
     },
     "execution_count": 97,
     "metadata": {},
     "output_type": "execute_result"
    }
   ],
   "source": [
    "f"
   ]
  },
  {
   "cell_type": "code",
   "execution_count": 98,
   "id": "0c4d209a",
   "metadata": {},
   "outputs": [
    {
     "data": {
      "text/plain": [
       "7"
      ]
     },
     "execution_count": 98,
     "metadata": {},
     "output_type": "execute_result"
    }
   ],
   "source": [
    "f.pop(5)"
   ]
  },
  {
   "cell_type": "code",
   "execution_count": 99,
   "id": "0748ea87",
   "metadata": {},
   "outputs": [
    {
     "data": {
      "text/plain": [
       "[2, 3, 4, 5, 6, 'pintu', 'pwskills']"
      ]
     },
     "execution_count": 99,
     "metadata": {},
     "output_type": "execute_result"
    }
   ],
   "source": [
    "f"
   ]
  },
  {
   "cell_type": "code",
   "execution_count": 100,
   "id": "1a19bdb1",
   "metadata": {},
   "outputs": [],
   "source": [
    "f.remove(4)"
   ]
  },
  {
   "cell_type": "code",
   "execution_count": 101,
   "id": "ec63a10f",
   "metadata": {},
   "outputs": [
    {
     "data": {
      "text/plain": [
       "[2, 3, 5, 6, 'pintu', 'pwskills']"
      ]
     },
     "execution_count": 101,
     "metadata": {},
     "output_type": "execute_result"
    }
   ],
   "source": [
    "f"
   ]
  },
  {
   "cell_type": "code",
   "execution_count": 102,
   "id": "3bbe5f19",
   "metadata": {},
   "outputs": [],
   "source": [
    "p=[1,2,3,4,5,[6,7,8],9]"
   ]
  },
  {
   "cell_type": "code",
   "execution_count": 103,
   "id": "55effb63",
   "metadata": {},
   "outputs": [],
   "source": [
    "p[5].remove(7)"
   ]
  },
  {
   "cell_type": "code",
   "execution_count": 104,
   "id": "6476facb",
   "metadata": {},
   "outputs": [
    {
     "data": {
      "text/plain": [
       "[1, 2, 3, 4, 5, [6, 8], 9]"
      ]
     },
     "execution_count": 104,
     "metadata": {},
     "output_type": "execute_result"
    }
   ],
   "source": [
    "p"
   ]
  },
  {
   "cell_type": "code",
   "execution_count": 105,
   "id": "da72a5e8",
   "metadata": {},
   "outputs": [
    {
     "data": {
      "text/plain": [
       "[9, [6, 8], 5, 4, 3, 2, 1]"
      ]
     },
     "execution_count": 105,
     "metadata": {},
     "output_type": "execute_result"
    }
   ],
   "source": [
    "p[::-1]"
   ]
  },
  {
   "cell_type": "code",
   "execution_count": 106,
   "id": "cadaaf87",
   "metadata": {},
   "outputs": [
    {
     "data": {
      "text/plain": [
       "[1, 2, 3, 4, 5, [6, 8], 9]"
      ]
     },
     "execution_count": 106,
     "metadata": {},
     "output_type": "execute_result"
    }
   ],
   "source": [
    "p"
   ]
  },
  {
   "cell_type": "code",
   "execution_count": 107,
   "id": "c9e31fe3",
   "metadata": {},
   "outputs": [
    {
     "ename": "TypeError",
     "evalue": "'<' not supported between instances of 'list' and 'int'",
     "output_type": "error",
     "traceback": [
      "\u001b[1;31m---------------------------------------------------------------------------\u001b[0m",
      "\u001b[1;31mTypeError\u001b[0m                                 Traceback (most recent call last)",
      "Input \u001b[1;32mIn [107]\u001b[0m, in \u001b[0;36m<cell line: 1>\u001b[1;34m()\u001b[0m\n\u001b[1;32m----> 1\u001b[0m \u001b[43mp\u001b[49m\u001b[38;5;241;43m.\u001b[39;49m\u001b[43msort\u001b[49m\u001b[43m(\u001b[49m\u001b[43m)\u001b[49m\n",
      "\u001b[1;31mTypeError\u001b[0m: '<' not supported between instances of 'list' and 'int'"
     ]
    }
   ],
   "source": [
    "p.sort()"
   ]
  },
  {
   "cell_type": "code",
   "execution_count": null,
   "id": "d5d4f98b",
   "metadata": {},
   "outputs": [],
   "source": [
    "l2=[1,3,2,0,5,6,8,9,4,20]"
   ]
  },
  {
   "cell_type": "code",
   "execution_count": null,
   "id": "af00d50d",
   "metadata": {},
   "outputs": [],
   "source": [
    "l2.sort()                  ## sort means print less then to greter than"
   ]
  },
  {
   "cell_type": "code",
   "execution_count": null,
   "id": "c2d4cf78",
   "metadata": {},
   "outputs": [],
   "source": [
    "l2"
   ]
  },
  {
   "cell_type": "code",
   "execution_count": null,
   "id": "d27ed8ec",
   "metadata": {},
   "outputs": [],
   "source": [
    "l4=[\"name\",\"pintu\",\"kumar\",\"gupta\"]"
   ]
  },
  {
   "cell_type": "code",
   "execution_count": null,
   "id": "b58b98ee",
   "metadata": {},
   "outputs": [],
   "source": [
    "l4.index(\"pintu\")               ### index means print which number"
   ]
  },
  {
   "cell_type": "code",
   "execution_count": null,
   "id": "20b18b84",
   "metadata": {},
   "outputs": [],
   "source": [
    "l4.index(\"gupta\")"
   ]
  },
  {
   "cell_type": "code",
   "execution_count": null,
   "id": "5381306b",
   "metadata": {},
   "outputs": [],
   "source": [
    "l4.count(\"gupta\")"
   ]
  },
  {
   "cell_type": "code",
   "execution_count": null,
   "id": "e1294e82",
   "metadata": {},
   "outputs": [],
   "source": [
    "l4=[\"name\",\"pintu\",\"kumar\",\"gupta\"]"
   ]
  },
  {
   "cell_type": "code",
   "execution_count": null,
   "id": "7c551d22",
   "metadata": {},
   "outputs": [],
   "source": [
    "l4[0] = 89"
   ]
  },
  {
   "cell_type": "code",
   "execution_count": null,
   "id": "2045ef1d",
   "metadata": {},
   "outputs": [],
   "source": [
    "l4"
   ]
  },
  {
   "cell_type": "code",
   "execution_count": 108,
   "id": "fc64bb4b",
   "metadata": {},
   "outputs": [],
   "source": [
    "a= \"pintu\""
   ]
  },
  {
   "cell_type": "code",
   "execution_count": 109,
   "id": "615b0ad1",
   "metadata": {},
   "outputs": [
    {
     "data": {
      "text/plain": [
       "'gintu'"
      ]
     },
     "execution_count": 109,
     "metadata": {},
     "output_type": "execute_result"
    }
   ],
   "source": [
    "a.replace('p' , 'g')                ## replace menas another value with another place"
   ]
  },
  {
   "cell_type": "code",
   "execution_count": 110,
   "id": "c78c9f93",
   "metadata": {},
   "outputs": [],
   "source": [
    "s1={}"
   ]
  },
  {
   "cell_type": "code",
   "execution_count": 111,
   "id": "668f254c",
   "metadata": {},
   "outputs": [
    {
     "data": {
      "text/plain": [
       "dict"
      ]
     },
     "execution_count": 111,
     "metadata": {},
     "output_type": "execute_result"
    }
   ],
   "source": [
    "type(s1)"
   ]
  },
  {
   "cell_type": "code",
   "execution_count": 113,
   "id": "1e6b9a86",
   "metadata": {},
   "outputs": [],
   "source": [
    "s2= {1,2,3,4,5,6,7}"
   ]
  },
  {
   "cell_type": "code",
   "execution_count": 114,
   "id": "8a025c02",
   "metadata": {},
   "outputs": [
    {
     "data": {
      "text/plain": [
       "set"
      ]
     },
     "execution_count": 114,
     "metadata": {},
     "output_type": "execute_result"
    }
   ],
   "source": [
    "type(s2)"
   ]
  },
  {
   "cell_type": "code",
   "execution_count": 115,
   "id": "2bdf0e11",
   "metadata": {},
   "outputs": [],
   "source": [
    "s3={2,3,4,45,67,\"pintu\",\"pwskills\",\"false\",(45+67j),(3,4,5,5)}"
   ]
  },
  {
   "cell_type": "code",
   "execution_count": 116,
   "id": "9383ab80",
   "metadata": {},
   "outputs": [
    {
     "data": {
      "text/plain": [
       "{(3, 4, 5, 5), (45+67j), 2, 3, 4, 45, 67, 'false', 'pintu', 'pwskills'}"
      ]
     },
     "execution_count": 116,
     "metadata": {},
     "output_type": "execute_result"
    }
   ],
   "source": [
    "s3"
   ]
  },
  {
   "cell_type": "code",
   "execution_count": null,
   "id": "0bee9d0c",
   "metadata": {},
   "outputs": [],
   "source": []
  }
 ],
 "metadata": {
  "kernelspec": {
   "display_name": "Python 3 (ipykernel)",
   "language": "python",
   "name": "python3"
  },
  "language_info": {
   "codemirror_mode": {
    "name": "ipython",
    "version": 3
   },
   "file_extension": ".py",
   "mimetype": "text/x-python",
   "name": "python",
   "nbconvert_exporter": "python",
   "pygments_lexer": "ipython3",
   "version": "3.9.12"
  }
 },
 "nbformat": 4,
 "nbformat_minor": 5
}
