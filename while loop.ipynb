{
 "cells": [
  {
   "cell_type": "code",
   "execution_count": 2,
   "id": "047f28ce-7279-49f5-816e-424712053a06",
   "metadata": {},
   "outputs": [
    {
     "name": "stdout",
     "output_type": "stream",
     "text": [
      "1\n",
      "2\n",
      "3\n",
      "4\n",
      "5\n",
      "6\n",
      "7\n",
      "8\n",
      "9\n",
      "10\n"
     ]
    }
   ],
   "source": [
    "a=1\n",
    "while a<=10:\n",
    "    print(a)\n",
    "    a = a+1"
   ]
  },
  {
   "cell_type": "markdown",
   "id": "955b80c4-2c75-4be7-b802-0a6a02a07f35",
   "metadata": {},
   "source": [
    "# sum of the number till some point"
   ]
  },
  {
   "cell_type": "code",
   "execution_count": 6,
   "id": "352155cd-d476-4ad0-80b0-f0e6cc6a881b",
   "metadata": {},
   "outputs": [
    {
     "name": "stdin",
     "output_type": "stream",
     "text": [
      "Enter your limit 5\n"
     ]
    },
    {
     "data": {
      "text/plain": [
       "15"
      ]
     },
     "execution_count": 6,
     "metadata": {},
     "output_type": "execute_result"
    }
   ],
   "source": [
    "n =int( input(\"Enter your limit\"))\n",
    "stating_point = 0\n",
    "counter = 1\n",
    "while counter <= n:\n",
    "    stating_point = stating_point + counter\n",
    "    counter = counter+1\n",
    "stating_point"
   ]
  },
  {
   "cell_type": "markdown",
   "id": "15cb8d08-8f21-4ba3-8d17-cb772ce8a167",
   "metadata": {},
   "source": [
    "#Factorial number in python"
   ]
  },
  {
   "cell_type": "code",
   "execution_count": 5,
   "id": "db39a0cc-7377-4d6d-943b-4b6e1f40128f",
   "metadata": {},
   "outputs": [
    {
     "name": "stdin",
     "output_type": "stream",
     "text": [
      "Enter your number 2\n"
     ]
    },
    {
     "data": {
      "text/plain": [
       "4"
      ]
     },
     "execution_count": 5,
     "metadata": {},
     "output_type": "execute_result"
    }
   ],
   "source": [
    "number = int(input(\"Enter your number\"))\n",
    "factorial = 1\n",
    "while number > 0:\n",
    "    factorial = factorial+number\n",
    "    number = number-1\n",
    "factorial"
   ]
  },
  {
   "cell_type": "markdown",
   "id": "7db59367-8af2-40a8-b8b2-e130ff392226",
   "metadata": {},
   "source": [
    "#finonaacci series in python"
   ]
  },
  {
   "cell_type": "code",
   "execution_count": 4,
   "id": "d3b5f3aa-df94-4295-aff7-3c777a5d8add",
   "metadata": {},
   "outputs": [
    {
     "name": "stdin",
     "output_type": "stream",
     "text": [
      "Enter the number of element your are  looking for 10\n"
     ]
    }
   ],
   "source": [
    "# 011235813\n",
    "number = int(input(\"Enter the number of element your are  looking for\"))\n",
    "a , b = 0,1\n",
    "counter = 0\n",
    "while counter < counter :\n",
    "    print(a)\n",
    "    c = a+b\n",
    "    a = b\n",
    "    b = c\n",
    "    counter = counter+ 1\n",
    "    "
   ]
  },
  {
   "cell_type": "code",
   "execution_count": 5,
   "id": "ae45e7a9-8abb-44a5-bbd3-c81f2ede7b9e",
   "metadata": {},
   "outputs": [
    {
     "name": "stdout",
     "output_type": "stream",
     "text": [
      "0\n",
      "1\n",
      "1\n",
      "2\n",
      "3\n",
      "5\n",
      "8\n",
      "13\n",
      "21\n",
      "34\n"
     ]
    }
   ],
   "source": [
    "a , b = 0,1\n",
    "for i in range(10):\n",
    "    print(a)\n",
    "    c=a+b\n",
    "    a=b\n",
    "    b=c"
   ]
  },
  {
   "cell_type": "code",
   "execution_count": 6,
   "id": "3dee3b0f-28e6-4a1d-a024-2c06800b4b2e",
   "metadata": {},
   "outputs": [],
   "source": [
    "s= \"subh\""
   ]
  },
  {
   "cell_type": "code",
   "execution_count": 7,
   "id": "fdd3ec81-8f66-407d-af11-4db4285e9953",
   "metadata": {},
   "outputs": [
    {
     "data": {
      "text/plain": [
       "'hbus'"
      ]
     },
     "execution_count": 7,
     "metadata": {},
     "output_type": "execute_result"
    }
   ],
   "source": [
    "s[::-1]"
   ]
  },
  {
   "cell_type": "code",
   "execution_count": 3,
   "id": "c9aece56-2d79-4ff7-813b-1523fd593dbd",
   "metadata": {},
   "outputs": [
    {
     "name": "stdin",
     "output_type": "stream",
     "text": [
      "enter your string for reversal subh\n"
     ]
    }
   ],
   "source": [
    "word = input(\"enter your string for reversal\")"
   ]
  },
  {
   "cell_type": "code",
   "execution_count": 8,
   "id": "1e59a3b6-4748-4e63-bc32-14eaf27ac6b8",
   "metadata": {},
   "outputs": [
    {
     "name": "stdout",
     "output_type": "stream",
     "text": [
      "s\n"
     ]
    }
   ],
   "source": [
    "reverce = \"\"\n",
    "length = len(word)\n",
    "while length > 0 :\n",
    "    reverse = reverce + word[length -1]\n",
    "    length = length -1\n",
    "print(reverse)"
   ]
  },
  {
   "cell_type": "markdown",
   "id": "f00a3d7d-f8fb-4922-83d5-5519a40a5340",
   "metadata": {},
   "source": [
    "# print table of numbers"
   ]
  },
  {
   "cell_type": "code",
   "execution_count": 13,
   "id": "2f6e3f4e-98ac-433a-86f4-ade83f4f27ab",
   "metadata": {},
   "outputs": [
    {
     "name": "stdin",
     "output_type": "stream",
     "text": [
      "enter your number 12\n"
     ]
    },
    {
     "name": "stdout",
     "output_type": "stream",
     "text": [
      "12 * 1 = 12\n",
      "12 * 2 = 24\n",
      "12 * 3 = 36\n",
      "12 * 4 = 48\n",
      "12 * 5 = 60\n",
      "12 * 6 = 72\n",
      "12 * 7 = 84\n",
      "12 * 8 = 96\n",
      "12 * 9 = 108\n",
      "12 * 10 = 120\n"
     ]
    }
   ],
   "source": [
    "n = int(input(\"enter your number\"))\n",
    "i = 1\n",
    "while i <= 10 :\n",
    "    result = n*i\n",
    "    print(n,\"*\", i ,\"=\",result)\n",
    "    i = i+1\n",
    "\n",
    "        "
   ]
  },
  {
   "cell_type": "code",
   "execution_count": 2,
   "id": "9e3e4004-7ce4-4bbf-9907-a6a3ba61959f",
   "metadata": {},
   "outputs": [
    {
     "name": "stdout",
     "output_type": "stream",
     "text": [
      "1\n",
      "2\n",
      "3\n"
     ]
    }
   ],
   "source": [
    "n=5\n",
    "i=1\n",
    "while i < n :\n",
    "    print(i)\n",
    "    if i == 3 :\n",
    "        break\n",
    "    i = i+1\n",
    "else:\n",
    "    print(\"this will be executed once your while will complete it succesfulyl\")"
   ]
  },
  {
   "cell_type": "code",
   "execution_count": null,
   "id": "bb9ba8cf-e4dc-4a60-9062-8e033bb2adfc",
   "metadata": {},
   "outputs": [],
   "source": []
  }
 ],
 "metadata": {
  "kernelspec": {
   "display_name": "Python 3 (ipykernel)",
   "language": "python",
   "name": "python3"
  },
  "language_info": {
   "codemirror_mode": {
    "name": "ipython",
    "version": 3
   },
   "file_extension": ".py",
   "mimetype": "text/x-python",
   "name": "python",
   "nbconvert_exporter": "python",
   "pygments_lexer": "ipython3",
   "version": "3.10.8"
  }
 },
 "nbformat": 4,
 "nbformat_minor": 5
}
