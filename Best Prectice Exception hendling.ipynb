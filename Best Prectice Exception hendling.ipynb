{
 "cells": [
  {
   "cell_type": "code",
   "execution_count": 1,
   "id": "d783036a-92c6-4d35-b749-7a8e4191f794",
   "metadata": {},
   "outputs": [
    {
     "name": "stdout",
     "output_type": "stream",
     "text": [
      "division by zero\n"
     ]
    }
   ],
   "source": [
    "## Use alwayes a specific exception\n",
    "try:\n",
    "    10/0\n",
    "except Exception as e :\n",
    "    print(e)"
   ]
  },
  {
   "cell_type": "code",
   "execution_count": 2,
   "id": "6ac0a648-1a2a-4325-82cd-8194eb923282",
   "metadata": {},
   "outputs": [
    {
     "name": "stdout",
     "output_type": "stream",
     "text": [
      "division by zero\n"
     ]
    }
   ],
   "source": [
    "try:\n",
    "    10/0\n",
    "except ZeroDivisionError as e :\n",
    "    print(e)"
   ]
  },
  {
   "cell_type": "code",
   "execution_count": 3,
   "id": "7895570a-8eee-4378-8d59-823939a12a3f",
   "metadata": {},
   "outputs": [
    {
     "name": "stdout",
     "output_type": "stream",
     "text": [
      "i am typing to hendle a zerodivisionError division by zero\n"
     ]
    }
   ],
   "source": [
    "## Print always a proper message\n",
    "try:\n",
    "    10/0\n",
    "except ZeroDivisionError as e :\n",
    "    print(\"i am typing to hendle a zerodivisionError\" , e)"
   ]
  },
  {
   "cell_type": "code",
   "execution_count": 8,
   "id": "0923af87-b85e-4778-8c27-45a2cded6a41",
   "metadata": {},
   "outputs": [],
   "source": [
    "## alwayes try to log Error\n",
    "import logging \n",
    "logging.basicConfig(filename = \"error.log\", level = logging.ERROR)\n",
    "try:\n",
    "    10/0\n",
    "except ZeroDivisionError as e:\n",
    "    logging.info (\"i am typing to hendle a zerodivisionError error {}\".format(e))\n",
    "     \n",
    "     "
   ]
  },
  {
   "cell_type": "code",
   "execution_count": 10,
   "id": "ebbf2711-2060-4369-a3fb-92f726dabd03",
   "metadata": {},
   "outputs": [
    {
     "name": "stdout",
     "output_type": "stream",
     "text": [
      "i am typing to hendle a zerodivisionError division by zero\n"
     ]
    }
   ],
   "source": [
    "## Always avoid to write a multiple exception handling\n",
    "try:\n",
    "    10/0\n",
    "except FileNotFoundError as e :\n",
    "    logging.error(\"i am hendling file not found {}\".format(e)) \n",
    "except AttributeError as e :\n",
    "    logging.error(\"i am hendling Attribute Error {}\".format(e))  \n",
    "except ZeroDivisionError as e :\n",
    "    print(\"i am typing to hendle a zerodivisionError {}\".format(e))"
   ]
  },
  {
   "cell_type": "code",
   "execution_count": 13,
   "id": "b25fd81a-50cd-4988-91aa-5b1954d9b516",
   "metadata": {},
   "outputs": [],
   "source": [
    "## Document all the error\n",
    "##cleanup all the resources\n",
    "try:\n",
    "    with open(\"test.txt\" , 'w') as f :\n",
    "        f.write(\"tjis is my date to file\")\n",
    "except FileNotFoundError as e :\n",
    "    logging.error(\"i am hendling file not found {}\".format(e)) \n",
    "finally :\n",
    "    f.close()"
   ]
  },
  {
   "cell_type": "code",
   "execution_count": null,
   "id": "cb9762cc-7178-4a86-a01b-5cb60e4a2db0",
   "metadata": {},
   "outputs": [],
   "source": []
  }
 ],
 "metadata": {
  "kernelspec": {
   "display_name": "Python 3 (ipykernel)",
   "language": "python",
   "name": "python3"
  },
  "language_info": {
   "codemirror_mode": {
    "name": "ipython",
    "version": 3
   },
   "file_extension": ".py",
   "mimetype": "text/x-python",
   "name": "python",
   "nbconvert_exporter": "python",
   "pygments_lexer": "ipython3",
   "version": "3.10.8"
  }
 },
 "nbformat": 4,
 "nbformat_minor": 5
}
