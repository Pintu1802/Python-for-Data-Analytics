{
 "cells": [
  {
   "cell_type": "code",
   "execution_count": 3,
   "id": "672ea815-2750-4c8c-b18c-46a90d78e5a6",
   "metadata": {},
   "outputs": [],
   "source": [
    "## Logging Debugger"
   ]
  },
  {
   "cell_type": "code",
   "execution_count": 1,
   "id": "17081e49-b1ba-4bec-973f-5e0bd987e3c2",
   "metadata": {},
   "outputs": [
    {
     "name": "stdout",
     "output_type": "stream",
     "text": [
      "this is my print\n"
     ]
    }
   ],
   "source": [
    "print(\"this is my print\")"
   ]
  },
  {
   "cell_type": "code",
   "execution_count": 29,
   "id": "8b3580c1-4f35-417c-a3b4-b37fda65ab36",
   "metadata": {},
   "outputs": [],
   "source": [
    "import logging"
   ]
  },
  {
   "cell_type": "code",
   "execution_count": 3,
   "id": "9220e42f-565c-439f-8581-11c2b62a937e",
   "metadata": {},
   "outputs": [],
   "source": [
    "logging.basicConfig(filename = \"text.log\" ,level = logging.INFO)"
   ]
  },
  {
   "cell_type": "code",
   "execution_count": 4,
   "id": "b3f8720e-d850-4281-90a1-e9c98b9d508f",
   "metadata": {},
   "outputs": [],
   "source": [
    "logging.info(\"log this linke of execution\")"
   ]
  },
  {
   "cell_type": "code",
   "execution_count": 5,
   "id": "56ab9685-0635-43a4-bd4d-65bfba978600",
   "metadata": {},
   "outputs": [],
   "source": [
    "logging.info(\"this is my print\")"
   ]
  },
  {
   "cell_type": "code",
   "execution_count": 6,
   "id": "50ef5b0c-6423-47fd-9b8a-61ca1156983a",
   "metadata": {},
   "outputs": [],
   "source": [
    "logging.debug(\"this is my msg\")"
   ]
  },
  {
   "cell_type": "code",
   "execution_count": 7,
   "id": "1d127002-40fa-491a-9f38-dbf8d67efdda",
   "metadata": {},
   "outputs": [],
   "source": [
    "logging.warning(\"this is my warning msg\")"
   ]
  },
  {
   "cell_type": "code",
   "execution_count": 8,
   "id": "1db5448b-ac36-40ed-881f-33d4b3396c26",
   "metadata": {},
   "outputs": [],
   "source": [
    "logging.error(\"this is my error\")"
   ]
  },
  {
   "cell_type": "code",
   "execution_count": 9,
   "id": "48363d2e-bbba-4960-abb9-199b4a5707de",
   "metadata": {},
   "outputs": [],
   "source": [
    "logging.critical(\"this is my critical msg\")"
   ]
  },
  {
   "cell_type": "code",
   "execution_count": null,
   "id": "47b8733b-3405-4882-9b1c-a0b378348ba4",
   "metadata": {},
   "outputs": [],
   "source": [
    "logging.shutdown()"
   ]
  },
  {
   "cell_type": "code",
   "execution_count": 10,
   "id": "75a1731e-fba8-4f35-ace5-c327ada2e090",
   "metadata": {},
   "outputs": [
    {
     "ename": "SyntaxError",
     "evalue": "invalid decimal literal (3252187645.py, line 3)",
     "output_type": "error",
     "traceback": [
      "\u001b[0;36m  Cell \u001b[0;32mIn[10], line 3\u001b[0;36m\u001b[0m\n\u001b[0;31m    2.DEBUG\u001b[0m\n\u001b[0m     ^\u001b[0m\n\u001b[0;31mSyntaxError\u001b[0m\u001b[0;31m:\u001b[0m invalid decimal literal\n"
     ]
    }
   ],
   "source": [
    "## Level define in logging\n",
    "1. NOTSET\n",
    "2.DEBUG\n",
    "3.INFO\n",
    "4.WARNING\n",
    "5.ERROR\n",
    "6.CRITICAL"
   ]
  },
  {
   "cell_type": "code",
   "execution_count": 22,
   "id": "e9cce57d-b816-4622-865a-edfed47b5905",
   "metadata": {},
   "outputs": [],
   "source": [
    "logging.basicConfig(filename = \"test1.log\", level = logging.DEBUG , format = '%(message)s')"
   ]
  },
  {
   "cell_type": "code",
   "execution_count": 30,
   "id": "62c5b6b3-ac65-4ae8-8741-650487511871",
   "metadata": {},
   "outputs": [],
   "source": [
    "logging.info(\"this ias my info logging \")\n",
    "logging.error(\"this is my error  msg\")\n",
    "logging.critical(\"this is my critical\")"
   ]
  },
  {
   "cell_type": "code",
   "execution_count": 31,
   "id": "c3e6f999-d2d5-4efb-b50a-5de618fccf60",
   "metadata": {},
   "outputs": [],
   "source": [
    "logging.shutdown()"
   ]
  },
  {
   "cell_type": "code",
   "execution_count": 32,
   "id": "1a43948c-a121-4a03-bcc6-24295a339365",
   "metadata": {},
   "outputs": [],
   "source": [
    "logging.basicConfig(filename=\"test2.log\", level=logging.DEBUG, format=\"%(asctime)s %(name)s %(levelname)s %(message)s\")"
   ]
  },
  {
   "cell_type": "code",
   "execution_count": 33,
   "id": "6bd2ea7f-cf12-4881-badd-9087e126c6a1",
   "metadata": {},
   "outputs": [],
   "source": [
    "logging.info(\"this ias my info logging \")\n",
    "logging.error(\"this is my error  msg\")\n",
    "logging.critical(\"this is my critical\")"
   ]
  },
  {
   "cell_type": "code",
   "execution_count": 34,
   "id": "c9373138-7196-4234-9651-4143da75bcf6",
   "metadata": {},
   "outputs": [],
   "source": [
    "l = [1,2,3,34,4,[2,3,4] , \"sudh\" , \"kumar\"]"
   ]
  },
  {
   "cell_type": "code",
   "execution_count": 45,
   "id": "0f8c15b2-7951-4423-95d7-e8e4eee53bef",
   "metadata": {},
   "outputs": [],
   "source": [
    "l1_int = []\n",
    "l2_str = []\n",
    "for i in l:\n",
    "    logging.info(\"we are iterating throuhg our list and our local varis i \")\n",
    "    if type (i) == list:\n",
    "        logging.info(\"i am inside if statement and i am typing to check list type\")\n",
    "        for j in i :\n",
    "            logging.info(\"i am  in another fo rloop for list inside list element\")\n",
    "            if type(j) ==int:\n",
    "                logging.info(\"i am inside if statement\")\n",
    "                l1_int.append(j)\n",
    "    elif type (i) == int :\n",
    "        l1_int.append(i)\n",
    "    else:\n",
    "        if type(i) == str :\n",
    "            l2_str.append(i)\n",
    "    logging.info(\"my final result for int is {l1} and str is {l2}\".format(l1 = l1_int , l2 = l2_str))"
   ]
  },
  {
   "cell_type": "code",
   "execution_count": 46,
   "id": "53cef608-f0e7-4480-a99e-f3f5cfea12c1",
   "metadata": {},
   "outputs": [
    {
     "data": {
      "text/plain": [
       "[1, 2, 3, 34, 4, 2, 3, 4]"
      ]
     },
     "execution_count": 46,
     "metadata": {},
     "output_type": "execute_result"
    }
   ],
   "source": [
    "l1_int"
   ]
  },
  {
   "cell_type": "code",
   "execution_count": 47,
   "id": "22ac5a95-f01d-4bf9-8f52-64c70c6ba130",
   "metadata": {},
   "outputs": [
    {
     "data": {
      "text/plain": [
       "['sudh', 'kumar']"
      ]
     },
     "execution_count": 47,
     "metadata": {},
     "output_type": "execute_result"
    }
   ],
   "source": [
    "l2_str"
   ]
  },
  {
   "cell_type": "code",
   "execution_count": null,
   "id": "cdc27332-8dd3-4fb4-8a79-5fca699c3a2b",
   "metadata": {},
   "outputs": [],
   "source": []
  }
 ],
 "metadata": {
  "kernelspec": {
   "display_name": "Python 3 (ipykernel)",
   "language": "python",
   "name": "python3"
  },
  "language_info": {
   "codemirror_mode": {
    "name": "ipython",
    "version": 3
   },
   "file_extension": ".py",
   "mimetype": "text/x-python",
   "name": "python",
   "nbconvert_exporter": "python",
   "pygments_lexer": "ipython3",
   "version": "3.10.8"
  }
 },
 "nbformat": 4,
 "nbformat_minor": 5
}
