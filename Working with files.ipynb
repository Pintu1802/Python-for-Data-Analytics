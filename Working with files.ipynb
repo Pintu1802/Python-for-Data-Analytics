{
 "cells": [
  {
   "cell_type": "markdown",
   "id": "09a74ef5-179d-4cb6-a338-7b2d80c92e07",
   "metadata": {},
   "source": [
    "Working with files"
   ]
  },
  {
   "cell_type": "code",
   "execution_count": 46,
   "id": "f2de6221-74b2-437b-9e45-c9324f889c2e",
   "metadata": {},
   "outputs": [],
   "source": [
    "f = open(\"test.txt\" , 'w')                          #open is a build function in files"
   ]
  },
  {
   "cell_type": "code",
   "execution_count": 47,
   "id": "1ae42899-0b5a-4fc4-ac56-1fd5a69b66ec",
   "metadata": {},
   "outputs": [
    {
     "data": {
      "text/plain": [
       "<function TextIOWrapper.write(text, /)>"
      ]
     },
     "execution_count": 47,
     "metadata": {},
     "output_type": "execute_result"
    }
   ],
   "source": [
    "f.write"
   ]
  },
  {
   "cell_type": "code",
   "execution_count": 48,
   "id": "adec145c-15fc-486e-91d5-a14d8e02fbda",
   "metadata": {},
   "outputs": [
    {
     "data": {
      "text/plain": [
       "'/home/jovyan/work'"
      ]
     },
     "execution_count": 48,
     "metadata": {},
     "output_type": "execute_result"
    }
   ],
   "source": [
    "pwd                           # present working directly "
   ]
  },
  {
   "cell_type": "code",
   "execution_count": 49,
   "id": "584a37d8-c79f-4883-b245-ca9bac54a900",
   "metadata": {},
   "outputs": [
    {
     "name": "stdout",
     "output_type": "stream",
     "text": [
      " comprehension.ipynb         'maping ,Reduce,filter,.ipynb'   test.txt\n",
      " dict,condition,loop.ipynb   'Oops Decorator.ipynb'           Untitled1.ipynb\n",
      "'For loop assingment.ipynb'   Oops.ipynb                      Untitled2.ipynb\n",
      "'For loop.ipynb'             'Oops Type.ipynb'                Untitled.ipynb\n",
      " Function.ipynb               README.md                      'while loop.ipynb'\n",
      "'Generater function.ipynb'    sample-code.ipynb\n",
      "'lambda function.ipynb'       test.tex\n"
     ]
    }
   ],
   "source": [
    "ls                       # show the file names"
   ]
  },
  {
   "cell_type": "code",
   "execution_count": 50,
   "id": "7bed880a-3561-4b4b-9901-8a69f4bd6945",
   "metadata": {},
   "outputs": [
    {
     "name": "stdout",
     "output_type": "stream",
     "text": [
      "[Errno 2] No such file or directory: 'work # change the Revies'\n",
      "/home/jovyan/work\n"
     ]
    }
   ],
   "source": [
    "cd work                  # change the Revies"
   ]
  },
  {
   "cell_type": "code",
   "execution_count": 51,
   "id": "b81ad83b-effc-4add-9c9d-ef16a76b322f",
   "metadata": {},
   "outputs": [
    {
     "name": "stdout",
     "output_type": "stream",
     "text": [
      " comprehension.ipynb         'maping ,Reduce,filter,.ipynb'   test.txt\n",
      " dict,condition,loop.ipynb   'Oops Decorator.ipynb'           Untitled1.ipynb\n",
      "'For loop assingment.ipynb'   Oops.ipynb                      Untitled2.ipynb\n",
      "'For loop.ipynb'             'Oops Type.ipynb'                Untitled.ipynb\n",
      " Function.ipynb               README.md                      'while loop.ipynb'\n",
      "'Generater function.ipynb'    sample-code.ipynb\n",
      "'lambda function.ipynb'       test.tex\n"
     ]
    }
   ],
   "source": [
    "ls                           ## list"
   ]
  },
  {
   "cell_type": "code",
   "execution_count": 52,
   "id": "809112cc-7dc3-49b6-bb23-639208a41bc2",
   "metadata": {},
   "outputs": [
    {
     "data": {
      "text/plain": [
       "28"
      ]
     },
     "execution_count": 52,
     "metadata": {},
     "output_type": "execute_result"
    }
   ],
   "source": [
    "f.write(\"This ia the my first program\")      ## write any thinks in files"
   ]
  },
  {
   "cell_type": "code",
   "execution_count": 53,
   "id": "d81cef68-50e4-414e-b254-c561138c0ae3",
   "metadata": {},
   "outputs": [],
   "source": [
    "f = open(\"test.txt\" , 'w')         ## open for writing, truncating the file first                    "
   ]
  },
  {
   "cell_type": "code",
   "execution_count": 54,
   "id": "ed4e0111-cc7a-46fa-9b45-2b36276a7f46",
   "metadata": {},
   "outputs": [],
   "source": [
    "f.close()\n",
    "        "
   ]
  },
  {
   "cell_type": "code",
   "execution_count": 55,
   "id": "8dbe094d-538b-4646-8217-ddb93388680c",
   "metadata": {},
   "outputs": [],
   "source": [
    "f = open(\"test.txt\" , 'a')       ##open for writing, appending to the end of the file if "
   ]
  },
  {
   "cell_type": "code",
   "execution_count": 56,
   "id": "c063b08f-561a-4149-9884-6e625b9fbfc6",
   "metadata": {},
   "outputs": [
    {
     "data": {
      "text/plain": [
       "765"
      ]
     },
     "execution_count": 56,
     "metadata": {},
     "output_type": "execute_result"
    }
   ],
   "source": [
    "f.write(\"Data Science Masters course is highly curated and uniquely designed according to the latest industry standards. This program instills students the skills essential to knowledge discovery efforts to identify standard, novel, and truly differentiated solutions and decision-making, including skills in managing, querying, analyzing, visualizing, and extracting meaning from extremely large data sets. This trending program provides students with the statistical, mathematical and computational skills needed to meet the large-scale data science challenges of today's professional world. You will learn all the stack required to work in data science industry including cloud infrastructure and real-time industry projects. This course will be taught in Hindi language.\")"
   ]
  },
  {
   "cell_type": "code",
   "execution_count": 57,
   "id": "c59c57f5-ce77-4421-9645-70492dedbc80",
   "metadata": {},
   "outputs": [],
   "source": [
    "f.close()"
   ]
  },
  {
   "cell_type": "code",
   "execution_count": 58,
   "id": "6c18adb6-f397-4d8c-8508-8fbfa1b6dc33",
   "metadata": {},
   "outputs": [],
   "source": [
    "f = open(\"test.txt\" , 'r')      ## open for reading (default)    \n"
   ]
  },
  {
   "cell_type": "code",
   "execution_count": 59,
   "id": "883a6d6f-ea2e-4a8a-b455-58a82d3f14b8",
   "metadata": {},
   "outputs": [
    {
     "data": {
      "text/plain": [
       "\"Data Science Masters course is highly curated and uniquely designed according to the latest industry standards. This program instills students the skills essential to knowledge discovery efforts to identify standard, novel, and truly differentiated solutions and decision-making, including skills in managing, querying, analyzing, visualizing, and extracting meaning from extremely large data sets. This trending program provides students with the statistical, mathematical and computational skills needed to meet the large-scale data science challenges of today's professional world. You will learn all the stack required to work in data science industry including cloud infrastructure and real-time industry projects. This course will be taught in Hindi language.\""
      ]
     },
     "execution_count": 59,
     "metadata": {},
     "output_type": "execute_result"
    }
   ],
   "source": [
    "f.read()"
   ]
  },
  {
   "cell_type": "code",
   "execution_count": 60,
   "id": "95e633b7-f153-4553-946d-f0bdcc2a1c76",
   "metadata": {},
   "outputs": [],
   "source": [
    "data = open(\"test.txt\" , 'r')"
   ]
  },
  {
   "cell_type": "code",
   "execution_count": 61,
   "id": "33501294-93e8-48da-9b8f-4ee639ab1070",
   "metadata": {},
   "outputs": [
    {
     "data": {
      "text/plain": [
       "\"Data Science Masters course is highly curated and uniquely designed according to the latest industry standards. This program instills students the skills essential to knowledge discovery efforts to identify standard, novel, and truly differentiated solutions and decision-making, including skills in managing, querying, analyzing, visualizing, and extracting meaning from extremely large data sets. This trending program provides students with the statistical, mathematical and computational skills needed to meet the large-scale data science challenges of today's professional world. You will learn all the stack required to work in data science industry including cloud infrastructure and real-time industry projects. This course will be taught in Hindi language.\""
      ]
     },
     "execution_count": 61,
     "metadata": {},
     "output_type": "execute_result"
    }
   ],
   "source": [
    "data.read()"
   ]
  },
  {
   "cell_type": "code",
   "execution_count": 62,
   "id": "29c4ed59-3b16-470e-b18e-7fd92f45f118",
   "metadata": {},
   "outputs": [
    {
     "data": {
      "text/plain": [
       "''"
      ]
     },
     "execution_count": 62,
     "metadata": {},
     "output_type": "execute_result"
    }
   ],
   "source": [
    "## Read line by read data\n",
    "data.readline()"
   ]
  },
  {
   "cell_type": "code",
   "execution_count": 63,
   "id": "71053bc0-d2c8-4692-add7-b22074026daf",
   "metadata": {},
   "outputs": [
    {
     "data": {
      "text/plain": [
       "0"
      ]
     },
     "execution_count": 63,
     "metadata": {},
     "output_type": "execute_result"
    }
   ],
   "source": [
    "data.seek(0)"
   ]
  },
  {
   "cell_type": "code",
   "execution_count": 64,
   "id": "c2508a8f-a816-40f1-b6e4-c8d8aca7cc3f",
   "metadata": {},
   "outputs": [
    {
     "data": {
      "text/plain": [
       "\"Data Science Masters course is highly curated and uniquely designed according to the latest industry standards. This program instills students the skills essential to knowledge discovery efforts to identify standard, novel, and truly differentiated solutions and decision-making, including skills in managing, querying, analyzing, visualizing, and extracting meaning from extremely large data sets. This trending program provides students with the statistical, mathematical and computational skills needed to meet the large-scale data science challenges of today's professional world. You will learn all the stack required to work in data science industry including cloud infrastructure and real-time industry projects. This course will be taught in Hindi language.\""
      ]
     },
     "execution_count": 64,
     "metadata": {},
     "output_type": "execute_result"
    }
   ],
   "source": [
    "data.readline()"
   ]
  },
  {
   "cell_type": "code",
   "execution_count": 65,
   "id": "27fc55f9-52e3-4f26-a697-c6bee8728f77",
   "metadata": {},
   "outputs": [
    {
     "data": {
      "text/plain": [
       "0"
      ]
     },
     "execution_count": 65,
     "metadata": {},
     "output_type": "execute_result"
    }
   ],
   "source": [
    "data.seek(0)       ## seek is a bassicaly read the data , where the data to read the data "
   ]
  },
  {
   "cell_type": "code",
   "execution_count": 66,
   "id": "7ac0a202-8f58-4253-b2aa-063ab357cc01",
   "metadata": {},
   "outputs": [
    {
     "data": {
      "text/plain": [
       "20"
      ]
     },
     "execution_count": 66,
     "metadata": {},
     "output_type": "execute_result"
    }
   ],
   "source": [
    "data.seek(20)"
   ]
  },
  {
   "cell_type": "code",
   "execution_count": 67,
   "id": "c66dc563-bd4c-4a12-bfae-9586519dd5eb",
   "metadata": {},
   "outputs": [
    {
     "data": {
      "text/plain": [
       "\" course is highly curated and uniquely designed according to the latest industry standards. This program instills students the skills essential to knowledge discovery efforts to identify standard, novel, and truly differentiated solutions and decision-making, including skills in managing, querying, analyzing, visualizing, and extracting meaning from extremely large data sets. This trending program provides students with the statistical, mathematical and computational skills needed to meet the large-scale data science challenges of today's professional world. You will learn all the stack required to work in data science industry including cloud infrastructure and real-time industry projects. This course will be taught in Hindi language.\""
      ]
     },
     "execution_count": 67,
     "metadata": {},
     "output_type": "execute_result"
    }
   ],
   "source": [
    "data.read()"
   ]
  },
  {
   "cell_type": "code",
   "execution_count": 68,
   "id": "f7359d91-425e-4d3c-b612-1fa6d9f44a74",
   "metadata": {},
   "outputs": [],
   "source": [
    "data1 = open(\"test.txt\" , 'r')"
   ]
  },
  {
   "cell_type": "code",
   "execution_count": 69,
   "id": "d1b6a6c6-e7b0-4a87-896f-b9f0e565301b",
   "metadata": {},
   "outputs": [
    {
     "name": "stdout",
     "output_type": "stream",
     "text": [
      "Data Science Masters course is highly curated and uniquely designed according to the latest industry standards. This program instills students the skills essential to knowledge discovery efforts to identify standard, novel, and truly differentiated solutions and decision-making, including skills in managing, querying, analyzing, visualizing, and extracting meaning from extremely large data sets. This trending program provides students with the statistical, mathematical and computational skills needed to meet the large-scale data science challenges of today's professional world. You will learn all the stack required to work in data science industry including cloud infrastructure and real-time industry projects. This course will be taught in Hindi language.\n"
     ]
    }
   ],
   "source": [
    "for i in data1:\n",
    "    print(i)"
   ]
  },
  {
   "cell_type": "code",
   "execution_count": 78,
   "id": "46171c14-2789-47a0-8274-f5275e54ccfe",
   "metadata": {},
   "outputs": [],
   "source": [
    "## How to know size of file\n",
    "import os                 ## os is a model"
   ]
  },
  {
   "cell_type": "code",
   "execution_count": 71,
   "id": "6dccdbaa-124e-4708-800d-d94f22df1ded",
   "metadata": {},
   "outputs": [
    {
     "data": {
      "text/plain": [
       "765"
      ]
     },
     "execution_count": 71,
     "metadata": {},
     "output_type": "execute_result"
    }
   ],
   "source": [
    "os.path.getsize(\"test.txt\")"
   ]
  },
  {
   "cell_type": "code",
   "execution_count": 72,
   "id": "e53fdf2f-412d-4e6e-a787-1462fc14221f",
   "metadata": {},
   "outputs": [],
   "source": [
    "os.remove(\"test.txt\")"
   ]
  },
  {
   "cell_type": "code",
   "execution_count": 74,
   "id": "40c1d105-a0d2-486c-8f53-b99f0254f6b6",
   "metadata": {},
   "outputs": [],
   "source": [
    "f = open(\"test1.txt\", \"w\")"
   ]
  },
  {
   "cell_type": "code",
   "execution_count": 75,
   "id": "1943f881-90e0-433d-8124-81991dee63e4",
   "metadata": {},
   "outputs": [
    {
     "data": {
      "text/plain": [
       "765"
      ]
     },
     "execution_count": 75,
     "metadata": {},
     "output_type": "execute_result"
    }
   ],
   "source": [
    "f.write(\"Data Science Masters course is highly curated and uniquely designed according to the latest industry standards. This program instills students the skills essential to knowledge discovery efforts to identify standard, novel, and truly differentiated solutions and decision-making, including skills in managing, querying, analyzing, visualizing, and extracting meaning from extremely large data sets. This trending program provides students with the statistical, mathematical and computational skills needed to meet the large-scale data science challenges of today's professional world. You will learn all the stack required to work in data science industry including cloud infrastructure and real-time industry projects. This course will be taught in Hindi language.\")"
   ]
  },
  {
   "cell_type": "code",
   "execution_count": 76,
   "id": "b6f83361-80ce-49b8-9ff4-bd427ff5bcea",
   "metadata": {},
   "outputs": [],
   "source": [
    "f.close()"
   ]
  },
  {
   "cell_type": "code",
   "execution_count": 77,
   "id": "188b0338-467f-4468-b814-90e64b4b2aca",
   "metadata": {},
   "outputs": [],
   "source": [
    "## How to rename file\n",
    "os.rename(\"test1.txt\", \"new.txt\")"
   ]
  },
  {
   "cell_type": "code",
   "execution_count": 79,
   "id": "1ee5a1d4-95a1-43be-8c00-1ef96afea7bd",
   "metadata": {},
   "outputs": [],
   "source": [
    "import shutil"
   ]
  },
  {
   "cell_type": "code",
   "execution_count": 81,
   "id": "fe5d20ea-cff3-42c8-94ce-fbf260fd0add",
   "metadata": {},
   "outputs": [
    {
     "data": {
      "text/plain": [
       "'copy_new.txt'"
      ]
     },
     "execution_count": 81,
     "metadata": {},
     "output_type": "execute_result"
    }
   ],
   "source": [
    "##How to create multiple files\n",
    "shutil.copy(\"new.txt\" , \"copy_new.txt\")"
   ]
  },
  {
   "cell_type": "code",
   "execution_count": 82,
   "id": "9d77b217-3d8f-4790-af34-a7de206a1602",
   "metadata": {},
   "outputs": [
    {
     "data": {
      "text/plain": [
       "'/home/jovyan/work'"
      ]
     },
     "execution_count": 82,
     "metadata": {},
     "output_type": "execute_result"
    }
   ],
   "source": [
    "pwd"
   ]
  },
  {
   "cell_type": "code",
   "execution_count": 83,
   "id": "ceab056b-2048-4b9c-a4fe-c712367be51d",
   "metadata": {},
   "outputs": [
    {
     "name": "stdout",
     "output_type": "stream",
     "text": [
      " comprehension.ipynb         'lambda function.ipynb'          sample-code.ipynb\n",
      " copy_new.txt                'maping ,Reduce,filter,.ipynb'   test.tex\n",
      " dict,condition,loop.ipynb    new.txt                         Untitled1.ipynb\n",
      "'For loop assingment.ipynb'  'Oops Decorator.ipynb'           Untitled2.ipynb\n",
      "'For loop.ipynb'              Oops.ipynb                      Untitled.ipynb\n",
      " Function.ipynb              'Oops Type.ipynb'               'while loop.ipynb'\n",
      "'Generater function.ipynb'    README.md\n"
     ]
    }
   ],
   "source": [
    "ls"
   ]
  },
  {
   "cell_type": "code",
   "execution_count": 85,
   "id": "1a3ecaf1-8277-41b3-9e33-681e6f4ea2db",
   "metadata": {},
   "outputs": [
    {
     "name": "stdout",
     "output_type": "stream",
     "text": [
      "Data Science Masters course is highly curated and uniquely designed according to the latest industry standards. This program instills students the skills essential to knowledge discovery efforts to identify standard, novel, and truly differentiated solutions and decision-making, including skills in managing, querying, analyzing, visualizing, and extracting meaning from extremely large data sets. This trending program provides students with the statistical, mathematical and computational skills needed to meet the large-scale data science challenges of today's professional world. You will learn all the stack required to work in data science industry including cloud infrastructure and real-time industry projects. This course will be taught in Hindi language.\n"
     ]
    }
   ],
   "source": [
    "with open(\"new.txt\" , \"r\") as f :         ## f - f is aliyash\n",
    "      print(f.read())"
   ]
  },
  {
   "cell_type": "code",
   "execution_count": null,
   "id": "049f7008-7047-4988-bb01-8c67d1fb1e67",
   "metadata": {},
   "outputs": [],
   "source": []
  }
 ],
 "metadata": {
  "kernelspec": {
   "display_name": "Python 3 (ipykernel)",
   "language": "python",
   "name": "python3"
  },
  "language_info": {
   "codemirror_mode": {
    "name": "ipython",
    "version": 3
   },
   "file_extension": ".py",
   "mimetype": "text/x-python",
   "name": "python",
   "nbconvert_exporter": "python",
   "pygments_lexer": "ipython3",
   "version": "3.10.8"
  }
 },
 "nbformat": 4,
 "nbformat_minor": 5
}
