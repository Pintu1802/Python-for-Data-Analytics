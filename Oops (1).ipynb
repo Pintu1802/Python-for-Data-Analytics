{
 "cells": [
  {
   "cell_type": "markdown",
   "id": "e75074bd-1e0f-44fe-9b16-0f036c92fc28",
   "metadata": {},
   "source": [
    "\"Oops\" stand for Object - oriented programing System"
   ]
  },
  {
   "cell_type": "code",
   "execution_count": 1,
   "id": "742d1903-0a97-4e09-9e3e-7dc2cbb9c1a0",
   "metadata": {},
   "outputs": [],
   "source": [
    "a = 1"
   ]
  },
  {
   "cell_type": "code",
   "execution_count": 2,
   "id": "fd4a0c19-ae5d-4648-a053-1a9966e93c01",
   "metadata": {},
   "outputs": [
    {
     "name": "stdout",
     "output_type": "stream",
     "text": [
      "<class 'int'>\n"
     ]
    }
   ],
   "source": [
    "print(type(a))"
   ]
  },
  {
   "cell_type": "code",
   "execution_count": 42,
   "id": "ce8623cf-0c35-4f49-99ae-c02ee70e7f50",
   "metadata": {},
   "outputs": [
    {
     "name": "stdout",
     "output_type": "stream",
     "text": [
      "<class 'str'>\n"
     ]
    }
   ],
   "source": [
    "print(type(\"pwskills\"))"
   ]
  },
  {
   "cell_type": "code",
   "execution_count": 43,
   "id": "1595a9b8-3b09-4e34-8458-b2b82e456275",
   "metadata": {},
   "outputs": [],
   "source": [
    "class test :\n",
    "    pass"
   ]
  },
  {
   "cell_type": "code",
   "execution_count": 44,
   "id": "86749d5b-ed31-4283-8636-3f2c1d8d5841",
   "metadata": {},
   "outputs": [],
   "source": [
    "a = test()"
   ]
  },
  {
   "cell_type": "code",
   "execution_count": 45,
   "id": "cd47a0db-a6ad-4557-bbd0-14f5f4103bb0",
   "metadata": {},
   "outputs": [
    {
     "data": {
      "text/plain": [
       "__main__.test"
      ]
     },
     "execution_count": 45,
     "metadata": {},
     "output_type": "execute_result"
    }
   ],
   "source": [
    "type(a)"
   ]
  },
  {
   "cell_type": "code",
   "execution_count": 46,
   "id": "c8401725-2d35-4667-abbc-c54f4ef44f91",
   "metadata": {},
   "outputs": [
    {
     "name": "stdout",
     "output_type": "stream",
     "text": [
      "<class '__main__.test'>\n"
     ]
    }
   ],
   "source": [
    "print(type(a))"
   ]
  },
  {
   "cell_type": "code",
   "execution_count": 47,
   "id": "1bc2b551-8f9d-4354-a2e1-01a5b5db6336",
   "metadata": {},
   "outputs": [],
   "source": [
    "class pwskills :                      # self is a first paramiter\n",
    "    def welcome_msg(self):\n",
    "        print(\"welcom to pwskills\")"
   ]
  },
  {
   "cell_type": "code",
   "execution_count": 48,
   "id": "ce4449fb-73a1-44ee-b3f9-c1c94723d0d3",
   "metadata": {},
   "outputs": [],
   "source": [
    "rohan = pwskills()"
   ]
  },
  {
   "cell_type": "code",
   "execution_count": 49,
   "id": "3b46cf5e-4c35-482b-8179-6548d26fdffa",
   "metadata": {},
   "outputs": [
    {
     "name": "stdout",
     "output_type": "stream",
     "text": [
      "<class '__main__.pwskills'>\n"
     ]
    }
   ],
   "source": [
    "print(type(rohan))"
   ]
  },
  {
   "cell_type": "code",
   "execution_count": 50,
   "id": "1d686bb6-ef7e-4cde-bc23-51aff79b229d",
   "metadata": {},
   "outputs": [
    {
     "name": "stdout",
     "output_type": "stream",
     "text": [
      "welcom to pwskills\n"
     ]
    }
   ],
   "source": [
    "rohan.welcome_msg()"
   ]
  },
  {
   "cell_type": "markdown",
   "id": "5f7d0d54-0e08-4a92-b8ab-2befed4390fb",
   "metadata": {},
   "source": [
    "gaurav = pwskills()"
   ]
  },
  {
   "cell_type": "code",
   "execution_count": 51,
   "id": "ef2f96bb-c3b8-4d5a-a0ec-e4c4054107fc",
   "metadata": {},
   "outputs": [],
   "source": [
    "pintu = pwskills()"
   ]
  },
  {
   "cell_type": "code",
   "execution_count": 103,
   "id": "73c8ef7c-03f6-43aa-a0cc-fb42a3c12e09",
   "metadata": {},
   "outputs": [],
   "source": [
    "# create an instance of the class\n",
    "# init define a constracter\n",
    "class pwskills1:\n",
    "    def __init__(self, phone_number, email_id, student_id):\n",
    "        self.phone_number = phone_number\n",
    "        self.email_id = email_id\n",
    "        self.student_id = student_id\n",
    "\n",
    "    def return_student_details(self):\n",
    "        return self.student_id, self.phone_number, self.email_id"
   ]
  },
  {
   "cell_type": "code",
   "execution_count": 58,
   "id": "8ec1bcbb-1544-424b-83d1-b928b33c4921",
   "metadata": {},
   "outputs": [],
   "source": [
    "rohan = pwskills1(8936038454, \"rohan123@gmail.com\", 100223)"
   ]
  },
  {
   "cell_type": "code",
   "execution_count": 59,
   "id": "c5a090c2-0121-4f20-8df5-6b293744e4f1",
   "metadata": {},
   "outputs": [
    {
     "data": {
      "text/plain": [
       "(100223, 8936038454, 'rohan123@gmail.com')"
      ]
     },
     "execution_count": 59,
     "metadata": {},
     "output_type": "execute_result"
    }
   ],
   "source": [
    "rohan.return_student_details()"
   ]
  },
  {
   "cell_type": "code",
   "execution_count": 75,
   "id": "26e295f3-9935-474a-bc7b-b94ce6dc2380",
   "metadata": {},
   "outputs": [
    {
     "data": {
      "text/plain": [
       "8936038454"
      ]
     },
     "execution_count": 75,
     "metadata": {},
     "output_type": "execute_result"
    }
   ],
   "source": [
    "rohan.phone_number"
   ]
  },
  {
   "cell_type": "code",
   "execution_count": 60,
   "id": "064c3083-b0b1-4ce7-9dcd-0373d567f610",
   "metadata": {},
   "outputs": [],
   "source": [
    "gaurav = pwskills1(8936038454, \"gaurav@gmail.com\",122345)"
   ]
  },
  {
   "cell_type": "code",
   "execution_count": 61,
   "id": "ebac0755-c09a-475c-8d9d-17ebd390e796",
   "metadata": {},
   "outputs": [
    {
     "data": {
      "text/plain": [
       "(122345, 8936038454, 'gaurav@gmail.com')"
      ]
     },
     "execution_count": 61,
     "metadata": {},
     "output_type": "execute_result"
    }
   ],
   "source": [
    "gaurav.return_student_details()"
   ]
  },
  {
   "cell_type": "code",
   "execution_count": 71,
   "id": "797a0bfe-a8c6-4138-affa-717666e6c2e3",
   "metadata": {},
   "outputs": [],
   "source": [
    "pintu = pwskills1(9798753513,\"gupta@123gmail.com\",12003)"
   ]
  },
  {
   "cell_type": "code",
   "execution_count": 76,
   "id": "b5600396-1f5a-4bad-98ad-d6a9bd2ab13b",
   "metadata": {},
   "outputs": [
    {
     "data": {
      "text/plain": [
       "'gupta@123gmail.com'"
      ]
     },
     "execution_count": 76,
     "metadata": {},
     "output_type": "execute_result"
    }
   ],
   "source": [
    "pintu.email_id"
   ]
  },
  {
   "cell_type": "code",
   "execution_count": 83,
   "id": "6a58ca1d-fa74-463f-bae7-560d5ff21862",
   "metadata": {},
   "outputs": [
    {
     "data": {
      "text/plain": [
       "(12003, 9798753513, 'gupta@123gmail.com')"
      ]
     },
     "execution_count": 83,
     "metadata": {},
     "output_type": "execute_result"
    }
   ],
   "source": [
    "pintu.return_student_details()"
   ]
  },
  {
   "cell_type": "code",
   "execution_count": 95,
   "id": "347b2d3f-e73a-4b55-81c4-84157b8d6bad",
   "metadata": {},
   "outputs": [],
   "source": [
    "class pwskills2:\n",
    "    def __init__(self, phone_number, email_id, student_id):\n",
    "        self.phone_number1 = phone_number\n",
    "        self.email_id1 = email_id\n",
    "        self.student_id1 = student_id\n",
    "\n",
    "    def return_student_details(self):\n",
    "        return self.student_id, self.phone_number, self.email_id"
   ]
  },
  {
   "cell_type": "code",
   "execution_count": 96,
   "id": "c0cd6053-395d-4b52-b856-075ddf8101b7",
   "metadata": {},
   "outputs": [],
   "source": [
    "subh = pwskills2(7870334088, \"subh@123\",100223)"
   ]
  },
  {
   "cell_type": "code",
   "execution_count": 100,
   "id": "8c96ffaa-b803-47c4-aff3-1d8ca6a6e968",
   "metadata": {},
   "outputs": [
    {
     "data": {
      "text/plain": [
       "'subh@123'"
      ]
     },
     "execution_count": 100,
     "metadata": {},
     "output_type": "execute_result"
    }
   ],
   "source": [
    "subh.email_id1"
   ]
  },
  {
   "cell_type": "code",
   "execution_count": 101,
   "id": "5a251825-8ebe-4bcd-bb05-10ba18b11fc8",
   "metadata": {},
   "outputs": [
    {
     "data": {
      "text/plain": [
       "7870334088"
      ]
     },
     "execution_count": 101,
     "metadata": {},
     "output_type": "execute_result"
    }
   ],
   "source": [
    "subh.phone_number1"
   ]
  },
  {
   "cell_type": "markdown",
   "id": "a9551b36-2a27-4d8f-ab13-a0fd05dc2ce1",
   "metadata": {},
   "source": []
  },
  {
   "cell_type": "code",
   "execution_count": 102,
   "id": "67215409-a6e7-49d1-a53f-908c3bdb7edd",
   "metadata": {},
   "outputs": [
    {
     "data": {
      "text/plain": [
       "100223"
      ]
     },
     "execution_count": 102,
     "metadata": {},
     "output_type": "execute_result"
    }
   ],
   "source": [
    "subh.student_id1"
   ]
  },
  {
   "cell_type": "code",
   "execution_count": 104,
   "id": "1e6b782b-60d0-46f3-b3b9-7c89966221ae",
   "metadata": {},
   "outputs": [],
   "source": [
    "class pwskills2:\n",
    "    def __init__(subh, phone_number, email_id, student_id):\n",
    "        subh.phone_number1 = phone_number\n",
    "        subh.email_id1 = email_id\n",
    "        subh.student_id1 = student_id\n",
    "\n",
    "    def return_student_details(self):\n",
    "        return subh.student_id, self.phone_number, self.email_id"
   ]
  },
  {
   "cell_type": "code",
   "execution_count": 106,
   "id": "ff6ff793-d037-4916-b530-2ee6706dc16d",
   "metadata": {},
   "outputs": [],
   "source": [
    "rohan = pwskills2(67890830958,\"pintu@gmail.com\",1234)"
   ]
  },
  {
   "cell_type": "code",
   "execution_count": 107,
   "id": "f79c382b-a3b6-4c72-b6ec-63f90dd14bad",
   "metadata": {},
   "outputs": [
    {
     "data": {
      "text/plain": [
       "67890830958"
      ]
     },
     "execution_count": 107,
     "metadata": {},
     "output_type": "execute_result"
    }
   ],
   "source": [
    "rohan.phone_number1"
   ]
  },
  {
   "cell_type": "code",
   "execution_count": 108,
   "id": "c6497b98-06c7-4246-aa8f-c99534e88396",
   "metadata": {},
   "outputs": [
    {
     "data": {
      "text/plain": [
       "'pintu@gmail.com'"
      ]
     },
     "execution_count": 108,
     "metadata": {},
     "output_type": "execute_result"
    }
   ],
   "source": [
    "rohan.email_id1"
   ]
  },
  {
   "cell_type": "code",
   "execution_count": null,
   "id": "620ba188-080e-4090-baf8-218704320c34",
   "metadata": {},
   "outputs": [],
   "source": []
  }
 ],
 "metadata": {
  "kernelspec": {
   "display_name": "Python 3 (ipykernel)",
   "language": "python",
   "name": "python3"
  },
  "language_info": {
   "codemirror_mode": {
    "name": "ipython",
    "version": 3
   },
   "file_extension": ".py",
   "mimetype": "text/x-python",
   "name": "python",
   "nbconvert_exporter": "python",
   "pygments_lexer": "ipython3",
   "version": "3.10.8"
  }
 },
 "nbformat": 4,
 "nbformat_minor": 5
}
