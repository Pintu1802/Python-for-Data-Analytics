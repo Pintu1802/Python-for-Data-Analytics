{
 "cells": [
  {
   "cell_type": "markdown",
   "id": "e27a732c-a40a-4afe-abb1-01fe0e2b8881",
   "metadata": {},
   "source": [
    "NUMPY PART-1"
   ]
  },
  {
   "cell_type": "code",
   "execution_count": 1,
   "id": "f12bcad8-9124-4852-bb4f-58181957a317",
   "metadata": {},
   "outputs": [],
   "source": [
    "import numpy as np"
   ]
  },
  {
   "cell_type": "code",
   "execution_count": 2,
   "id": "89961783-51bb-4291-87fb-082b9f5415b8",
   "metadata": {},
   "outputs": [],
   "source": [
    "l = [1,2,3,4]"
   ]
  },
  {
   "cell_type": "code",
   "execution_count": 3,
   "id": "d2912a2e-4b3b-454a-b5e3-e9e5845649bb",
   "metadata": {},
   "outputs": [
    {
     "data": {
      "text/plain": [
       "array([1, 2, 3, 4])"
      ]
     },
     "execution_count": 3,
     "metadata": {},
     "output_type": "execute_result"
    }
   ],
   "source": [
    "np.array(l)"
   ]
  },
  {
   "cell_type": "code",
   "execution_count": 4,
   "id": "5df2b364-35d7-455b-b0be-7712cf1748e4",
   "metadata": {},
   "outputs": [],
   "source": [
    "ar = np.array(l)"
   ]
  },
  {
   "cell_type": "code",
   "execution_count": 5,
   "id": "185f044a-3ab5-4c77-9317-2aad7764e5cb",
   "metadata": {},
   "outputs": [
    {
     "data": {
      "text/plain": [
       "array([1, 2, 3, 4])"
      ]
     },
     "execution_count": 5,
     "metadata": {},
     "output_type": "execute_result"
    }
   ],
   "source": [
    "ar                           # one dimentional array"
   ]
  },
  {
   "cell_type": "code",
   "execution_count": 6,
   "id": "38d5cbe7-c787-4d1e-b016-0b5241276a6a",
   "metadata": {},
   "outputs": [
    {
     "data": {
      "text/plain": [
       "numpy.ndarray"
      ]
     },
     "execution_count": 6,
     "metadata": {},
     "output_type": "execute_result"
    }
   ],
   "source": [
    "type(ar)"
   ]
  },
  {
   "cell_type": "code",
   "execution_count": 7,
   "id": "d8da4a6d-d445-4c2a-a6d4-185dab0da16e",
   "metadata": {},
   "outputs": [
    {
     "data": {
      "text/plain": [
       "array([[1, 2],\n",
       "       [3, 4]])"
      ]
     },
     "execution_count": 7,
     "metadata": {},
     "output_type": "execute_result"
    }
   ],
   "source": [
    "np.array([[1,2],[3,4]])               # Two dimentional array"
   ]
  },
  {
   "cell_type": "code",
   "execution_count": 8,
   "id": "b43fbee3-815d-4810-8d0a-68b8b980ee54",
   "metadata": {},
   "outputs": [
    {
     "data": {
      "text/plain": [
       "array([1, 2, 3, 4])"
      ]
     },
     "execution_count": 8,
     "metadata": {},
     "output_type": "execute_result"
    }
   ],
   "source": [
    "np.asarray(l)"
   ]
  },
  {
   "cell_type": "code",
   "execution_count": 9,
   "id": "cbb5dac6-205b-4809-bedd-be87f165cf31",
   "metadata": {},
   "outputs": [],
   "source": [
    "a = [2,3,4]"
   ]
  },
  {
   "cell_type": "code",
   "execution_count": 10,
   "id": "a7a9b5ec-8a67-4769-920a-f2081ff5c63f",
   "metadata": {},
   "outputs": [
    {
     "data": {
      "text/plain": [
       "array([2, 3, 4])"
      ]
     },
     "execution_count": 10,
     "metadata": {},
     "output_type": "execute_result"
    }
   ],
   "source": [
    "np.asanyarray(a)"
   ]
  },
  {
   "cell_type": "code",
   "execution_count": 11,
   "id": "6f47fa92-43eb-4f84-9313-279df48fe2bd",
   "metadata": {},
   "outputs": [],
   "source": [
    "b = np.matrix(l)                  # Matrix is a Two dimentional array"
   ]
  },
  {
   "cell_type": "code",
   "execution_count": 12,
   "id": "df16d7ed-1245-4ce2-8411-0b9e096948a6",
   "metadata": {},
   "outputs": [
    {
     "data": {
      "text/plain": [
       "matrix([[1, 2, 3, 4]])"
      ]
     },
     "execution_count": 12,
     "metadata": {},
     "output_type": "execute_result"
    }
   ],
   "source": [
    "b"
   ]
  },
  {
   "cell_type": "code",
   "execution_count": 13,
   "id": "859738fd-df56-44dc-ac35-bd9501a62537",
   "metadata": {},
   "outputs": [
    {
     "data": {
      "text/plain": [
       "matrix([[1, 2, 3, 4]])"
      ]
     },
     "execution_count": 13,
     "metadata": {},
     "output_type": "execute_result"
    }
   ],
   "source": [
    "np.asanyarray(b)"
   ]
  },
  {
   "cell_type": "code",
   "execution_count": 14,
   "id": "b255a5eb-d19a-4713-add9-214b87a4ba81",
   "metadata": {},
   "outputs": [],
   "source": [
    "a = np.array(l)"
   ]
  },
  {
   "cell_type": "code",
   "execution_count": 15,
   "id": "d536b980-d3e4-4aed-bdae-f02cbef70972",
   "metadata": {},
   "outputs": [
    {
     "data": {
      "text/plain": [
       "array([1, 2, 3, 4])"
      ]
     },
     "execution_count": 15,
     "metadata": {},
     "output_type": "execute_result"
    }
   ],
   "source": [
    "a"
   ]
  },
  {
   "cell_type": "code",
   "execution_count": 16,
   "id": "247c34cc-5573-4cb5-96e4-ec5f006483c4",
   "metadata": {},
   "outputs": [],
   "source": [
    "c = a"
   ]
  },
  {
   "cell_type": "code",
   "execution_count": 17,
   "id": "3c66632c-d4a0-4998-b90a-400b24ce419f",
   "metadata": {},
   "outputs": [
    {
     "data": {
      "text/plain": [
       "array([1, 2, 3, 4])"
      ]
     },
     "execution_count": 17,
     "metadata": {},
     "output_type": "execute_result"
    }
   ],
   "source": [
    "c"
   ]
  },
  {
   "cell_type": "code",
   "execution_count": 18,
   "id": "c2741f52-c707-47b7-8959-cf647a07f3b1",
   "metadata": {},
   "outputs": [],
   "source": [
    "c[0]=100"
   ]
  },
  {
   "cell_type": "code",
   "execution_count": 19,
   "id": "0aba6a53-4dad-4c78-9234-38fd556ac61d",
   "metadata": {},
   "outputs": [
    {
     "data": {
      "text/plain": [
       "array([100,   2,   3,   4])"
      ]
     },
     "execution_count": 19,
     "metadata": {},
     "output_type": "execute_result"
    }
   ],
   "source": [
    "c"
   ]
  },
  {
   "cell_type": "code",
   "execution_count": 20,
   "id": "aa7479a3-e2e3-4499-9fa2-a70eae3c996a",
   "metadata": {},
   "outputs": [],
   "source": [
    "d = np.copy(a)"
   ]
  },
  {
   "cell_type": "code",
   "execution_count": 21,
   "id": "8145368e-f84b-4c25-9941-9ee17765f101",
   "metadata": {},
   "outputs": [
    {
     "data": {
      "text/plain": [
       "array([100,   2,   3,   4])"
      ]
     },
     "execution_count": 21,
     "metadata": {},
     "output_type": "execute_result"
    }
   ],
   "source": [
    "a"
   ]
  },
  {
   "cell_type": "code",
   "execution_count": 22,
   "id": "12cc05d7-1da1-467f-bb85-9a6143e7e9fa",
   "metadata": {},
   "outputs": [],
   "source": [
    "a[1]= 400"
   ]
  },
  {
   "cell_type": "code",
   "execution_count": 23,
   "id": "6ee3afc9-0ea6-412a-ab27-e28bac37a8ad",
   "metadata": {},
   "outputs": [
    {
     "data": {
      "text/plain": [
       "array([100, 400,   3,   4])"
      ]
     },
     "execution_count": 23,
     "metadata": {},
     "output_type": "execute_result"
    }
   ],
   "source": [
    "a"
   ]
  },
  {
   "cell_type": "code",
   "execution_count": 24,
   "id": "3d8f6a6f-bf3c-4172-8487-ae6ff39d6c0b",
   "metadata": {},
   "outputs": [
    {
     "data": {
      "text/plain": [
       "array([[ True, False, False],\n",
       "       [False,  True, False],\n",
       "       [False, False,  True]])"
      ]
     },
     "execution_count": 24,
     "metadata": {},
     "output_type": "execute_result"
    }
   ],
   "source": [
    "np.fromfunction(lambda i, j : i==j , (3,3) )"
   ]
  },
  {
   "cell_type": "code",
   "execution_count": 25,
   "id": "cdf0bdc4-6bda-43b8-b6c6-82d2c5d1d3d4",
   "metadata": {},
   "outputs": [
    {
     "data": {
      "text/plain": [
       "array([[0., 0., 0.],\n",
       "       [0., 1., 2.],\n",
       "       [0., 2., 4.]])"
      ]
     },
     "execution_count": 25,
     "metadata": {},
     "output_type": "execute_result"
    }
   ],
   "source": [
    "np.fromfunction(lambda i, j : i*j , (3,3) )"
   ]
  },
  {
   "cell_type": "code",
   "execution_count": 27,
   "id": "87c726b1-ae4f-4792-b70c-f7572a69d8cc",
   "metadata": {},
   "outputs": [
    {
     "data": {
      "text/plain": [
       "array([[0., 1., 2.],\n",
       "       [1., 2., 3.],\n",
       "       [2., 3., 4.]])"
      ]
     },
     "execution_count": 27,
     "metadata": {},
     "output_type": "execute_result"
    }
   ],
   "source": [
    "np.fromfunction(lambda i, j : i+j , (3,3) )"
   ]
  },
  {
   "cell_type": "code",
   "execution_count": 30,
   "id": "1bc821ed-f106-4dec-826a-828c81fdec99",
   "metadata": {},
   "outputs": [
    {
     "data": {
      "text/plain": [
       "array([[ 0., -1., -2., -3.],\n",
       "       [ 1.,  0., -1., -2.],\n",
       "       [ 2.,  1.,  0., -1.],\n",
       "       [ 3.,  2.,  1.,  0.]])"
      ]
     },
     "execution_count": 30,
     "metadata": {},
     "output_type": "execute_result"
    }
   ],
   "source": [
    "np.fromfunction(lambda i, j : i-j, (4,4))"
   ]
  },
  {
   "cell_type": "code",
   "execution_count": 32,
   "id": "49c3b5c0-fbd7-4046-a060-9b182c1d93c0",
   "metadata": {},
   "outputs": [
    {
     "name": "stderr",
     "output_type": "stream",
     "text": [
      "/tmp/ipykernel_165/1572750834.py:1: RuntimeWarning: divide by zero encountered in divide\n",
      "  np.fromfunction(lambda i,j : i/j , (5,5))\n",
      "/tmp/ipykernel_165/1572750834.py:1: RuntimeWarning: invalid value encountered in divide\n",
      "  np.fromfunction(lambda i,j : i/j , (5,5))\n"
     ]
    },
    {
     "data": {
      "text/plain": [
       "array([[       nan, 0.        , 0.        , 0.        , 0.        ],\n",
       "       [       inf, 1.        , 0.5       , 0.33333333, 0.25      ],\n",
       "       [       inf, 2.        , 1.        , 0.66666667, 0.5       ],\n",
       "       [       inf, 3.        , 1.5       , 1.        , 0.75      ],\n",
       "       [       inf, 4.        , 2.        , 1.33333333, 1.        ]])"
      ]
     },
     "execution_count": 32,
     "metadata": {},
     "output_type": "execute_result"
    }
   ],
   "source": [
    "np.fromfunction(lambda i,j : i/j , (5,5))"
   ]
  },
  {
   "cell_type": "code",
   "execution_count": 34,
   "id": "c4c74f91-e1fa-4e05-87dd-539633638bd8",
   "metadata": {},
   "outputs": [],
   "source": [
    " iterable = ( i*i for i in range(5))"
   ]
  },
  {
   "cell_type": "code",
   "execution_count": 35,
   "id": "9b9538d8-e3f8-4201-90e5-2325d2862a2f",
   "metadata": {},
   "outputs": [
    {
     "data": {
      "text/plain": [
       "array([ 0.,  1.,  4.,  9., 16.])"
      ]
     },
     "execution_count": 35,
     "metadata": {},
     "output_type": "execute_result"
    }
   ],
   "source": [
    "np.fromiter(iterable, float)"
   ]
  },
  {
   "cell_type": "code",
   "execution_count": 42,
   "id": "a9d38704-4693-4abd-89b1-128996e28d7c",
   "metadata": {},
   "outputs": [
    {
     "data": {
      "text/plain": [
       "array([234., 234.])"
      ]
     },
     "execution_count": 42,
     "metadata": {},
     "output_type": "execute_result"
    }
   ],
   "source": [
    "np.fromstring('234 234' , sep= ' ')"
   ]
  },
  {
   "cell_type": "code",
   "execution_count": 46,
   "id": "b98b77d8-97e0-49f2-a11d-43d342d7ecb7",
   "metadata": {},
   "outputs": [
    {
     "data": {
      "text/plain": [
       "array([4., 5.])"
      ]
     },
     "execution_count": 46,
     "metadata": {},
     "output_type": "execute_result"
    }
   ],
   "source": [
    "np.fromstring('4 ,5' , sep= ', ')"
   ]
  },
  {
   "cell_type": "code",
   "execution_count": 47,
   "id": "edadde66-d96a-4ed8-906e-6a2fe154674e",
   "metadata": {},
   "outputs": [],
   "source": [
    "#Numpy - Data Types."
   ]
  },
  {
   "cell_type": "code",
   "execution_count": 48,
   "id": "13934c8c-5d49-4dec-a1e2-259d8f953964",
   "metadata": {},
   "outputs": [],
   "source": [
    "l =[1,2,3,4,5,6]"
   ]
  },
  {
   "cell_type": "code",
   "execution_count": 50,
   "id": "5497621a-7147-4631-8e2a-2742d3941c4b",
   "metadata": {},
   "outputs": [],
   "source": [
    "ar =  np.array(l)"
   ]
  },
  {
   "cell_type": "code",
   "execution_count": 51,
   "id": "e4058f14-0f61-418d-a3f5-2f18c321129d",
   "metadata": {},
   "outputs": [
    {
     "data": {
      "text/plain": [
       "array([1, 2, 3, 4, 5, 6])"
      ]
     },
     "execution_count": 51,
     "metadata": {},
     "output_type": "execute_result"
    }
   ],
   "source": [
    "ar"
   ]
  },
  {
   "cell_type": "code",
   "execution_count": 52,
   "id": "d4b68713-572e-4214-bf45-5842b0c9316d",
   "metadata": {},
   "outputs": [
    {
     "data": {
      "text/plain": [
       "1"
      ]
     },
     "execution_count": 52,
     "metadata": {},
     "output_type": "execute_result"
    }
   ],
   "source": [
    "ar.ndim"
   ]
  },
  {
   "cell_type": "code",
   "execution_count": 55,
   "id": "4fb948f8-6219-47f2-907e-0a637b017e86",
   "metadata": {},
   "outputs": [],
   "source": [
    "ar2 = np.array([[1,2,3,4] , [5,6,7,8,]])"
   ]
  },
  {
   "cell_type": "code",
   "execution_count": 56,
   "id": "4ae9fef3-589d-4c69-81bc-01ca06111c92",
   "metadata": {},
   "outputs": [
    {
     "data": {
      "text/plain": [
       "array([[1, 2, 3, 4],\n",
       "       [5, 6, 7, 8]])"
      ]
     },
     "execution_count": 56,
     "metadata": {},
     "output_type": "execute_result"
    }
   ],
   "source": [
    "ar2"
   ]
  },
  {
   "cell_type": "code",
   "execution_count": 57,
   "id": "fb10776b-b363-435a-b979-240cab9ba2ce",
   "metadata": {},
   "outputs": [],
   "source": [
    "p = [1,2,3,4,5]"
   ]
  },
  {
   "cell_type": "code",
   "execution_count": 59,
   "id": "8fb0be9b-e6b8-4b33-9c35-24e27ba70591",
   "metadata": {},
   "outputs": [],
   "source": [
    "ar= np.array(p)"
   ]
  },
  {
   "cell_type": "code",
   "execution_count": 60,
   "id": "6b5611b0-ec00-48f5-b4c7-97533db55eb4",
   "metadata": {},
   "outputs": [
    {
     "data": {
      "text/plain": [
       "array([1, 2, 3, 4, 5])"
      ]
     },
     "execution_count": 60,
     "metadata": {},
     "output_type": "execute_result"
    }
   ],
   "source": [
    "ar"
   ]
  },
  {
   "cell_type": "code",
   "execution_count": 77,
   "id": "6b1db514-ac0f-4716-b214-a43cf20ac370",
   "metadata": {},
   "outputs": [],
   "source": [
    "p1 = ([[1,2,3,4,5] , [4,5,6,78,9], [2,3,5,6,6], [4,5,6,7,8], [5,6,7,8,9]])"
   ]
  },
  {
   "cell_type": "code",
   "execution_count": 78,
   "id": "4bb57a9e-d5c0-4d24-9118-aa88e83ad24c",
   "metadata": {},
   "outputs": [],
   "source": [
    "ar = np.array(p1)"
   ]
  },
  {
   "cell_type": "code",
   "execution_count": 79,
   "id": "761841b1-1bcc-4ab2-b9b3-8518ba887321",
   "metadata": {},
   "outputs": [
    {
     "data": {
      "text/plain": [
       "array([[ 1,  2,  3,  4,  5],\n",
       "       [ 4,  5,  6, 78,  9],\n",
       "       [ 2,  3,  5,  6,  6],\n",
       "       [ 4,  5,  6,  7,  8],\n",
       "       [ 5,  6,  7,  8,  9]])"
      ]
     },
     "execution_count": 79,
     "metadata": {},
     "output_type": "execute_result"
    }
   ],
   "source": [
    "ar"
   ]
  },
  {
   "cell_type": "code",
   "execution_count": 69,
   "id": "6abd3d4b-a6ff-40b7-a8ef-bf4c428a3634",
   "metadata": {},
   "outputs": [
    {
     "data": {
      "text/plain": [
       "2"
      ]
     },
     "execution_count": 69,
     "metadata": {},
     "output_type": "execute_result"
    }
   ],
   "source": [
    "ar.ndim"
   ]
  },
  {
   "cell_type": "code",
   "execution_count": 70,
   "id": "d1764496-2cac-4ace-8df3-1d20e41b34b9",
   "metadata": {},
   "outputs": [
    {
     "data": {
      "text/plain": [
       "25"
      ]
     },
     "execution_count": 70,
     "metadata": {},
     "output_type": "execute_result"
    }
   ],
   "source": [
    "ar.size"
   ]
  },
  {
   "cell_type": "code",
   "execution_count": 74,
   "id": "d30e659c-5125-4f4a-b5a0-096128698b2b",
   "metadata": {},
   "outputs": [
    {
     "data": {
      "text/plain": [
       "array([[ 1,  2,  3,  4,  5],\n",
       "       [ 4,  5,  6, 78,  9],\n",
       "       [ 2,  3,  5,  6,  6],\n",
       "       [ 4,  5,  6,  7,  8],\n",
       "       [ 5,  6,  7,  8,  9]])"
      ]
     },
     "execution_count": 74,
     "metadata": {},
     "output_type": "execute_result"
    }
   ],
   "source": [
    "ar"
   ]
  },
  {
   "cell_type": "code",
   "execution_count": 75,
   "id": "73088114-296e-47dd-a9af-089e3235de76",
   "metadata": {},
   "outputs": [
    {
     "data": {
      "text/plain": [
       "(5, 5)"
      ]
     },
     "execution_count": 75,
     "metadata": {},
     "output_type": "execute_result"
    }
   ],
   "source": [
    "ar.shape"
   ]
  },
  {
   "cell_type": "code",
   "execution_count": 82,
   "id": "2c288090-8009-4cc8-9db2-ff08f85c8fed",
   "metadata": {},
   "outputs": [
    {
     "data": {
      "text/plain": [
       "dtype('int64')"
      ]
     },
     "execution_count": 82,
     "metadata": {},
     "output_type": "execute_result"
    }
   ],
   "source": [
    "ar.dtype"
   ]
  },
  {
   "cell_type": "code",
   "execution_count": 83,
   "id": "bb1c8aec-b357-47bb-b09d-ea375b96562d",
   "metadata": {},
   "outputs": [
    {
     "data": {
      "text/plain": [
       "dtype('int64')"
      ]
     },
     "execution_count": 83,
     "metadata": {},
     "output_type": "execute_result"
    }
   ],
   "source": [
    "ar2.dtype"
   ]
  },
  {
   "cell_type": "code",
   "execution_count": 84,
   "id": "58769c55-b122-4e2b-846a-0e82ac758e8b",
   "metadata": {},
   "outputs": [],
   "source": [
    "ar22 = np.array([(1.4,45,45),(23,65,64)])"
   ]
  },
  {
   "cell_type": "code",
   "execution_count": 85,
   "id": "d218bedb-7741-45b5-83db-06fdeebe5a84",
   "metadata": {},
   "outputs": [
    {
     "data": {
      "text/plain": [
       "array([[ 1.4, 45. , 45. ],\n",
       "       [23. , 65. , 64. ]])"
      ]
     },
     "execution_count": 85,
     "metadata": {},
     "output_type": "execute_result"
    }
   ],
   "source": [
    "ar22"
   ]
  },
  {
   "cell_type": "code",
   "execution_count": 86,
   "id": "042b601b-fc0c-4d02-a669-928634c2a5f3",
   "metadata": {},
   "outputs": [
    {
     "data": {
      "text/plain": [
       "(2, 3)"
      ]
     },
     "execution_count": 86,
     "metadata": {},
     "output_type": "execute_result"
    }
   ],
   "source": [
    "ar22.shape"
   ]
  },
  {
   "cell_type": "code",
   "execution_count": 87,
   "id": "dc596e3d-4135-4f21-b22f-2547797d2284",
   "metadata": {},
   "outputs": [
    {
     "data": {
      "text/plain": [
       "dtype('float64')"
      ]
     },
     "execution_count": 87,
     "metadata": {},
     "output_type": "execute_result"
    }
   ],
   "source": [
    "ar22.dtype"
   ]
  },
  {
   "cell_type": "code",
   "execution_count": 95,
   "id": "76ca5b13-7745-4826-b2af-cee3547025f9",
   "metadata": {},
   "outputs": [
    {
     "data": {
      "text/plain": [
       "array([2.3, 3.3, 4.3, 5.3])"
      ]
     },
     "execution_count": 95,
     "metadata": {},
     "output_type": "execute_result"
    }
   ],
   "source": [
    "np.arange(2.3,5.6)"
   ]
  },
  {
   "cell_type": "code",
   "execution_count": 102,
   "id": "2b8667f8-f94e-471e-a3ba-dc2f8dab509c",
   "metadata": {},
   "outputs": [
    {
     "ename": "TypeError",
     "evalue": "'range' object is not callable",
     "output_type": "error",
     "traceback": [
      "\u001b[0;31m---------------------------------------------------------------------------\u001b[0m",
      "\u001b[0;31mTypeError\u001b[0m                                 Traceback (most recent call last)",
      "Cell \u001b[0;32mIn[102], line 1\u001b[0m\n\u001b[0;32m----> 1\u001b[0m \u001b[38;5;28;43mlist\u001b[39;49m\u001b[43m(\u001b[49m\u001b[43mnp\u001b[49m\u001b[38;5;241;43m.\u001b[39;49m\u001b[43marange\u001b[49m\u001b[43m(\u001b[49m\u001b[38;5;241;43m2.3\u001b[39;49m\u001b[43m \u001b[49m\u001b[43m,\u001b[49m\u001b[43m \u001b[49m\u001b[38;5;241;43m4.6\u001b[39;49m\u001b[43m,\u001b[49m\u001b[43m \u001b[49m\u001b[38;5;241;43m.3\u001b[39;49m\u001b[43m)\u001b[49m\u001b[43m)\u001b[49m\n",
      "\u001b[0;31mTypeError\u001b[0m: 'range' object is not callable"
     ]
    }
   ],
   "source": [
    "list(np.arange(2.3 , 4.6, .3))"
   ]
  },
  {
   "cell_type": "code",
   "execution_count": 104,
   "id": "46b5ddc5-54b7-4613-8729-e67aeb25427b",
   "metadata": {},
   "outputs": [
    {
     "data": {
      "text/plain": [
       "array([1.        , 1.44444444, 1.88888889, 2.33333333, 2.77777778,\n",
       "       3.22222222, 3.66666667, 4.11111111, 4.55555556, 5.        ])"
      ]
     },
     "execution_count": 104,
     "metadata": {},
     "output_type": "execute_result"
    }
   ],
   "source": [
    "np.linspace(1,5,10)"
   ]
  },
  {
   "cell_type": "code",
   "execution_count": 105,
   "id": "c71623d3-4296-49f8-8f4c-0b8d2857a76b",
   "metadata": {},
   "outputs": [
    {
     "data": {
      "text/plain": [
       "array([0., 0., 0., 0., 0.])"
      ]
     },
     "execution_count": 105,
     "metadata": {},
     "output_type": "execute_result"
    }
   ],
   "source": [
    "np.zeros(5)"
   ]
  },
  {
   "cell_type": "code",
   "execution_count": 107,
   "id": "5984e91d-eaa1-47b6-bbd2-77c47c87c283",
   "metadata": {},
   "outputs": [
    {
     "data": {
      "text/plain": [
       "array([[0., 0., 0., 0.],\n",
       "       [0., 0., 0., 0.],\n",
       "       [0., 0., 0., 0.]])"
      ]
     },
     "execution_count": 107,
     "metadata": {},
     "output_type": "execute_result"
    }
   ],
   "source": [
    "np.zeros((3,4))"
   ]
  },
  {
   "cell_type": "code",
   "execution_count": 108,
   "id": "0450c8d2-b37e-42ea-952e-9ef6a743f0f9",
   "metadata": {},
   "outputs": [
    {
     "data": {
      "text/plain": [
       "array([[[0., 0.],\n",
       "        [0., 0.],\n",
       "        [0., 0.],\n",
       "        [0., 0.]],\n",
       "\n",
       "       [[0., 0.],\n",
       "        [0., 0.],\n",
       "        [0., 0.],\n",
       "        [0., 0.]],\n",
       "\n",
       "       [[0., 0.],\n",
       "        [0., 0.],\n",
       "        [0., 0.],\n",
       "        [0., 0.]]])"
      ]
     },
     "execution_count": 108,
     "metadata": {},
     "output_type": "execute_result"
    }
   ],
   "source": [
    "np.zeros((3,4,2))"
   ]
  },
  {
   "cell_type": "code",
   "execution_count": 110,
   "id": "a612aa92-89a7-4328-aa35-ebb90858a47c",
   "metadata": {},
   "outputs": [
    {
     "data": {
      "text/plain": [
       "array([[[[0., 0., 0.],\n",
       "         [0., 0., 0.]],\n",
       "\n",
       "        [[0., 0., 0.],\n",
       "         [0., 0., 0.]],\n",
       "\n",
       "        [[0., 0., 0.],\n",
       "         [0., 0., 0.]],\n",
       "\n",
       "        [[0., 0., 0.],\n",
       "         [0., 0., 0.]]],\n",
       "\n",
       "\n",
       "       [[[0., 0., 0.],\n",
       "         [0., 0., 0.]],\n",
       "\n",
       "        [[0., 0., 0.],\n",
       "         [0., 0., 0.]],\n",
       "\n",
       "        [[0., 0., 0.],\n",
       "         [0., 0., 0.]],\n",
       "\n",
       "        [[0., 0., 0.],\n",
       "         [0., 0., 0.]]],\n",
       "\n",
       "\n",
       "       [[[0., 0., 0.],\n",
       "         [0., 0., 0.]],\n",
       "\n",
       "        [[0., 0., 0.],\n",
       "         [0., 0., 0.]],\n",
       "\n",
       "        [[0., 0., 0.],\n",
       "         [0., 0., 0.]],\n",
       "\n",
       "        [[0., 0., 0.],\n",
       "         [0., 0., 0.]]]])"
      ]
     },
     "execution_count": 110,
     "metadata": {},
     "output_type": "execute_result"
    }
   ],
   "source": [
    "np.zeros((3,4,2,3))"
   ]
  },
  {
   "cell_type": "code",
   "execution_count": 111,
   "id": "9669dacf-6e47-4a04-81e2-b22c364f0627",
   "metadata": {},
   "outputs": [
    {
     "data": {
      "text/plain": [
       "array([1., 1., 1., 1.])"
      ]
     },
     "execution_count": 111,
     "metadata": {},
     "output_type": "execute_result"
    }
   ],
   "source": [
    "np.ones(4)"
   ]
  },
  {
   "cell_type": "code",
   "execution_count": 115,
   "id": "bbf1a26b-b107-4637-86dc-e79f8ae68c86",
   "metadata": {},
   "outputs": [
    {
     "data": {
      "text/plain": [
       "array([[1., 1., 1.],\n",
       "       [1., 1., 1.]])"
      ]
     },
     "execution_count": 115,
     "metadata": {},
     "output_type": "execute_result"
    }
   ],
   "source": [
    "np.ones((2,3))"
   ]
  },
  {
   "cell_type": "code",
   "execution_count": 117,
   "id": "3e2cb985-06ef-4890-b60e-128e0fc827d1",
   "metadata": {},
   "outputs": [],
   "source": [
    "on =np.ones((2,3,4))"
   ]
  },
  {
   "cell_type": "code",
   "execution_count": 118,
   "id": "3dcf6edc-0fce-4654-bd91-70aff6428eae",
   "metadata": {},
   "outputs": [
    {
     "data": {
      "text/plain": [
       "array([[[6., 6., 6., 6.],\n",
       "        [6., 6., 6., 6.],\n",
       "        [6., 6., 6., 6.]],\n",
       "\n",
       "       [[6., 6., 6., 6.],\n",
       "        [6., 6., 6., 6.],\n",
       "        [6., 6., 6., 6.]]])"
      ]
     },
     "execution_count": 118,
     "metadata": {},
     "output_type": "execute_result"
    }
   ],
   "source": [
    "on +5"
   ]
  },
  {
   "cell_type": "code",
   "execution_count": 119,
   "id": "1c74dbd7-b86a-48cc-a29f-69b7bc663f37",
   "metadata": {},
   "outputs": [
    {
     "data": {
      "text/plain": [
       "array([[0., 0., 0., 0., 0.],\n",
       "       [0., 0., 0., 0., 0.],\n",
       "       [0., 0., 0., 0., 0.]])"
      ]
     },
     "execution_count": 119,
     "metadata": {},
     "output_type": "execute_result"
    }
   ],
   "source": [
    "np.empty((3,5))"
   ]
  },
  {
   "cell_type": "code",
   "execution_count": 120,
   "id": "fa87e9f1-5a97-463e-a9ad-09c785ffbd56",
   "metadata": {},
   "outputs": [
    {
     "data": {
      "text/plain": [
       "array([[1., 0., 0., 0.],\n",
       "       [0., 1., 0., 0.],\n",
       "       [0., 0., 1., 0.],\n",
       "       [0., 0., 0., 1.]])"
      ]
     },
     "execution_count": 120,
     "metadata": {},
     "output_type": "execute_result"
    }
   ],
   "source": [
    "np.eye(4)"
   ]
  },
  {
   "cell_type": "code",
   "execution_count": 121,
   "id": "3c171572-818a-4032-bd56-ed61a3c7af14",
   "metadata": {},
   "outputs": [
    {
     "data": {
      "text/plain": [
       "array([2.        , 2.10526316, 2.21052632, 2.31578947, 2.42105263,\n",
       "       2.52631579, 2.63157895, 2.73684211, 2.84210526, 2.94736842,\n",
       "       3.05263158, 3.15789474, 3.26315789, 3.36842105, 3.47368421,\n",
       "       3.57894737, 3.68421053, 3.78947368, 3.89473684, 4.        ])"
      ]
     },
     "execution_count": 121,
     "metadata": {},
     "output_type": "execute_result"
    }
   ],
   "source": [
    "np.linspace(2,4, 20)"
   ]
  },
  {
   "cell_type": "code",
   "execution_count": 122,
   "id": "be5ab7a1-2a06-4a2c-be47-1383ec362527",
   "metadata": {},
   "outputs": [
    {
     "data": {
      "text/plain": [
       "array([   100.        ,    215.443469  ,    464.15888336,   1000.        ,\n",
       "         2154.43469003,   4641.58883361,  10000.        ,  21544.34690032,\n",
       "        46415.88833613, 100000.        ])"
      ]
     },
     "execution_count": 122,
     "metadata": {},
     "output_type": "execute_result"
    }
   ],
   "source": [
    "np.logspace(2,5 , 10)"
   ]
  },
  {
   "cell_type": "code",
   "execution_count": 124,
   "id": "9918d35d-2d75-4b8c-8472-49764d136041",
   "metadata": {},
   "outputs": [
    {
     "data": {
      "text/plain": [
       "array([ 4.        ,  5.0396842 ,  6.34960421,  8.        , 10.0793684 ,\n",
       "       12.69920842, 16.        , 20.1587368 , 25.39841683, 32.        ])"
      ]
     },
     "execution_count": 124,
     "metadata": {},
     "output_type": "execute_result"
    }
   ],
   "source": [
    "np.logspace(2,5,10, base = 2)"
   ]
  },
  {
   "cell_type": "code",
   "execution_count": 125,
   "id": "afc2a8c5-5b99-41fe-bcaa-55ac33160290",
   "metadata": {},
   "outputs": [],
   "source": [
    "# Random Function"
   ]
  },
  {
   "cell_type": "code",
   "execution_count": 126,
   "id": "4391d1a2-a833-4c3e-909b-ef57a1013933",
   "metadata": {},
   "outputs": [
    {
     "data": {
      "text/plain": [
       "array([[0.21628229, 0.35446862, 0.1348908 , 0.29177549],\n",
       "       [0.53074825, 0.96903994, 0.10085751, 0.9240247 ],\n",
       "       [0.4836997 , 0.54541238, 0.03174346, 0.40199365]])"
      ]
     },
     "execution_count": 126,
     "metadata": {},
     "output_type": "execute_result"
    }
   ],
   "source": [
    "np.random.rand(3,4)"
   ]
  },
  {
   "cell_type": "code",
   "execution_count": 127,
   "id": "0d0d828c-513f-48b6-8453-b1f94de513d3",
   "metadata": {},
   "outputs": [],
   "source": [
    "arr = np.random.randn(3,4)"
   ]
  },
  {
   "cell_type": "code",
   "execution_count": 128,
   "id": "0edc7209-6d1b-46ed-9e4e-d139128144b2",
   "metadata": {},
   "outputs": [],
   "source": [
    "import pandas as pd "
   ]
  },
  {
   "cell_type": "code",
   "execution_count": 129,
   "id": "eacab528-124a-4af8-a97e-97eb5b0ee5d4",
   "metadata": {},
   "outputs": [
    {
     "data": {
      "text/html": [
       "<div>\n",
       "<style scoped>\n",
       "    .dataframe tbody tr th:only-of-type {\n",
       "        vertical-align: middle;\n",
       "    }\n",
       "\n",
       "    .dataframe tbody tr th {\n",
       "        vertical-align: top;\n",
       "    }\n",
       "\n",
       "    .dataframe thead th {\n",
       "        text-align: right;\n",
       "    }\n",
       "</style>\n",
       "<table border=\"1\" class=\"dataframe\">\n",
       "  <thead>\n",
       "    <tr style=\"text-align: right;\">\n",
       "      <th></th>\n",
       "      <th>0</th>\n",
       "      <th>1</th>\n",
       "      <th>2</th>\n",
       "      <th>3</th>\n",
       "    </tr>\n",
       "  </thead>\n",
       "  <tbody>\n",
       "    <tr>\n",
       "      <th>0</th>\n",
       "      <td>-1.210416</td>\n",
       "      <td>0.116891</td>\n",
       "      <td>0.158123</td>\n",
       "      <td>-1.829267</td>\n",
       "    </tr>\n",
       "    <tr>\n",
       "      <th>1</th>\n",
       "      <td>0.383100</td>\n",
       "      <td>-0.073480</td>\n",
       "      <td>0.456869</td>\n",
       "      <td>-1.663412</td>\n",
       "    </tr>\n",
       "    <tr>\n",
       "      <th>2</th>\n",
       "      <td>-1.085035</td>\n",
       "      <td>0.194122</td>\n",
       "      <td>1.295014</td>\n",
       "      <td>-1.288656</td>\n",
       "    </tr>\n",
       "  </tbody>\n",
       "</table>\n",
       "</div>"
      ],
      "text/plain": [
       "          0         1         2         3\n",
       "0 -1.210416  0.116891  0.158123 -1.829267\n",
       "1  0.383100 -0.073480  0.456869 -1.663412\n",
       "2 -1.085035  0.194122  1.295014 -1.288656"
      ]
     },
     "execution_count": 129,
     "metadata": {},
     "output_type": "execute_result"
    }
   ],
   "source": [
    "pd.DataFrame(arr)"
   ]
  },
  {
   "cell_type": "code",
   "execution_count": 130,
   "id": "dfa60a9b-fca7-4254-a4ad-31e320d86e0a",
   "metadata": {},
   "outputs": [
    {
     "data": {
      "text/plain": [
       "array([[0.0870609 , 0.15586629, 0.56691428, 0.41168834],\n",
       "       [0.76556209, 0.22701124, 0.43076889, 0.17069736],\n",
       "       [0.26241057, 0.47820566, 0.19164431, 0.29677693]])"
      ]
     },
     "execution_count": 130,
     "metadata": {},
     "output_type": "execute_result"
    }
   ],
   "source": [
    "np.random.rand(3,4)"
   ]
  },
  {
   "cell_type": "code",
   "execution_count": 132,
   "id": "9d27fa18-eb21-427e-8a71-fcd97719bf1f",
   "metadata": {},
   "outputs": [
    {
     "data": {
      "text/plain": [
       "array([[ 72,  36,  55, ...,  36, 102, 103],\n",
       "       [  1,   4,  80, ...,  47, 108,   4],\n",
       "       [ 16,  62,  15, ...,  99,  15,  18],\n",
       "       ...,\n",
       "       [ 31,  29,  61, ...,  92,  74, 102],\n",
       "       [ 73,   7, 109, ..., 103,  32,  11],\n",
       "       [ 87,  40,  48, ...,  83,  93,  21]])"
      ]
     },
     "execution_count": 132,
     "metadata": {},
     "output_type": "execute_result"
    }
   ],
   "source": [
    "np.random.randint(1,110 , (300,400))"
   ]
  },
  {
   "cell_type": "code",
   "execution_count": 133,
   "id": "40ceeaf0-633c-4f69-a656-56ebd8b29c3f",
   "metadata": {},
   "outputs": [
    {
     "data": {
      "text/html": [
       "<div>\n",
       "<style scoped>\n",
       "    .dataframe tbody tr th:only-of-type {\n",
       "        vertical-align: middle;\n",
       "    }\n",
       "\n",
       "    .dataframe tbody tr th {\n",
       "        vertical-align: top;\n",
       "    }\n",
       "\n",
       "    .dataframe thead th {\n",
       "        text-align: right;\n",
       "    }\n",
       "</style>\n",
       "<table border=\"1\" class=\"dataframe\">\n",
       "  <thead>\n",
       "    <tr style=\"text-align: right;\">\n",
       "      <th></th>\n",
       "      <th>0</th>\n",
       "      <th>1</th>\n",
       "      <th>2</th>\n",
       "      <th>3</th>\n",
       "      <th>4</th>\n",
       "      <th>5</th>\n",
       "      <th>6</th>\n",
       "      <th>7</th>\n",
       "      <th>8</th>\n",
       "      <th>9</th>\n",
       "      <th>...</th>\n",
       "      <th>390</th>\n",
       "      <th>391</th>\n",
       "      <th>392</th>\n",
       "      <th>393</th>\n",
       "      <th>394</th>\n",
       "      <th>395</th>\n",
       "      <th>396</th>\n",
       "      <th>397</th>\n",
       "      <th>398</th>\n",
       "      <th>399</th>\n",
       "    </tr>\n",
       "  </thead>\n",
       "  <tbody>\n",
       "    <tr>\n",
       "      <th>0</th>\n",
       "      <td>95</td>\n",
       "      <td>98</td>\n",
       "      <td>71</td>\n",
       "      <td>25</td>\n",
       "      <td>45</td>\n",
       "      <td>30</td>\n",
       "      <td>59</td>\n",
       "      <td>51</td>\n",
       "      <td>18</td>\n",
       "      <td>51</td>\n",
       "      <td>...</td>\n",
       "      <td>67</td>\n",
       "      <td>5</td>\n",
       "      <td>92</td>\n",
       "      <td>106</td>\n",
       "      <td>42</td>\n",
       "      <td>72</td>\n",
       "      <td>83</td>\n",
       "      <td>83</td>\n",
       "      <td>11</td>\n",
       "      <td>32</td>\n",
       "    </tr>\n",
       "    <tr>\n",
       "      <th>1</th>\n",
       "      <td>27</td>\n",
       "      <td>24</td>\n",
       "      <td>43</td>\n",
       "      <td>47</td>\n",
       "      <td>56</td>\n",
       "      <td>68</td>\n",
       "      <td>5</td>\n",
       "      <td>98</td>\n",
       "      <td>20</td>\n",
       "      <td>22</td>\n",
       "      <td>...</td>\n",
       "      <td>92</td>\n",
       "      <td>8</td>\n",
       "      <td>9</td>\n",
       "      <td>63</td>\n",
       "      <td>28</td>\n",
       "      <td>107</td>\n",
       "      <td>30</td>\n",
       "      <td>48</td>\n",
       "      <td>30</td>\n",
       "      <td>105</td>\n",
       "    </tr>\n",
       "    <tr>\n",
       "      <th>2</th>\n",
       "      <td>101</td>\n",
       "      <td>74</td>\n",
       "      <td>62</td>\n",
       "      <td>81</td>\n",
       "      <td>79</td>\n",
       "      <td>32</td>\n",
       "      <td>81</td>\n",
       "      <td>82</td>\n",
       "      <td>50</td>\n",
       "      <td>3</td>\n",
       "      <td>...</td>\n",
       "      <td>91</td>\n",
       "      <td>84</td>\n",
       "      <td>103</td>\n",
       "      <td>109</td>\n",
       "      <td>60</td>\n",
       "      <td>93</td>\n",
       "      <td>80</td>\n",
       "      <td>30</td>\n",
       "      <td>42</td>\n",
       "      <td>59</td>\n",
       "    </tr>\n",
       "    <tr>\n",
       "      <th>3</th>\n",
       "      <td>59</td>\n",
       "      <td>25</td>\n",
       "      <td>27</td>\n",
       "      <td>92</td>\n",
       "      <td>79</td>\n",
       "      <td>79</td>\n",
       "      <td>105</td>\n",
       "      <td>94</td>\n",
       "      <td>99</td>\n",
       "      <td>33</td>\n",
       "      <td>...</td>\n",
       "      <td>1</td>\n",
       "      <td>47</td>\n",
       "      <td>84</td>\n",
       "      <td>14</td>\n",
       "      <td>51</td>\n",
       "      <td>66</td>\n",
       "      <td>101</td>\n",
       "      <td>41</td>\n",
       "      <td>58</td>\n",
       "      <td>106</td>\n",
       "    </tr>\n",
       "    <tr>\n",
       "      <th>4</th>\n",
       "      <td>30</td>\n",
       "      <td>6</td>\n",
       "      <td>54</td>\n",
       "      <td>108</td>\n",
       "      <td>60</td>\n",
       "      <td>45</td>\n",
       "      <td>22</td>\n",
       "      <td>25</td>\n",
       "      <td>29</td>\n",
       "      <td>41</td>\n",
       "      <td>...</td>\n",
       "      <td>31</td>\n",
       "      <td>70</td>\n",
       "      <td>46</td>\n",
       "      <td>29</td>\n",
       "      <td>105</td>\n",
       "      <td>28</td>\n",
       "      <td>45</td>\n",
       "      <td>90</td>\n",
       "      <td>25</td>\n",
       "      <td>104</td>\n",
       "    </tr>\n",
       "    <tr>\n",
       "      <th>...</th>\n",
       "      <td>...</td>\n",
       "      <td>...</td>\n",
       "      <td>...</td>\n",
       "      <td>...</td>\n",
       "      <td>...</td>\n",
       "      <td>...</td>\n",
       "      <td>...</td>\n",
       "      <td>...</td>\n",
       "      <td>...</td>\n",
       "      <td>...</td>\n",
       "      <td>...</td>\n",
       "      <td>...</td>\n",
       "      <td>...</td>\n",
       "      <td>...</td>\n",
       "      <td>...</td>\n",
       "      <td>...</td>\n",
       "      <td>...</td>\n",
       "      <td>...</td>\n",
       "      <td>...</td>\n",
       "      <td>...</td>\n",
       "      <td>...</td>\n",
       "    </tr>\n",
       "    <tr>\n",
       "      <th>295</th>\n",
       "      <td>12</td>\n",
       "      <td>13</td>\n",
       "      <td>9</td>\n",
       "      <td>86</td>\n",
       "      <td>52</td>\n",
       "      <td>22</td>\n",
       "      <td>42</td>\n",
       "      <td>45</td>\n",
       "      <td>76</td>\n",
       "      <td>64</td>\n",
       "      <td>...</td>\n",
       "      <td>58</td>\n",
       "      <td>53</td>\n",
       "      <td>107</td>\n",
       "      <td>48</td>\n",
       "      <td>30</td>\n",
       "      <td>71</td>\n",
       "      <td>75</td>\n",
       "      <td>9</td>\n",
       "      <td>101</td>\n",
       "      <td>3</td>\n",
       "    </tr>\n",
       "    <tr>\n",
       "      <th>296</th>\n",
       "      <td>54</td>\n",
       "      <td>96</td>\n",
       "      <td>28</td>\n",
       "      <td>69</td>\n",
       "      <td>84</td>\n",
       "      <td>85</td>\n",
       "      <td>7</td>\n",
       "      <td>48</td>\n",
       "      <td>31</td>\n",
       "      <td>56</td>\n",
       "      <td>...</td>\n",
       "      <td>83</td>\n",
       "      <td>75</td>\n",
       "      <td>62</td>\n",
       "      <td>24</td>\n",
       "      <td>60</td>\n",
       "      <td>76</td>\n",
       "      <td>94</td>\n",
       "      <td>57</td>\n",
       "      <td>95</td>\n",
       "      <td>101</td>\n",
       "    </tr>\n",
       "    <tr>\n",
       "      <th>297</th>\n",
       "      <td>94</td>\n",
       "      <td>23</td>\n",
       "      <td>5</td>\n",
       "      <td>45</td>\n",
       "      <td>22</td>\n",
       "      <td>93</td>\n",
       "      <td>5</td>\n",
       "      <td>106</td>\n",
       "      <td>5</td>\n",
       "      <td>47</td>\n",
       "      <td>...</td>\n",
       "      <td>80</td>\n",
       "      <td>55</td>\n",
       "      <td>23</td>\n",
       "      <td>12</td>\n",
       "      <td>35</td>\n",
       "      <td>68</td>\n",
       "      <td>51</td>\n",
       "      <td>26</td>\n",
       "      <td>108</td>\n",
       "      <td>11</td>\n",
       "    </tr>\n",
       "    <tr>\n",
       "      <th>298</th>\n",
       "      <td>89</td>\n",
       "      <td>47</td>\n",
       "      <td>11</td>\n",
       "      <td>106</td>\n",
       "      <td>42</td>\n",
       "      <td>86</td>\n",
       "      <td>53</td>\n",
       "      <td>24</td>\n",
       "      <td>34</td>\n",
       "      <td>6</td>\n",
       "      <td>...</td>\n",
       "      <td>14</td>\n",
       "      <td>51</td>\n",
       "      <td>105</td>\n",
       "      <td>8</td>\n",
       "      <td>51</td>\n",
       "      <td>59</td>\n",
       "      <td>16</td>\n",
       "      <td>11</td>\n",
       "      <td>82</td>\n",
       "      <td>19</td>\n",
       "    </tr>\n",
       "    <tr>\n",
       "      <th>299</th>\n",
       "      <td>10</td>\n",
       "      <td>109</td>\n",
       "      <td>7</td>\n",
       "      <td>40</td>\n",
       "      <td>51</td>\n",
       "      <td>101</td>\n",
       "      <td>108</td>\n",
       "      <td>16</td>\n",
       "      <td>8</td>\n",
       "      <td>60</td>\n",
       "      <td>...</td>\n",
       "      <td>88</td>\n",
       "      <td>101</td>\n",
       "      <td>65</td>\n",
       "      <td>62</td>\n",
       "      <td>45</td>\n",
       "      <td>101</td>\n",
       "      <td>29</td>\n",
       "      <td>43</td>\n",
       "      <td>22</td>\n",
       "      <td>10</td>\n",
       "    </tr>\n",
       "  </tbody>\n",
       "</table>\n",
       "<p>300 rows × 400 columns</p>\n",
       "</div>"
      ],
      "text/plain": [
       "     0    1    2    3    4    5    6    7    8    9    ...  390  391  392  \\\n",
       "0     95   98   71   25   45   30   59   51   18   51  ...   67    5   92   \n",
       "1     27   24   43   47   56   68    5   98   20   22  ...   92    8    9   \n",
       "2    101   74   62   81   79   32   81   82   50    3  ...   91   84  103   \n",
       "3     59   25   27   92   79   79  105   94   99   33  ...    1   47   84   \n",
       "4     30    6   54  108   60   45   22   25   29   41  ...   31   70   46   \n",
       "..   ...  ...  ...  ...  ...  ...  ...  ...  ...  ...  ...  ...  ...  ...   \n",
       "295   12   13    9   86   52   22   42   45   76   64  ...   58   53  107   \n",
       "296   54   96   28   69   84   85    7   48   31   56  ...   83   75   62   \n",
       "297   94   23    5   45   22   93    5  106    5   47  ...   80   55   23   \n",
       "298   89   47   11  106   42   86   53   24   34    6  ...   14   51  105   \n",
       "299   10  109    7   40   51  101  108   16    8   60  ...   88  101   65   \n",
       "\n",
       "     393  394  395  396  397  398  399  \n",
       "0    106   42   72   83   83   11   32  \n",
       "1     63   28  107   30   48   30  105  \n",
       "2    109   60   93   80   30   42   59  \n",
       "3     14   51   66  101   41   58  106  \n",
       "4     29  105   28   45   90   25  104  \n",
       "..   ...  ...  ...  ...  ...  ...  ...  \n",
       "295   48   30   71   75    9  101    3  \n",
       "296   24   60   76   94   57   95  101  \n",
       "297   12   35   68   51   26  108   11  \n",
       "298    8   51   59   16   11   82   19  \n",
       "299   62   45  101   29   43   22   10  \n",
       "\n",
       "[300 rows x 400 columns]"
      ]
     },
     "execution_count": 133,
     "metadata": {},
     "output_type": "execute_result"
    }
   ],
   "source": [
    "pd.DataFrame(np.random.randint(1,110 , (300,400)))"
   ]
  },
  {
   "cell_type": "code",
   "execution_count": 134,
   "id": "ebf5c685-8623-46b6-87a1-3304ccafd4b9",
   "metadata": {},
   "outputs": [],
   "source": [
    "pd.DataFrame(np.random.randint(1,110 , (300,400))).to_csv(\"test.csv\")"
   ]
  },
  {
   "cell_type": "code",
   "execution_count": 135,
   "id": "501ae89d-73b4-45e0-88d6-111fa06f53f2",
   "metadata": {},
   "outputs": [],
   "source": [
    "arr = np.random.rand(3,4)"
   ]
  },
  {
   "cell_type": "code",
   "execution_count": 136,
   "id": "9f19a0a2-50e4-4913-8d4a-e9108741c239",
   "metadata": {},
   "outputs": [
    {
     "data": {
      "text/plain": [
       "array([[0.21006783, 0.77130394, 0.47500338, 0.78181857],\n",
       "       [0.84402228, 0.42854173, 0.76951427, 0.9585058 ],\n",
       "       [0.23861384, 0.45876288, 0.46016994, 0.8281951 ]])"
      ]
     },
     "execution_count": 136,
     "metadata": {},
     "output_type": "execute_result"
    }
   ],
   "source": [
    "arr"
   ]
  },
  {
   "cell_type": "code",
   "execution_count": 139,
   "id": "c89caece-6ffe-43c8-bcea-89430cc8ad8b",
   "metadata": {},
   "outputs": [],
   "source": [
    "arr1=arr.reshape(6,2)"
   ]
  },
  {
   "cell_type": "code",
   "execution_count": 140,
   "id": "5a96291f-ef67-4bda-9fbd-d92bc7dddb38",
   "metadata": {},
   "outputs": [
    {
     "data": {
      "text/plain": [
       "array([[0.21006783, 0.77130394],\n",
       "       [0.47500338, 0.78181857],\n",
       "       [0.84402228, 0.42854173],\n",
       "       [0.76951427, 0.9585058 ],\n",
       "       [0.23861384, 0.45876288],\n",
       "       [0.46016994, 0.8281951 ]])"
      ]
     },
     "execution_count": 140,
     "metadata": {},
     "output_type": "execute_result"
    }
   ],
   "source": [
    "arr1"
   ]
  },
  {
   "cell_type": "code",
   "execution_count": 141,
   "id": "369b3575-b208-4ecc-a0fd-07c734e8e0c5",
   "metadata": {},
   "outputs": [
    {
     "data": {
      "text/plain": [
       "array([0.47500338, 0.78181857])"
      ]
     },
     "execution_count": 141,
     "metadata": {},
     "output_type": "execute_result"
    }
   ],
   "source": [
    "arr1[1] "
   ]
  },
  {
   "cell_type": "code",
   "execution_count": 142,
   "id": "82983433-bad5-4c5a-a876-7fe5d8191c5c",
   "metadata": {},
   "outputs": [
    {
     "data": {
      "text/plain": [
       "0.7818185666413576"
      ]
     },
     "execution_count": 142,
     "metadata": {},
     "output_type": "execute_result"
    }
   ],
   "source": [
    "arr1[1] [1]"
   ]
  },
  {
   "cell_type": "code",
   "execution_count": 147,
   "id": "7d8396f8-3700-43d4-b658-477978a32877",
   "metadata": {},
   "outputs": [
    {
     "data": {
      "text/plain": [
       "array([0.42854173, 0.9585058 , 0.45876288])"
      ]
     },
     "execution_count": 147,
     "metadata": {},
     "output_type": "execute_result"
    }
   ],
   "source": [
    "arr1[2:5,1]"
   ]
  },
  {
   "cell_type": "code",
   "execution_count": 151,
   "id": "846f893d",
   "metadata": {},
   "outputs": [],
   "source": [
    "arr = np.random.randint(1,100 ,(5,5))"
   ]
  },
  {
   "cell_type": "code",
   "execution_count": 152,
   "id": "1b79fc68-6a53-41f3-967c-c566ce06abd4",
   "metadata": {},
   "outputs": [
    {
     "data": {
      "text/plain": [
       "array([[19, 81, 97, 85, 37],\n",
       "       [90, 79,  4, 97,  9],\n",
       "       [36, 51, 76, 98,  5],\n",
       "       [ 5, 62, 54, 28, 42],\n",
       "       [88, 39, 75, 80, 82]])"
      ]
     },
     "execution_count": 152,
     "metadata": {},
     "output_type": "execute_result"
    }
   ],
   "source": [
    "arr"
   ]
  },
  {
   "cell_type": "code",
   "execution_count": 154,
   "id": "203ecd33-5d47-43df-992a-7e48823cf78d",
   "metadata": {},
   "outputs": [
    {
     "data": {
      "text/plain": [
       "array([81, 97, 85, 90, 79, 97, 51, 76, 98, 62, 54, 88, 75, 80, 82])"
      ]
     },
     "execution_count": 154,
     "metadata": {},
     "output_type": "execute_result"
    }
   ],
   "source": [
    "arr[arr>50]"
   ]
  },
  {
   "cell_type": "code",
   "execution_count": 155,
   "id": "3bf23135-ede9-4f49-a522-6002a594e5d7",
   "metadata": {},
   "outputs": [
    {
     "data": {
      "text/plain": [
       "array([[19, 81, 97, 85, 37],\n",
       "       [90, 79,  4, 97,  9],\n",
       "       [36, 51, 76, 98,  5],\n",
       "       [ 5, 62, 54, 28, 42],\n",
       "       [88, 39, 75, 80, 82]])"
      ]
     },
     "execution_count": 155,
     "metadata": {},
     "output_type": "execute_result"
    }
   ],
   "source": [
    "arr"
   ]
  },
  {
   "cell_type": "code",
   "execution_count": 160,
   "id": "4413e09e-c494-4836-9f1c-787ed6e5cc0c",
   "metadata": {},
   "outputs": [
    {
     "data": {
      "text/plain": [
       "array([[51, 76],\n",
       "       [62, 54]])"
      ]
     },
     "execution_count": 160,
     "metadata": {},
     "output_type": "execute_result"
    }
   ],
   "source": [
    "arr[2:4 , [1,2]]"
   ]
  },
  {
   "cell_type": "code",
   "execution_count": 162,
   "id": "3d3bf8cc-2731-42c8-88f5-cb1d95d68e0c",
   "metadata": {},
   "outputs": [
    {
     "data": {
      "text/plain": [
       "array([[98,  5],\n",
       "       [28, 42]])"
      ]
     },
     "execution_count": 162,
     "metadata": {},
     "output_type": "execute_result"
    }
   ],
   "source": [
    "arr[2:4 , [3,4]]"
   ]
  },
  {
   "cell_type": "code",
   "execution_count": 164,
   "id": "7047e9cc-f128-4505-ac2e-1f8d6034a660",
   "metadata": {},
   "outputs": [
    {
     "data": {
      "text/plain": [
       "array([[54, 28],\n",
       "       [75, 80]])"
      ]
     },
     "execution_count": 164,
     "metadata": {},
     "output_type": "execute_result"
    }
   ],
   "source": [
    "arr[3:5 ,[2,3]]"
   ]
  },
  {
   "cell_type": "code",
   "execution_count": 165,
   "id": "10c76ca5-7d23-4bcb-bdab-f9f469e2f6e6",
   "metadata": {},
   "outputs": [],
   "source": [
    "arr[0][0] = 5000"
   ]
  },
  {
   "cell_type": "code",
   "execution_count": 166,
   "id": "f88352d5-da24-4151-baba-e7660c884dc3",
   "metadata": {},
   "outputs": [],
   "source": [
    "arr1 = np.random.randint(1,3 ,(3,3))\n",
    "arr2 = np.random.randint(1,3 ,(3,3))"
   ]
  },
  {
   "cell_type": "code",
   "execution_count": 167,
   "id": "9d9179dd-0f5f-46d8-ad0e-31a31a466055",
   "metadata": {},
   "outputs": [
    {
     "data": {
      "text/plain": [
       "array([[2, 1, 1],\n",
       "       [1, 1, 1],\n",
       "       [2, 1, 1]])"
      ]
     },
     "execution_count": 167,
     "metadata": {},
     "output_type": "execute_result"
    }
   ],
   "source": [
    "arr1"
   ]
  },
  {
   "cell_type": "code",
   "execution_count": 168,
   "id": "951a6f1f-3a10-430c-b15f-b4f86e97e166",
   "metadata": {},
   "outputs": [
    {
     "data": {
      "text/plain": [
       "array([[1, 2, 2],\n",
       "       [1, 2, 2],\n",
       "       [1, 1, 2]])"
      ]
     },
     "execution_count": 168,
     "metadata": {},
     "output_type": "execute_result"
    }
   ],
   "source": [
    "arr2"
   ]
  },
  {
   "cell_type": "code",
   "execution_count": 171,
   "id": "18c903e9-99fe-4d62-a42f-01d0a8cd2c25",
   "metadata": {},
   "outputs": [
    {
     "data": {
      "text/plain": [
       "array([[3, 3, 3],\n",
       "       [2, 3, 3],\n",
       "       [3, 2, 3]])"
      ]
     },
     "execution_count": 171,
     "metadata": {},
     "output_type": "execute_result"
    }
   ],
   "source": [
    "arr1+arr2"
   ]
  },
  {
   "cell_type": "code",
   "execution_count": 172,
   "id": "0074f027-ee68-4cc5-9a8e-54077ed5b354",
   "metadata": {},
   "outputs": [
    {
     "data": {
      "text/plain": [
       "array([[2, 2, 2],\n",
       "       [1, 2, 2],\n",
       "       [2, 1, 2]])"
      ]
     },
     "execution_count": 172,
     "metadata": {},
     "output_type": "execute_result"
    }
   ],
   "source": [
    "arr1*arr2"
   ]
  },
  {
   "cell_type": "code",
   "execution_count": 175,
   "id": "6b10c68c-d17a-49ae-8b17-26a5a50cda90",
   "metadata": {},
   "outputs": [
    {
     "data": {
      "text/plain": [
       "array([[2, 1, 1],\n",
       "       [1, 1, 1],\n",
       "       [2, 1, 1]])"
      ]
     },
     "execution_count": 175,
     "metadata": {},
     "output_type": "execute_result"
    }
   ],
   "source": [
    "arr1"
   ]
  },
  {
   "cell_type": "code",
   "execution_count": 176,
   "id": "76f85a9c-2b64-4aff-bb0b-bf4997666a22",
   "metadata": {},
   "outputs": [
    {
     "data": {
      "text/plain": [
       "array([[1, 2, 2],\n",
       "       [1, 2, 2],\n",
       "       [1, 1, 2]])"
      ]
     },
     "execution_count": 176,
     "metadata": {},
     "output_type": "execute_result"
    }
   ],
   "source": [
    "arr2"
   ]
  },
  {
   "cell_type": "code",
   "execution_count": 177,
   "id": "7b444a3f-07a6-4cd1-9609-f5f1d64145f6",
   "metadata": {},
   "outputs": [
    {
     "name": "stderr",
     "output_type": "stream",
     "text": [
      "/tmp/ipykernel_165/1510032488.py:1: RuntimeWarning: divide by zero encountered in divide\n",
      "  arr1/0\n"
     ]
    },
    {
     "data": {
      "text/plain": [
       "array([[inf, inf, inf],\n",
       "       [inf, inf, inf],\n",
       "       [inf, inf, inf]])"
      ]
     },
     "execution_count": 177,
     "metadata": {},
     "output_type": "execute_result"
    }
   ],
   "source": [
    "arr1/0"
   ]
  },
  {
   "cell_type": "code",
   "execution_count": 179,
   "id": "6bf82b18-c1f1-4730-bebb-97548ace028b",
   "metadata": {},
   "outputs": [
    {
     "data": {
      "text/plain": [
       "array([[102, 101, 101],\n",
       "       [101, 101, 101],\n",
       "       [102, 101, 101]])"
      ]
     },
     "execution_count": 179,
     "metadata": {},
     "output_type": "execute_result"
    }
   ],
   "source": [
    "arr1 +100"
   ]
  },
  {
   "cell_type": "markdown",
   "id": "31e5229b-f19c-4e4a-bc9e-f4193f6317f1",
   "metadata": {},
   "source": []
  },
  {
   "cell_type": "code",
   "execution_count": 180,
   "id": "24488e0b-c9db-4b0d-9c55-3b6329a96827",
   "metadata": {},
   "outputs": [
    {
     "data": {
      "text/plain": [
       "array([[4, 1, 1],\n",
       "       [1, 1, 1],\n",
       "       [4, 1, 1]])"
      ]
     },
     "execution_count": 180,
     "metadata": {},
     "output_type": "execute_result"
    }
   ],
   "source": [
    "arr1**2"
   ]
  },
  {
   "cell_type": "code",
   "execution_count": 182,
   "id": "ffa5a777-5819-496c-8c77-1423b0fe27f3",
   "metadata": {},
   "outputs": [],
   "source": [
    "row = np.array([1,2,3,4,5])"
   ]
  },
  {
   "cell_type": "code",
   "execution_count": 183,
   "id": "e3b2b44f-dc4e-4125-ab8c-0cdc5a1d5d7d",
   "metadata": {},
   "outputs": [
    {
     "data": {
      "text/plain": [
       "array([1, 2, 3, 4, 5])"
      ]
     },
     "execution_count": 183,
     "metadata": {},
     "output_type": "execute_result"
    }
   ],
   "source": [
    "row"
   ]
  },
  {
   "cell_type": "code",
   "execution_count": 184,
   "id": "9b0b48ab-e336-4d0d-962c-24c7a8cde051",
   "metadata": {},
   "outputs": [
    {
     "data": {
      "text/plain": [
       "array([[5000,  162,  291,  340,  185],\n",
       "       [  90,  158,   12,  388,   45],\n",
       "       [  36,  102,  228,  392,   25],\n",
       "       [   5,  124,  162,  112,  210],\n",
       "       [  88,   78,  225,  320,  410]])"
      ]
     },
     "execution_count": 184,
     "metadata": {},
     "output_type": "execute_result"
    }
   ],
   "source": [
    "arr * row"
   ]
  },
  {
   "cell_type": "code",
   "execution_count": 185,
   "id": "8a2c15bf-d621-406b-888e-82c900c15526",
   "metadata": {},
   "outputs": [
    {
     "data": {
      "text/plain": [
       "array([1, 2, 3, 4, 5])"
      ]
     },
     "execution_count": 185,
     "metadata": {},
     "output_type": "execute_result"
    }
   ],
   "source": [
    "row.T"
   ]
  },
  {
   "cell_type": "code",
   "execution_count": 186,
   "id": "dffe8eda-f69b-4223-96c9-476997594558",
   "metadata": {},
   "outputs": [],
   "source": [
    "col = np.array([[1,2,3,4]])"
   ]
  },
  {
   "cell_type": "code",
   "execution_count": 193,
   "id": "9fed86b6-a6bd-4686-a6b0-5a231118d722",
   "metadata": {},
   "outputs": [
    {
     "data": {
      "text/plain": [
       "array([[1, 2, 3, 4]])"
      ]
     },
     "execution_count": 193,
     "metadata": {},
     "output_type": "execute_result"
    }
   ],
   "source": [
    "col"
   ]
  },
  {
   "cell_type": "code",
   "execution_count": 194,
   "id": "80b96ce2-fe32-468d-9e65-c6b8949c5022",
   "metadata": {},
   "outputs": [
    {
     "data": {
      "text/plain": [
       "array([[5000,   81,   97,   85,   37],\n",
       "       [  90,   79,    4,   97,    9],\n",
       "       [  36,   51,   76,   98,    5],\n",
       "       [   5,   62,   54,   28,   42],\n",
       "       [  88,   39,   75,   80,   82]])"
      ]
     },
     "execution_count": 194,
     "metadata": {},
     "output_type": "execute_result"
    }
   ],
   "source": [
    "arr"
   ]
  },
  {
   "cell_type": "code",
   "execution_count": 196,
   "id": "d708d8cf-e66f-425d-8ea7-07550820b6a1",
   "metadata": {},
   "outputs": [],
   "source": [
    "arr1 = np.random.randint(1,4 , (3,4))"
   ]
  },
  {
   "cell_type": "code",
   "execution_count": 197,
   "id": "cc59da29-f5a9-4f35-9e40-4eeb6cd1f4c6",
   "metadata": {},
   "outputs": [
    {
     "data": {
      "text/plain": [
       "array([[1.73205081, 1.        , 1.        , 1.41421356],\n",
       "       [1.73205081, 1.73205081, 1.41421356, 1.73205081],\n",
       "       [1.        , 1.        , 1.73205081, 1.41421356]])"
      ]
     },
     "execution_count": 197,
     "metadata": {},
     "output_type": "execute_result"
    }
   ],
   "source": [
    "np.sqrt(arr1)"
   ]
  },
  {
   "cell_type": "code",
   "execution_count": 198,
   "id": "d2c48d01-3c16-49fa-a851-2321dbc4b714",
   "metadata": {},
   "outputs": [
    {
     "data": {
      "text/plain": [
       "array([[20.08553692,  2.71828183,  2.71828183,  7.3890561 ],\n",
       "       [20.08553692, 20.08553692,  7.3890561 , 20.08553692],\n",
       "       [ 2.71828183,  2.71828183, 20.08553692,  7.3890561 ]])"
      ]
     },
     "execution_count": 198,
     "metadata": {},
     "output_type": "execute_result"
    }
   ],
   "source": [
    "np.exp(arr1)"
   ]
  },
  {
   "cell_type": "code",
   "execution_count": 199,
   "id": "f7c235a2-083f-4923-acbe-03789a569fee",
   "metadata": {},
   "outputs": [
    {
     "data": {
      "text/plain": [
       "array([[0.47712125, 0.        , 0.        , 0.30103   ],\n",
       "       [0.47712125, 0.47712125, 0.30103   , 0.47712125],\n",
       "       [0.        , 0.        , 0.47712125, 0.30103   ]])"
      ]
     },
     "execution_count": 199,
     "metadata": {},
     "output_type": "execute_result"
    }
   ],
   "source": [
    "np.log10(arr1)"
   ]
  },
  {
   "cell_type": "code",
   "execution_count": null,
   "id": "d139e584-e57c-4389-abed-f2563c7b8b93",
   "metadata": {},
   "outputs": [],
   "source": []
  }
 ],
 "metadata": {
  "kernelspec": {
   "display_name": "Python 3 (ipykernel)",
   "language": "python",
   "name": "python3"
  },
  "language_info": {
   "codemirror_mode": {
    "name": "ipython",
    "version": 3
   },
   "file_extension": ".py",
   "mimetype": "text/x-python",
   "name": "python",
   "nbconvert_exporter": "python",
   "pygments_lexer": "ipython3",
   "version": "3.10.8"
  }
 },
 "nbformat": 4,
 "nbformat_minor": 5
}
