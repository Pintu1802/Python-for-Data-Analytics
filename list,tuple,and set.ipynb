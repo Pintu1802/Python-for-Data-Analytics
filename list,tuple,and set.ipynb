{
 "cells": [
  {
   "cell_type": "markdown",
   "id": "be623be0-2df9-4944-b167-12eb3c4e4564",
   "metadata": {},
   "source": [
    "l=[23,345,566,\"pintu\", True, 4+6j,354.56]"
   ]
  },
  {
   "cell_type": "code",
   "execution_count": 7,
   "id": "19699280-95d9-43ba-b9af-d4ecb2a470bc",
   "metadata": {},
   "outputs": [
    {
     "data": {
      "text/plain": [
       "list"
      ]
     },
     "execution_count": 7,
     "metadata": {},
     "output_type": "execute_result"
    }
   ],
   "source": [
    "type(l)"
   ]
  },
  {
   "cell_type": "code",
   "execution_count": 8,
   "id": "4ba85ffb-0fb0-478f-b3c5-eb820855e95c",
   "metadata": {},
   "outputs": [
    {
     "data": {
      "text/plain": [
       "str"
      ]
     },
     "execution_count": 8,
     "metadata": {},
     "output_type": "execute_result"
    }
   ],
   "source": [
    "type(l[3])"
   ]
  },
  {
   "cell_type": "code",
   "execution_count": 4,
   "id": "51cf566b-9561-4c6d-849d-72a7da06c5c5",
   "metadata": {},
   "outputs": [
    {
     "data": {
      "text/plain": [
       "'pintu'"
      ]
     },
     "execution_count": 4,
     "metadata": {},
     "output_type": "execute_result"
    }
   ],
   "source": [
    "l[3]"
   ]
  },
  {
   "cell_type": "code",
   "execution_count": null,
   "id": "00ab3a85-4285-4830-8eb6-11880473f8a5",
   "metadata": {},
   "outputs": [],
   "source": [
    "l[5]"
   ]
  },
  {
   "cell_type": "code",
   "execution_count": null,
   "id": "d65ad965-2b1b-47cb-b2eb-541c6f89da1d",
   "metadata": {},
   "outputs": [],
   "source": [
    "type(l[4])"
   ]
  },
  {
   "cell_type": "code",
   "execution_count": 7,
   "id": "701bf6b8-9946-46da-843d-2abbc3a0916a",
   "metadata": {},
   "outputs": [
    {
     "data": {
      "text/plain": [
       "'pintu'"
      ]
     },
     "execution_count": 7,
     "metadata": {},
     "output_type": "execute_result"
    }
   ],
   "source": [
    "l[3]"
   ]
  },
  {
   "cell_type": "code",
   "execution_count": 10,
   "id": "1a294f57-db69-4859-884e-3a1f87860b0b",
   "metadata": {},
   "outputs": [
    {
     "data": {
      "text/plain": [
       "str"
      ]
     },
     "execution_count": 10,
     "metadata": {},
     "output_type": "execute_result"
    }
   ],
   "source": [
    "type(l[3])"
   ]
  },
  {
   "cell_type": "code",
   "execution_count": 9,
   "id": "ef0c27fb-c469-48a4-baba-45c32a322b42",
   "metadata": {},
   "outputs": [
    {
     "data": {
      "text/plain": [
       "complex"
      ]
     },
     "execution_count": 9,
     "metadata": {},
     "output_type": "execute_result"
    }
   ],
   "source": [
    "type(l[5])"
   ]
  },
  {
   "cell_type": "code",
   "execution_count": 11,
   "id": "9bd3629d-6104-49f7-aed6-8ab2bb05956a",
   "metadata": {},
   "outputs": [
    {
     "data": {
      "text/plain": [
       "(4+6j)"
      ]
     },
     "execution_count": 11,
     "metadata": {},
     "output_type": "execute_result"
    }
   ],
   "source": [
    "l[5]"
   ]
  },
  {
   "cell_type": "code",
   "execution_count": 5,
   "id": "8f40ebcd-8c8f-414d-927a-bb58ff97b754",
   "metadata": {},
   "outputs": [
    {
     "data": {
      "text/plain": [
       "[23, 345, 566, 'pintu', True, (4+6j), 354.56]"
      ]
     },
     "execution_count": 5,
     "metadata": {},
     "output_type": "execute_result"
    }
   ],
   "source": [
    "l"
   ]
  },
  {
   "cell_type": "code",
   "execution_count": 12,
   "id": "aa71d380-4977-43e2-b0be-1641c75b602e",
   "metadata": {},
   "outputs": [
    {
     "data": {
      "text/plain": [
       "[23, 345, 566, 'pintu', True]"
      ]
     },
     "execution_count": 12,
     "metadata": {},
     "output_type": "execute_result"
    }
   ],
   "source": [
    "l[0:5]"
   ]
  },
  {
   "cell_type": "code",
   "execution_count": 13,
   "id": "112a30e5-63d4-49f8-af25-9c2719f9dedd",
   "metadata": {},
   "outputs": [
    {
     "data": {
      "text/plain": [
       "[345, 566]"
      ]
     },
     "execution_count": 13,
     "metadata": {},
     "output_type": "execute_result"
    }
   ],
   "source": [
    "l[1:3]"
   ]
  },
  {
   "cell_type": "code",
   "execution_count": 12,
   "id": "fc54b8d1-20b5-4484-b8fa-e9eed54b5a38",
   "metadata": {},
   "outputs": [
    {
     "data": {
      "text/plain": [
       "354.56"
      ]
     },
     "execution_count": 12,
     "metadata": {},
     "output_type": "execute_result"
    }
   ],
   "source": [
    "l[-1]"
   ]
  },
  {
   "cell_type": "code",
   "execution_count": 15,
   "id": "47ce8a4f-beea-4909-a9b6-d2fe4d522dbb",
   "metadata": {},
   "outputs": [
    {
     "data": {
      "text/plain": [
       "[354.56, True, 566, 23]"
      ]
     },
     "execution_count": 15,
     "metadata": {},
     "output_type": "execute_result"
    }
   ],
   "source": [
    "l[::-2]"
   ]
  },
  {
   "cell_type": "code",
   "execution_count": 6,
   "id": "619dc205-c57e-48e9-84db-655f9bcbef88",
   "metadata": {},
   "outputs": [
    {
     "data": {
      "text/plain": [
       "[23, 345, 566, 'pintu', True, (4+6j), 354.56]"
      ]
     },
     "execution_count": 6,
     "metadata": {},
     "output_type": "execute_result"
    }
   ],
   "source": [
    "l"
   ]
  },
  {
   "cell_type": "code",
   "execution_count": 7,
   "id": "69a40539-f92c-4229-a6ed-41a0e0e0e546",
   "metadata": {},
   "outputs": [
    {
     "data": {
      "text/plain": [
       "[354.56, (4+6j), True, 'pintu', 566, 345, 23]"
      ]
     },
     "execution_count": 7,
     "metadata": {},
     "output_type": "execute_result"
    }
   ],
   "source": [
    "l[::-1]"
   ]
  },
  {
   "cell_type": "code",
   "execution_count": 8,
   "id": "f488b43c-fb73-431f-bd6c-042eac45ed3f",
   "metadata": {},
   "outputs": [
    {
     "data": {
      "text/plain": [
       "[23, 566, True, 354.56]"
      ]
     },
     "execution_count": 8,
     "metadata": {},
     "output_type": "execute_result"
    }
   ],
   "source": [
    "l[::2]"
   ]
  },
  {
   "cell_type": "code",
   "execution_count": 6,
   "id": "55e16f04-7563-4c9f-8c5a-49ec898ddc8a",
   "metadata": {},
   "outputs": [],
   "source": [
    "s=\"pwskills\""
   ]
  },
  {
   "cell_type": "code",
   "execution_count": 7,
   "id": "9db108ac-d738-408d-b562-eb257c5f45ea",
   "metadata": {},
   "outputs": [
    {
     "data": {
      "text/plain": [
       "str"
      ]
     },
     "execution_count": 7,
     "metadata": {},
     "output_type": "execute_result"
    }
   ],
   "source": [
    "type(s)"
   ]
  },
  {
   "cell_type": "code",
   "execution_count": 15,
   "id": "54ed23e1-7e1a-4d72-81cd-075445367f86",
   "metadata": {},
   "outputs": [
    {
     "ename": "TypeError",
     "evalue": "can only concatenate list (not \"str\") to list",
     "output_type": "error",
     "traceback": [
      "\u001b[0;31m---------------------------------------------------------------------------\u001b[0m",
      "\u001b[0;31mTypeError\u001b[0m                                 Traceback (most recent call last)",
      "Cell \u001b[0;32mIn [15], line 1\u001b[0m\n\u001b[0;32m----> 1\u001b[0m \u001b[43ml\u001b[49m\u001b[38;5;241;43m+\u001b[39;49m\u001b[43ms\u001b[49m\n",
      "\u001b[0;31mTypeError\u001b[0m: can only concatenate list (not \"str\") to list"
     ]
    }
   ],
   "source": [
    "l+s"
   ]
  },
  {
   "cell_type": "code",
   "execution_count": 16,
   "id": "d8fbb612-b030-4f92-933f-67920f491acb",
   "metadata": {},
   "outputs": [
    {
     "data": {
      "text/plain": [
       "['p', 'w', 's', 'k', 'i', 'l', 'l', 's']"
      ]
     },
     "execution_count": 16,
     "metadata": {},
     "output_type": "execute_result"
    }
   ],
   "source": [
    "list(s)"
   ]
  },
  {
   "cell_type": "code",
   "execution_count": 11,
   "id": "1820f896-849f-4a72-b823-0ac87614b642",
   "metadata": {},
   "outputs": [
    {
     "data": {
      "text/plain": [
       "['p',\n",
       " 'w',\n",
       " 's',\n",
       " 'k',\n",
       " 'i',\n",
       " 'l',\n",
       " 'l',\n",
       " 's',\n",
       " 23,\n",
       " 345,\n",
       " 566,\n",
       " 'pintu',\n",
       " True,\n",
       " (4+6j),\n",
       " 354.56]"
      ]
     },
     "execution_count": 11,
     "metadata": {},
     "output_type": "execute_result"
    }
   ],
   "source": [
    "list(s)+l"
   ]
  },
  {
   "cell_type": "code",
   "execution_count": 17,
   "id": "57f5f523-b25e-4575-a46a-2e8c1ae95599",
   "metadata": {},
   "outputs": [
    {
     "data": {
      "text/plain": [
       "['p',\n",
       " 'w',\n",
       " 's',\n",
       " 'k',\n",
       " 'i',\n",
       " 'l',\n",
       " 'l',\n",
       " 's',\n",
       " 23,\n",
       " 345,\n",
       " 566,\n",
       " 'pintu',\n",
       " True,\n",
       " (4+6j),\n",
       " 354.56]"
      ]
     },
     "execution_count": 17,
     "metadata": {},
     "output_type": "execute_result"
    }
   ],
   "source": [
    "list(s) + l"
   ]
  },
  {
   "cell_type": "code",
   "execution_count": 24,
   "id": "02c6974f-56ea-4dc2-bb53-49ca414742d1",
   "metadata": {},
   "outputs": [
    {
     "data": {
      "text/plain": [
       "[23, 345, 566, 'pintu', True, (4+6j), 354.56]"
      ]
     },
     "execution_count": 24,
     "metadata": {},
     "output_type": "execute_result"
    }
   ],
   "source": [
    "l"
   ]
  },
  {
   "cell_type": "code",
   "execution_count": 25,
   "id": "f7f82826-3478-45c0-a72a-722878b39a18",
   "metadata": {},
   "outputs": [
    {
     "data": {
      "text/plain": [
       "'pin'"
      ]
     },
     "execution_count": 25,
     "metadata": {},
     "output_type": "execute_result"
    }
   ],
   "source": [
    "l[3][0:3]"
   ]
  },
  {
   "cell_type": "code",
   "execution_count": 26,
   "id": "f1dfb2bb-a2c3-4fee-8057-54e6ead82ec2",
   "metadata": {},
   "outputs": [
    {
     "data": {
      "text/plain": [
       "'Tr'"
      ]
     },
     "execution_count": 26,
     "metadata": {},
     "output_type": "execute_result"
    }
   ],
   "source": [
    "str(l[4])[0:2]"
   ]
  },
  {
   "cell_type": "code",
   "execution_count": 22,
   "id": "8abf4723-4188-4e1b-aa3c-6a06592cbf9c",
   "metadata": {},
   "outputs": [],
   "source": [
    "l1= [1,2,3]"
   ]
  },
  {
   "cell_type": "code",
   "execution_count": 27,
   "id": "4fe37785-32f9-4018-8058-8d90e933a4f9",
   "metadata": {},
   "outputs": [
    {
     "data": {
      "text/plain": [
       "[1, 2, 3, 23, 345, 566, 'pintu', True, (4+6j), 354.56, 5, 5, 'pwskills']"
      ]
     },
     "execution_count": 27,
     "metadata": {},
     "output_type": "execute_result"
    }
   ],
   "source": [
    "l1+l"
   ]
  },
  {
   "cell_type": "code",
   "execution_count": 28,
   "id": "d5816b6d-a341-4079-9b52-f12cf4d0502f",
   "metadata": {},
   "outputs": [
    {
     "data": {
      "text/plain": [
       "[1, 2, 3, 1, 2, 3, 1, 2, 3]"
      ]
     },
     "execution_count": 28,
     "metadata": {},
     "output_type": "execute_result"
    }
   ],
   "source": [
    "l1 * 3"
   ]
  },
  {
   "cell_type": "code",
   "execution_count": 29,
   "id": "f7f91e6b-f4f3-43fb-ae0e-4c770922b89e",
   "metadata": {},
   "outputs": [
    {
     "data": {
      "text/plain": [
       "[23, 345, 566, 'pintu', True, (4+6j), 354.56, 5, 5, 'pwskills']"
      ]
     },
     "execution_count": 29,
     "metadata": {},
     "output_type": "execute_result"
    }
   ],
   "source": [
    "\n",
    "l"
   ]
  },
  {
   "cell_type": "code",
   "execution_count": 30,
   "id": "1dde42c9-6de2-4491-aefd-5ac64f39f8d7",
   "metadata": {},
   "outputs": [
    {
     "data": {
      "text/plain": [
       "10"
      ]
     },
     "execution_count": 30,
     "metadata": {},
     "output_type": "execute_result"
    }
   ],
   "source": [
    "len(l)"
   ]
  },
  {
   "cell_type": "code",
   "execution_count": 31,
   "id": "29083dca-cb33-46d5-b6a2-418009cbf78b",
   "metadata": {},
   "outputs": [
    {
     "data": {
      "text/plain": [
       "[23, 345, 566, 'pintu', True, (4+6j), 354.56, 5, 5, 'pwskills']"
      ]
     },
     "execution_count": 31,
     "metadata": {},
     "output_type": "execute_result"
    }
   ],
   "source": [
    "l"
   ]
  },
  {
   "cell_type": "code",
   "execution_count": 14,
   "id": "60baf2e9-3196-4b06-af86-2b09eaaea26c",
   "metadata": {},
   "outputs": [],
   "source": [
    "l.append(5)"
   ]
  },
  {
   "cell_type": "code",
   "execution_count": 15,
   "id": "cd9803b3-1552-4f87-a56a-750dac5000ac",
   "metadata": {},
   "outputs": [],
   "source": [
    "l.append(5)"
   ]
  },
  {
   "cell_type": "code",
   "execution_count": 16,
   "id": "f4148e87-63f8-48bf-9689-2b83584ad695",
   "metadata": {},
   "outputs": [
    {
     "data": {
      "text/plain": [
       "[23, 345, 566, 'pintu', True, (4+6j), 354.56, 5, 5]"
      ]
     },
     "execution_count": 16,
     "metadata": {},
     "output_type": "execute_result"
    }
   ],
   "source": [
    "l"
   ]
  },
  {
   "cell_type": "code",
   "execution_count": 17,
   "id": "5a81defc-00a2-47eb-95dd-984ebbb2eaa3",
   "metadata": {},
   "outputs": [],
   "source": [
    "l.append(s)"
   ]
  },
  {
   "cell_type": "code",
   "execution_count": 18,
   "id": "1bd7f178-a9a0-4f06-9fff-12266701e8a8",
   "metadata": {},
   "outputs": [
    {
     "data": {
      "text/plain": [
       "'pwskills'"
      ]
     },
     "execution_count": 18,
     "metadata": {},
     "output_type": "execute_result"
    }
   ],
   "source": [
    "s"
   ]
  },
  {
   "cell_type": "code",
   "execution_count": 19,
   "id": "37954f8e-2ccd-4b96-92ed-f0d3a9bbef46",
   "metadata": {},
   "outputs": [
    {
     "data": {
      "text/plain": [
       "[23, 345, 566, 'pintu', True, (4+6j), 354.56, 5, 5, 'pwskills']"
      ]
     },
     "execution_count": 19,
     "metadata": {},
     "output_type": "execute_result"
    }
   ],
   "source": [
    "l"
   ]
  },
  {
   "cell_type": "code",
   "execution_count": 21,
   "id": "347647fb-29dd-4bb6-8b64-99f6d7e176b3",
   "metadata": {},
   "outputs": [
    {
     "ename": "NameError",
     "evalue": "name 'l1' is not defined",
     "output_type": "error",
     "traceback": [
      "\u001b[0;31m---------------------------------------------------------------------------\u001b[0m",
      "\u001b[0;31mNameError\u001b[0m                                 Traceback (most recent call last)",
      "Cell \u001b[0;32mIn [21], line 1\u001b[0m\n\u001b[0;32m----> 1\u001b[0m \u001b[43ml1\u001b[49m\u001b[38;5;241m+\u001b[39ml\n",
      "\u001b[0;31mNameError\u001b[0m: name 'l1' is not defined"
     ]
    }
   ],
   "source": [
    "l1+l"
   ]
  },
  {
   "cell_type": "code",
   "execution_count": 8,
   "id": "a9beb9ba-eb8a-44a8-a4bd-bb3fd8837426",
   "metadata": {},
   "outputs": [],
   "source": [
    "p=\"pintugupta\""
   ]
  },
  {
   "cell_type": "code",
   "execution_count": 9,
   "id": "d558ab61-7bbd-469b-9075-19930529ea05",
   "metadata": {},
   "outputs": [
    {
     "data": {
      "text/plain": [
       "[23, 345, 566, 'pintu', True, (4+6j), 354.56]"
      ]
     },
     "execution_count": 9,
     "metadata": {},
     "output_type": "execute_result"
    }
   ],
   "source": [
    "l"
   ]
  },
  {
   "cell_type": "code",
   "execution_count": 10,
   "id": "9e2bd042-bda9-4326-be7e-c9be78755401",
   "metadata": {},
   "outputs": [],
   "source": [
    "l.append(p)"
   ]
  },
  {
   "cell_type": "code",
   "execution_count": 11,
   "id": "16387f29-bf14-4c2b-ba04-269c5bd65ea5",
   "metadata": {},
   "outputs": [
    {
     "data": {
      "text/plain": [
       "'pintugupta'"
      ]
     },
     "execution_count": 11,
     "metadata": {},
     "output_type": "execute_result"
    }
   ],
   "source": [
    "p"
   ]
  },
  {
   "cell_type": "code",
   "execution_count": 62,
   "id": "bfac82e6-8976-4df4-b473-04d7b037a812",
   "metadata": {},
   "outputs": [
    {
     "data": {
      "text/plain": [
       "[23,\n",
       " 345,\n",
       " 566,\n",
       " 'pintu',\n",
       " True,\n",
       " (4+6j),\n",
       " 354.56,\n",
       " 5,\n",
       " 5,\n",
       " 'pwskills',\n",
       " 'pintugupta',\n",
       " [1, 2, 3]]"
      ]
     },
     "execution_count": 62,
     "metadata": {},
     "output_type": "execute_result"
    }
   ],
   "source": [
    "l"
   ]
  },
  {
   "cell_type": "code",
   "execution_count": 27,
   "id": "cd6edb7b-535d-473c-9c0b-02f27c0f4524",
   "metadata": {},
   "outputs": [],
   "source": [
    "l.append(l1)"
   ]
  },
  {
   "cell_type": "code",
   "execution_count": 28,
   "id": "126146ca-df43-40e2-82ae-f36d712e694f",
   "metadata": {},
   "outputs": [
    {
     "data": {
      "text/plain": [
       "3"
      ]
     },
     "execution_count": 28,
     "metadata": {},
     "output_type": "execute_result"
    }
   ],
   "source": [
    "l[-1][-1]"
   ]
  },
  {
   "cell_type": "code",
   "execution_count": 29,
   "id": "0d518abd-a150-4425-83c4-e4fe2fd55019",
   "metadata": {},
   "outputs": [
    {
     "data": {
      "text/plain": [
       "'gupta'"
      ]
     },
     "execution_count": 29,
     "metadata": {},
     "output_type": "execute_result"
    }
   ],
   "source": [
    "l[-2][-5:]"
   ]
  },
  {
   "cell_type": "code",
   "execution_count": 30,
   "id": "a22320fd-89b6-457f-b7c3-b59d48a51750",
   "metadata": {},
   "outputs": [
    {
     "data": {
      "text/plain": [
       "[23, 345, 566, 'pintu', True, (4+6j), 354.56, 'pintugupta', [1, 2, 3]]"
      ]
     },
     "execution_count": 30,
     "metadata": {},
     "output_type": "execute_result"
    }
   ],
   "source": [
    "l"
   ]
  },
  {
   "cell_type": "code",
   "execution_count": 31,
   "id": "d52d4bbe-3a91-4398-9668-91fa66cefab9",
   "metadata": {},
   "outputs": [
    {
     "ename": "TypeError",
     "evalue": "'int' object is not iterable",
     "output_type": "error",
     "traceback": [
      "\u001b[0;31m---------------------------------------------------------------------------\u001b[0m",
      "\u001b[0;31mTypeError\u001b[0m                                 Traceback (most recent call last)",
      "Cell \u001b[0;32mIn [31], line 1\u001b[0m\n\u001b[0;32m----> 1\u001b[0m \u001b[43ml\u001b[49m\u001b[38;5;241;43m.\u001b[39;49m\u001b[43mextend\u001b[49m\u001b[43m(\u001b[49m\u001b[38;5;241;43m4\u001b[39;49m\u001b[43m)\u001b[49m\n",
      "\u001b[0;31mTypeError\u001b[0m: 'int' object is not iterable"
     ]
    }
   ],
   "source": [
    "l.extend(4)"
   ]
  },
  {
   "cell_type": "code",
   "execution_count": 32,
   "id": "d4a2a882-d6f9-4a9f-9949-a3a655e37de9",
   "metadata": {},
   "outputs": [],
   "source": [
    "l.extend('pintu')"
   ]
  },
  {
   "cell_type": "code",
   "execution_count": 33,
   "id": "5d5980ab-04ac-4edf-a1e0-292e58ca153c",
   "metadata": {},
   "outputs": [
    {
     "data": {
      "text/plain": [
       "[23,\n",
       " 345,\n",
       " 566,\n",
       " 'pintu',\n",
       " True,\n",
       " (4+6j),\n",
       " 354.56,\n",
       " 'pintugupta',\n",
       " [1, 2, 3],\n",
       " 'p',\n",
       " 'i',\n",
       " 'n',\n",
       " 't',\n",
       " 'u']"
      ]
     },
     "execution_count": 33,
     "metadata": {},
     "output_type": "execute_result"
    }
   ],
   "source": [
    "l"
   ]
  },
  {
   "cell_type": "code",
   "execution_count": 34,
   "id": "32b75d5b-1ced-467c-b511-fafebd404235",
   "metadata": {},
   "outputs": [],
   "source": [
    "l.extend([1,2,3])"
   ]
  },
  {
   "cell_type": "code",
   "execution_count": 35,
   "id": "5e3828b1-4c04-4f4e-b5b4-50b168f384ce",
   "metadata": {},
   "outputs": [
    {
     "data": {
      "text/plain": [
       "[23,\n",
       " 345,\n",
       " 566,\n",
       " 'pintu',\n",
       " True,\n",
       " (4+6j),\n",
       " 354.56,\n",
       " 'pintugupta',\n",
       " [1, 2, 3],\n",
       " 'p',\n",
       " 'i',\n",
       " 'n',\n",
       " 't',\n",
       " 'u',\n",
       " 1,\n",
       " 2,\n",
       " 3]"
      ]
     },
     "execution_count": 35,
     "metadata": {},
     "output_type": "execute_result"
    }
   ],
   "source": [
    "l"
   ]
  },
  {
   "cell_type": "code",
   "execution_count": 66,
   "id": "a29d9f59-3313-43c2-98e3-3341d4edb6c7",
   "metadata": {},
   "outputs": [
    {
     "data": {
      "text/plain": [
       "[1]"
      ]
     },
     "execution_count": 66,
     "metadata": {},
     "output_type": "execute_result"
    }
   ],
   "source": [
    "l1"
   ]
  },
  {
   "cell_type": "code",
   "execution_count": 37,
   "id": "ecd70496-8122-4281-84f2-d9aa2af19c39",
   "metadata": {},
   "outputs": [],
   "source": [
    "l1.insert(2,\"pintu\")"
   ]
  },
  {
   "cell_type": "code",
   "execution_count": 38,
   "id": "cc5afcbc-372f-4c7a-b7c8-64ecf2af6d90",
   "metadata": {},
   "outputs": [
    {
     "data": {
      "text/plain": [
       "[1, 2, 'pintu', 3]"
      ]
     },
     "execution_count": 38,
     "metadata": {},
     "output_type": "execute_result"
    }
   ],
   "source": [
    "l1"
   ]
  },
  {
   "cell_type": "code",
   "execution_count": 39,
   "id": "783449a6-0244-48f3-a82c-2b5d4320e034",
   "metadata": {},
   "outputs": [],
   "source": [
    "l1.insert(-2,35)"
   ]
  },
  {
   "cell_type": "code",
   "execution_count": 64,
   "id": "a40ca196-e14a-4f95-8485-e0acc0510e67",
   "metadata": {},
   "outputs": [
    {
     "data": {
      "text/plain": [
       "[1, 2]"
      ]
     },
     "execution_count": 64,
     "metadata": {},
     "output_type": "execute_result"
    }
   ],
   "source": [
    "l1"
   ]
  },
  {
   "cell_type": "code",
   "execution_count": 65,
   "id": "f13ab961-e149-4c8b-85bb-65a11dae651e",
   "metadata": {},
   "outputs": [
    {
     "data": {
      "text/plain": [
       "2"
      ]
     },
     "execution_count": 65,
     "metadata": {},
     "output_type": "execute_result"
    }
   ],
   "source": [
    "l1.pop()"
   ]
  },
  {
   "cell_type": "code",
   "execution_count": 42,
   "id": "a09c6365-add7-42bc-9a02-b68564ddb991",
   "metadata": {},
   "outputs": [
    {
     "data": {
      "text/plain": [
       "[1, 2, 35, 'pintu']"
      ]
     },
     "execution_count": 42,
     "metadata": {},
     "output_type": "execute_result"
    }
   ],
   "source": [
    "l1"
   ]
  },
  {
   "cell_type": "code",
   "execution_count": 43,
   "id": "fe446783-092d-47cc-9a2c-27afc17d13ad",
   "metadata": {},
   "outputs": [
    {
     "data": {
      "text/plain": [
       "'pintu'"
      ]
     },
     "execution_count": 43,
     "metadata": {},
     "output_type": "execute_result"
    }
   ],
   "source": [
    "l1.pop()"
   ]
  },
  {
   "cell_type": "code",
   "execution_count": 44,
   "id": "ceed87d7-c22d-449e-80fc-c88ebbda14f5",
   "metadata": {},
   "outputs": [
    {
     "data": {
      "text/plain": [
       "[1, 2, 35]"
      ]
     },
     "execution_count": 44,
     "metadata": {},
     "output_type": "execute_result"
    }
   ],
   "source": [
    "l1"
   ]
  },
  {
   "cell_type": "code",
   "execution_count": 46,
   "id": "d234d71a-1a72-4787-a9ad-4e9599d0b359",
   "metadata": {},
   "outputs": [
    {
     "data": {
      "text/plain": [
       "35"
      ]
     },
     "execution_count": 46,
     "metadata": {},
     "output_type": "execute_result"
    }
   ],
   "source": [
    "l1.pop(2)"
   ]
  },
  {
   "cell_type": "code",
   "execution_count": 47,
   "id": "4548d24a-9d64-4e6d-abf3-0e48f732ee45",
   "metadata": {},
   "outputs": [
    {
     "data": {
      "text/plain": [
       "[1, 2]"
      ]
     },
     "execution_count": 47,
     "metadata": {},
     "output_type": "execute_result"
    }
   ],
   "source": [
    "l1"
   ]
  },
  {
   "cell_type": "code",
   "execution_count": 12,
   "id": "6efd1e5b-a6f8-45fe-a3b4-4238e11dddc4",
   "metadata": {},
   "outputs": [],
   "source": [
    "f=[2,3,4,5,6,7,\"pintu\",\"pwskills\"]"
   ]
  },
  {
   "cell_type": "code",
   "execution_count": 13,
   "id": "8d86f576-d7b7-48a3-8e9e-cc43319640ca",
   "metadata": {},
   "outputs": [
    {
     "data": {
      "text/plain": [
       "list"
      ]
     },
     "execution_count": 13,
     "metadata": {},
     "output_type": "execute_result"
    }
   ],
   "source": [
    "type(f)"
   ]
  },
  {
   "cell_type": "code",
   "execution_count": 14,
   "id": "86d0d957-5fe8-4b31-937b-20d2478d66c7",
   "metadata": {},
   "outputs": [
    {
     "data": {
      "text/plain": [
       "[2, 3, 4, 5, 6, 7, 'pintu', 'pwskills']"
      ]
     },
     "execution_count": 14,
     "metadata": {},
     "output_type": "execute_result"
    }
   ],
   "source": [
    "f"
   ]
  },
  {
   "cell_type": "code",
   "execution_count": 35,
   "id": "57c3fbd8-275e-4d2e-be6a-2e534e25c43b",
   "metadata": {},
   "outputs": [
    {
     "data": {
      "text/plain": [
       "'pwskills'"
      ]
     },
     "execution_count": 35,
     "metadata": {},
     "output_type": "execute_result"
    }
   ],
   "source": [
    "f.pop()"
   ]
  },
  {
   "cell_type": "code",
   "execution_count": 7,
   "id": "e62b4021-eeef-46d4-a63a-a1a0b8140c40",
   "metadata": {},
   "outputs": [
    {
     "data": {
      "text/plain": [
       "[2, 3, 4, 5, 6, 7, 'pintu']"
      ]
     },
     "execution_count": 7,
     "metadata": {},
     "output_type": "execute_result"
    }
   ],
   "source": [
    "f"
   ]
  },
  {
   "cell_type": "code",
   "execution_count": 8,
   "id": "d144d367-86fe-4c9a-abce-7fca33d996fc",
   "metadata": {},
   "outputs": [
    {
     "data": {
      "text/plain": [
       "4"
      ]
     },
     "execution_count": 8,
     "metadata": {},
     "output_type": "execute_result"
    }
   ],
   "source": [
    "f.pop(2)"
   ]
  },
  {
   "cell_type": "code",
   "execution_count": 9,
   "id": "31a4c8c2-9b2c-4b81-96cf-48ff0d929713",
   "metadata": {},
   "outputs": [
    {
     "data": {
      "text/plain": [
       "[2, 3, 5, 6, 7, 'pintu']"
      ]
     },
     "execution_count": 9,
     "metadata": {},
     "output_type": "execute_result"
    }
   ],
   "source": [
    "f"
   ]
  },
  {
   "cell_type": "code",
   "execution_count": 10,
   "id": "4e3957b4-cef9-49aa-b873-320550b63540",
   "metadata": {},
   "outputs": [],
   "source": [
    "f.remove(5)"
   ]
  },
  {
   "cell_type": "code",
   "execution_count": 11,
   "id": "2f8e1ac2-de53-4fbc-9858-6321533a2f38",
   "metadata": {},
   "outputs": [
    {
     "data": {
      "text/plain": [
       "[2, 3, 6, 7, 'pintu']"
      ]
     },
     "execution_count": 11,
     "metadata": {},
     "output_type": "execute_result"
    }
   ],
   "source": [
    "f"
   ]
  },
  {
   "cell_type": "code",
   "execution_count": 19,
   "id": "49f304e0-9bf8-4dc1-b959-1451dc375be9",
   "metadata": {},
   "outputs": [
    {
     "data": {
      "text/plain": [
       "[2, 3, 6, 7, 'pintu']"
      ]
     },
     "execution_count": 19,
     "metadata": {},
     "output_type": "execute_result"
    }
   ],
   "source": [
    "f"
   ]
  },
  {
   "cell_type": "code",
   "execution_count": 22,
   "id": "d87854da-d84d-4e14-ae30-68ec52e918af",
   "metadata": {},
   "outputs": [],
   "source": [
    "p=[1,2,3,4,5,[6,7,8],9]"
   ]
  },
  {
   "cell_type": "code",
   "execution_count": 23,
   "id": "641e38c9-fcf9-488a-b286-871629e18489",
   "metadata": {},
   "outputs": [],
   "source": [
    "p[5].remove(8)"
   ]
  },
  {
   "cell_type": "code",
   "execution_count": 24,
   "id": "2965c7a1-feb9-421b-bbbf-9403b801b2ed",
   "metadata": {},
   "outputs": [
    {
     "data": {
      "text/plain": [
       "[1, 2, 3, 4, 5, [6, 7], 9]"
      ]
     },
     "execution_count": 24,
     "metadata": {},
     "output_type": "execute_result"
    }
   ],
   "source": [
    "p"
   ]
  },
  {
   "cell_type": "code",
   "execution_count": 25,
   "id": "74fc54c8-2659-41ca-ab9f-cfa3184f37dd",
   "metadata": {},
   "outputs": [
    {
     "data": {
      "text/plain": [
       "[9, [6, 7], 5, 4, 3, 2, 1]"
      ]
     },
     "execution_count": 25,
     "metadata": {},
     "output_type": "execute_result"
    }
   ],
   "source": [
    "p[::-1]"
   ]
  },
  {
   "cell_type": "code",
   "execution_count": 26,
   "id": "b5769f43-69bf-47ac-9e98-144dff793553",
   "metadata": {},
   "outputs": [],
   "source": [
    "p.reverse()"
   ]
  },
  {
   "cell_type": "code",
   "execution_count": 27,
   "id": "3581b2c1-5c3b-44f4-8ae9-b955c78ca42e",
   "metadata": {},
   "outputs": [
    {
     "data": {
      "text/plain": [
       "[9, [6, 7], 5, 4, 3, 2, 1]"
      ]
     },
     "execution_count": 27,
     "metadata": {},
     "output_type": "execute_result"
    }
   ],
   "source": [
    "p"
   ]
  },
  {
   "cell_type": "code",
   "execution_count": 28,
   "id": "354a85ca-449f-425d-ab88-bc82fa5c8868",
   "metadata": {},
   "outputs": [
    {
     "ename": "TypeError",
     "evalue": "'<' not supported between instances of 'list' and 'int'",
     "output_type": "error",
     "traceback": [
      "\u001b[0;31m---------------------------------------------------------------------------\u001b[0m",
      "\u001b[0;31mTypeError\u001b[0m                                 Traceback (most recent call last)",
      "Cell \u001b[0;32mIn [28], line 1\u001b[0m\n\u001b[0;32m----> 1\u001b[0m \u001b[43mp\u001b[49m\u001b[38;5;241;43m.\u001b[39;49m\u001b[43msort\u001b[49m\u001b[43m(\u001b[49m\u001b[43m)\u001b[49m\n",
      "\u001b[0;31mTypeError\u001b[0m: '<' not supported between instances of 'list' and 'int'"
     ]
    }
   ],
   "source": [
    "p.sort()"
   ]
  },
  {
   "cell_type": "code",
   "execution_count": 29,
   "id": "1140e419-ea56-4ba0-805c-417040869a45",
   "metadata": {},
   "outputs": [],
   "source": [
    "l2=[1,3,2,0,5,6,8,9,4,20]"
   ]
  },
  {
   "cell_type": "code",
   "execution_count": 31,
   "id": "28074928-728e-45c6-bad0-1b6d8f857a9b",
   "metadata": {},
   "outputs": [],
   "source": [
    "l2.sort()"
   ]
  },
  {
   "cell_type": "code",
   "execution_count": 32,
   "id": "4cc36866-02b7-49c8-937d-3426e7f494de",
   "metadata": {},
   "outputs": [
    {
     "data": {
      "text/plain": [
       "[0, 1, 2, 3, 4, 5, 6, 8, 9, 20]"
      ]
     },
     "execution_count": 32,
     "metadata": {},
     "output_type": "execute_result"
    }
   ],
   "source": [
    "l2"
   ]
  },
  {
   "cell_type": "code",
   "execution_count": 35,
   "id": "fbd91b38-be40-4d76-b8bb-e535c22bbaea",
   "metadata": {},
   "outputs": [
    {
     "ename": "NameError",
     "evalue": "name 'l3' is not defined",
     "output_type": "error",
     "traceback": [
      "\u001b[0;31m---------------------------------------------------------------------------\u001b[0m",
      "\u001b[0;31mNameError\u001b[0m                                 Traceback (most recent call last)",
      "Cell \u001b[0;32mIn [35], line 1\u001b[0m\n\u001b[0;32m----> 1\u001b[0m \u001b[43ml3\u001b[49m[\u001b[38;5;241m34\u001b[39m,\u001b[38;5;124m\"\u001b[39m\u001b[38;5;124mpintu\u001b[39m\u001b[38;5;124m\"\u001b[39m,\u001b[38;5;241m67\u001b[39m,\u001b[38;5;241m89\u001b[39m,\u001b[38;5;124m\"\u001b[39m\u001b[38;5;124mkumar\u001b[39m\u001b[38;5;124m\"\u001b[39m, \u001b[38;5;241m90\u001b[39m]\n",
      "\u001b[0;31mNameError\u001b[0m: name 'l3' is not defined"
     ]
    }
   ],
   "source": [
    "l3[34,\"pintu\",67,89,\"kumar\", 90]"
   ]
  },
  {
   "cell_type": "code",
   "execution_count": 3,
   "id": "fe3338ca-2d3b-475e-85f9-8baf10dc766a",
   "metadata": {},
   "outputs": [],
   "source": [
    "l4=[\"name\",\"pintu\",\"kumar\",\"gupta\"]"
   ]
  },
  {
   "cell_type": "code",
   "execution_count": 4,
   "id": "0917c69f-7368-4242-8533-9f758302ac8d",
   "metadata": {},
   "outputs": [],
   "source": [
    "l4.sort()"
   ]
  },
  {
   "cell_type": "code",
   "execution_count": 5,
   "id": "8120217c-39a5-4798-9eca-0fefccbe2c0d",
   "metadata": {},
   "outputs": [
    {
     "data": {
      "text/plain": [
       "['gupta', 'kumar', 'name', 'pintu']"
      ]
     },
     "execution_count": 5,
     "metadata": {},
     "output_type": "execute_result"
    }
   ],
   "source": [
    "l4"
   ]
  },
  {
   "cell_type": "code",
   "execution_count": 6,
   "id": "5662bdd1-3ff8-455c-a2f2-fde43b810141",
   "metadata": {},
   "outputs": [
    {
     "data": {
      "text/plain": [
       "['gupta', 'kumar', 'name', 'pintu']"
      ]
     },
     "execution_count": 6,
     "metadata": {},
     "output_type": "execute_result"
    }
   ],
   "source": [
    "l4"
   ]
  },
  {
   "cell_type": "code",
   "execution_count": 24,
   "id": "5c9124cb-2889-40cf-b1fd-d910c9bb4650",
   "metadata": {},
   "outputs": [
    {
     "data": {
      "text/plain": [
       "3"
      ]
     },
     "execution_count": 24,
     "metadata": {},
     "output_type": "execute_result"
    }
   ],
   "source": [
    "l4.index(\"pintu\")"
   ]
  },
  {
   "cell_type": "code",
   "execution_count": 25,
   "id": "9acbcd60-6b5b-47e9-b8fb-704208c305fd",
   "metadata": {},
   "outputs": [
    {
     "data": {
      "text/plain": [
       "2"
      ]
     },
     "execution_count": 25,
     "metadata": {},
     "output_type": "execute_result"
    }
   ],
   "source": [
    "l4.index(\"name\")"
   ]
  },
  {
   "cell_type": "code",
   "execution_count": 26,
   "id": "76799199-4d56-4818-a78b-b7b20009428f",
   "metadata": {},
   "outputs": [
    {
     "data": {
      "text/plain": [
       "['gupta', 'kumar', 'name', 'pintu']"
      ]
     },
     "execution_count": 26,
     "metadata": {},
     "output_type": "execute_result"
    }
   ],
   "source": [
    "l4"
   ]
  },
  {
   "cell_type": "code",
   "execution_count": 27,
   "id": "b9685e25-ac64-420c-9bc0-7e12c69cc6d8",
   "metadata": {},
   "outputs": [
    {
     "data": {
      "text/plain": [
       "1"
      ]
     },
     "execution_count": 27,
     "metadata": {},
     "output_type": "execute_result"
    }
   ],
   "source": [
    "l4.count(\"pintu\")"
   ]
  },
  {
   "cell_type": "code",
   "execution_count": 35,
   "id": "43708a04-1689-4630-a15c-f9c4b54bf16f",
   "metadata": {},
   "outputs": [],
   "source": [
    "s=\"subh\""
   ]
  },
  {
   "cell_type": "code",
   "execution_count": 34,
   "id": "5013527f-5c39-46e0-9410-929680feb401",
   "metadata": {},
   "outputs": [],
   "source": [
    "l5=[2,3,4,5,6,7,8,9]"
   ]
  },
  {
   "cell_type": "code",
   "execution_count": 33,
   "id": "8bdb1a18-4d34-4d01-a7e0-39235774d4e4",
   "metadata": {},
   "outputs": [
    {
     "data": {
      "text/plain": [
       "5"
      ]
     },
     "execution_count": 33,
     "metadata": {},
     "output_type": "execute_result"
    }
   ],
   "source": [
    "l5[3]"
   ]
  },
  {
   "cell_type": "code",
   "execution_count": 40,
   "id": "633e1e07-61cb-4506-b132-df95bc66c175",
   "metadata": {},
   "outputs": [
    {
     "data": {
      "text/plain": [
       "'subh'"
      ]
     },
     "execution_count": 40,
     "metadata": {},
     "output_type": "execute_result"
    }
   ],
   "source": [
    "s"
   ]
  },
  {
   "cell_type": "code",
   "execution_count": 41,
   "id": "effc9928-05f8-45a6-9baa-d6af66007783",
   "metadata": {},
   "outputs": [
    {
     "ename": "TypeError",
     "evalue": "'str' object does not support item assignment",
     "output_type": "error",
     "traceback": [
      "\u001b[0;31m---------------------------------------------------------------------------\u001b[0m",
      "\u001b[0;31mTypeError\u001b[0m                                 Traceback (most recent call last)",
      "Cell \u001b[0;32mIn [41], line 1\u001b[0m\n\u001b[0;32m----> 1\u001b[0m \u001b[43ms\u001b[49m\u001b[43m[\u001b[49m\u001b[38;5;241;43m0\u001b[39;49m\u001b[43m]\u001b[49m \u001b[38;5;241m=\u001b[39m \u001b[38;5;124m'\u001b[39m\u001b[38;5;124mP\u001b[39m\u001b[38;5;124m'\u001b[39m\n",
      "\u001b[0;31mTypeError\u001b[0m: 'str' object does not support item assignment"
     ]
    }
   ],
   "source": [
    "s[0] = 'P'"
   ]
  },
  {
   "cell_type": "code",
   "execution_count": 42,
   "id": "d04b6045-fc0d-49de-a63f-19558aa7dc45",
   "metadata": {},
   "outputs": [],
   "source": [
    "l5[0] = 45"
   ]
  },
  {
   "cell_type": "code",
   "execution_count": 43,
   "id": "6e4b2db8-7a7c-4f75-9e3c-3e88e49d4271",
   "metadata": {},
   "outputs": [
    {
     "data": {
      "text/plain": [
       "[45, 3, 4, 5, 's', 7, 8, 9]"
      ]
     },
     "execution_count": 43,
     "metadata": {},
     "output_type": "execute_result"
    }
   ],
   "source": [
    "l5"
   ]
  },
  {
   "cell_type": "code",
   "execution_count": 44,
   "id": "d822d8d1-2384-47e3-a444-919e679a26dd",
   "metadata": {},
   "outputs": [],
   "source": [
    "l5[2] = 50"
   ]
  },
  {
   "cell_type": "code",
   "execution_count": 45,
   "id": "6f4b3acd-77c5-42d2-853b-90d76c62c6d8",
   "metadata": {},
   "outputs": [
    {
     "data": {
      "text/plain": [
       "[45, 3, 50, 5, 's', 7, 8, 9]"
      ]
     },
     "execution_count": 45,
     "metadata": {},
     "output_type": "execute_result"
    }
   ],
   "source": [
    "l5"
   ]
  },
  {
   "cell_type": "code",
   "execution_count": 46,
   "id": "d0621a50-7386-4c2c-b83a-f6dd4d784d20",
   "metadata": {},
   "outputs": [
    {
     "data": {
      "text/plain": [
       "'subh'"
      ]
     },
     "execution_count": 46,
     "metadata": {},
     "output_type": "execute_result"
    }
   ],
   "source": [
    "s"
   ]
  },
  {
   "cell_type": "code",
   "execution_count": 49,
   "id": "592490f2-53bc-4a16-9784-b3ce1238760a",
   "metadata": {},
   "outputs": [
    {
     "data": {
      "text/plain": [
       "'pubh'"
      ]
     },
     "execution_count": 49,
     "metadata": {},
     "output_type": "execute_result"
    }
   ],
   "source": [
    "s.replace('s' , 'p')"
   ]
  },
  {
   "cell_type": "code",
   "execution_count": 50,
   "id": "14b5c25a-2e4a-4feb-ab0e-7ae9614b7eea",
   "metadata": {},
   "outputs": [
    {
     "data": {
      "text/plain": [
       "'pintu'"
      ]
     },
     "execution_count": 50,
     "metadata": {},
     "output_type": "execute_result"
    }
   ],
   "source": [
    "s.replace('subh' , 'pintu')"
   ]
  },
  {
   "cell_type": "code",
   "execution_count": 11,
   "id": "492e1687-418c-4bea-afb1-da4c3582a5cf",
   "metadata": {},
   "outputs": [],
   "source": [
    "t=(1,2,3,4,5,6,\"subh\",\"pintu\", False, 56.67,34+56j,[4,5,6,7])"
   ]
  },
  {
   "cell_type": "code",
   "execution_count": 12,
   "id": "c38d83a1-b51a-494c-b81f-b362ba2c9a41",
   "metadata": {},
   "outputs": [
    {
     "data": {
      "text/plain": [
       "tuple"
      ]
     },
     "execution_count": 12,
     "metadata": {},
     "output_type": "execute_result"
    }
   ],
   "source": [
    "type(t)"
   ]
  },
  {
   "cell_type": "code",
   "execution_count": 66,
   "id": "b4d968ae-b4ff-47bc-8465-6bd6be398447",
   "metadata": {},
   "outputs": [
    {
     "data": {
      "text/plain": [
       "12"
      ]
     },
     "execution_count": 66,
     "metadata": {},
     "output_type": "execute_result"
    }
   ],
   "source": [
    "len(t)"
   ]
  },
  {
   "cell_type": "code",
   "execution_count": 67,
   "id": "5f0bf7c7-011f-476d-ab86-db3db65eedaf",
   "metadata": {},
   "outputs": [
    {
     "data": {
      "text/plain": [
       "1"
      ]
     },
     "execution_count": 67,
     "metadata": {},
     "output_type": "execute_result"
    }
   ],
   "source": [
    "t[0]"
   ]
  },
  {
   "cell_type": "code",
   "execution_count": 68,
   "id": "c95490d2-7b81-4412-8e3a-6ab81fb97a6d",
   "metadata": {},
   "outputs": [
    {
     "data": {
      "text/plain": [
       "[4, 5, 6, 7]"
      ]
     },
     "execution_count": 68,
     "metadata": {},
     "output_type": "execute_result"
    }
   ],
   "source": [
    "t[-1]"
   ]
  },
  {
   "cell_type": "code",
   "execution_count": 69,
   "id": "7ccdd220-cff1-4621-bfe6-d8fe0ff3c1bc",
   "metadata": {},
   "outputs": [
    {
     "data": {
      "text/plain": [
       "([4, 5, 6, 7], (34+56j), 56.67, False, 'pintu', 'subh', 6, 5, 4, 3, 2, 1)"
      ]
     },
     "execution_count": 69,
     "metadata": {},
     "output_type": "execute_result"
    }
   ],
   "source": [
    "t[::-1]"
   ]
  },
  {
   "cell_type": "code",
   "execution_count": 72,
   "id": "04a1efd8-00d5-4f75-88d5-25c3f5b2e806",
   "metadata": {},
   "outputs": [
    {
     "data": {
      "text/plain": [
       "(1, 2, 3, 4, 5, 6, 'subh', 'pintu', False, 56.67, (34+56j), [4, 5, 6, 7])"
      ]
     },
     "execution_count": 72,
     "metadata": {},
     "output_type": "execute_result"
    }
   ],
   "source": [
    "t"
   ]
  },
  {
   "cell_type": "code",
   "execution_count": 7,
   "id": "9c971af0-bc2f-45f6-b069-567e932c2fb6",
   "metadata": {},
   "outputs": [
    {
     "data": {
      "text/plain": [
       "['gupta', 'kumar', 'name', 'pintu']"
      ]
     },
     "execution_count": 7,
     "metadata": {},
     "output_type": "execute_result"
    }
   ],
   "source": [
    "l4"
   ]
  },
  {
   "cell_type": "code",
   "execution_count": 8,
   "id": "1cf8e98c-8383-404a-b81a-34ae2f661d03",
   "metadata": {},
   "outputs": [],
   "source": [
    "l4[0]='sah'"
   ]
  },
  {
   "cell_type": "code",
   "execution_count": 9,
   "id": "140e3ded-fc0b-474c-9d47-39c8ca0f5dd5",
   "metadata": {},
   "outputs": [
    {
     "data": {
      "text/plain": [
       "['sah', 'kumar', 'name', 'pintu']"
      ]
     },
     "execution_count": 9,
     "metadata": {},
     "output_type": "execute_result"
    }
   ],
   "source": [
    "l4"
   ]
  },
  {
   "cell_type": "code",
   "execution_count": 16,
   "id": "b83566f9-5072-445b-ba04-ad3deb9483a5",
   "metadata": {},
   "outputs": [
    {
     "data": {
      "text/plain": [
       "(1, 2, 3, 4, 5, 6, 'subh', 'pintu', False, 56.67, (34+56j), [4, 5, 6, 7])"
      ]
     },
     "execution_count": 13,
     "metadata": {},
     "output_type": "execute_result"
    }
   ],
   "source": [
    "t[0] = \"pintu\"t"
   ]
  },
  {
   "cell_type": "code",
   "execution_count": 16,
   "id": "f3aa1ee6",
   "metadata": {},
   "outputs": [
    {
     "data": {
      "text/plain": [
       "(1, 2, 3, 4, 5, 6, 'subh', 'pintu', False, 56.67, (34+56j), [4, 5, 6, 7])"
      ]
     },
     "execution_count": 13,
     "metadata": {},
     "output_type": "execute_result"
    }
   ],
   "source": [
    "t[0] = \"pintu\"t"
   ]
  },
  {
   "cell_type": "code",
   "execution_count": 17,
   "id": "3a591517-1950-4a27-babe-96560cb5d7ff",
   "metadata": {},
   "outputs": [
    {
     "data": {
      "text/plain": [
       "(1, 2, 3, 4, 5, 6, 'subh', 'pintu', False, 56.67, (34+56j), [4, 5, 6, 7])"
      ]
     },
     "execution_count": 17,
     "metadata": {},
     "output_type": "execute_result"
    }
   ],
   "source": [
    "t"
   ]
  },
  {
   "cell_type": "code",
   "execution_count": 18,
   "id": "3906c1c4-1e79-4fbf-be13-ff7b14c3051a",
   "metadata": {},
   "outputs": [
    {
     "data": {
      "text/plain": [
       "1"
      ]
     },
     "execution_count": 18,
     "metadata": {},
     "output_type": "execute_result"
    }
   ],
   "source": [
    "t.count(5)"
   ]
  },
  {
   "cell_type": "code",
   "execution_count": 31,
   "id": "40ab5841-c40c-4b86-a6a9-885928bc3dfd",
   "metadata": {},
   "outputs": [
    {
     "data": {
      "text/plain": [
       "7"
      ]
     },
     "execution_count": 31,
     "metadata": {},
     "output_type": "execute_result"
    }
   ],
   "source": [
    "t.index('pintu')"
   ]
  },
  {
   "cell_type": "code",
   "execution_count": 32,
   "id": "ae95cb7c-e01e-4693-b3ff-ffa70eb58ed9",
   "metadata": {},
   "outputs": [],
   "source": [
    "s1={}"
   ]
  },
  {
   "cell_type": "code",
   "execution_count": 33,
   "id": "2e5b4558-49cf-4c67-b599-3c48e907e703",
   "metadata": {},
   "outputs": [
    {
     "data": {
      "text/plain": [
       "dict"
      ]
     },
     "execution_count": 33,
     "metadata": {},
     "output_type": "execute_result"
    }
   ],
   "source": [
    "type(s1)"
   ]
  },
  {
   "cell_type": "code",
   "execution_count": 2,
   "id": "43ef9df7-ac87-4b09-bb0c-f769310d1edc",
   "metadata": {},
   "outputs": [],
   "source": [
    "s2={1,2,3,4,5,6,6,7,}"
   ]
  },
  {
   "cell_type": "code",
   "execution_count": 3,
   "id": "f2525d7b-2c9d-46d0-8bf7-a6d4e155cfdf",
   "metadata": {},
   "outputs": [
    {
     "data": {
      "text/plain": [
       "set"
      ]
     },
     "execution_count": 3,
     "metadata": {},
     "output_type": "execute_result"
    }
   ],
   "source": [
    "type(s2)"
   ]
  },
  {
   "cell_type": "code",
   "execution_count": 9,
   "id": "412e9214-1ccd-406b-a321-44d96f67e6f1",
   "metadata": {},
   "outputs": [],
   "source": [
    "s3={2,3,4,45,67,\"pintu\",\"pwskills\",\"false\",(45+67j),(3,4,5,5)}"
   ]
  },
  {
   "cell_type": "code",
   "execution_count": 14,
   "id": "19395319-705e-441c-8d10-abf0ec5e93e9",
   "metadata": {},
   "outputs": [
    {
     "data": {
      "text/plain": [
       "{(3, 4, 5, 5),\n",
       " (45+67j),\n",
       " 2,\n",
       " 3,\n",
       " 34,\n",
       " 4,\n",
       " 45,\n",
       " 5,\n",
       " 6,\n",
       " 67,\n",
       " 'false',\n",
       " 'pintu',\n",
       " 'pwskills'}"
      ]
     },
     "execution_count": 14,
     "metadata": {},
     "output_type": "execute_result"
    }
   ],
   "source": [
    "s3"
   ]
  },
  {
   "cell_type": "code",
   "execution_count": 16,
   "id": "c80f4298-dada-42f4-802a-574a7b093eee",
   "metadata": {},
   "outputs": [],
   "source": [
    "s4={2,3,4,5,6,3,4,5,6,7,8,9,1,2,3,4}"
   ]
  },
  {
   "cell_type": "code",
   "execution_count": 17,
   "id": "54078653-4418-4ba6-a736-13dbcc4bbdb8",
   "metadata": {},
   "outputs": [
    {
     "data": {
      "text/plain": [
       "{1, 2, 3, 4, 5, 6, 7, 8, 9}"
      ]
     },
     "execution_count": 17,
     "metadata": {},
     "output_type": "execute_result"
    }
   ],
   "source": [
    "s4"
   ]
  },
  {
   "cell_type": "code",
   "execution_count": 29,
   "id": "da16cc5d-6133-41e2-b630-73bc972f3530",
   "metadata": {},
   "outputs": [],
   "source": [
    "l6={2,3,4,5,6,3,4,5,6,7,8,9,1,2,3,4,\"pintu\", \"Pintu\"}"
   ]
  },
  {
   "cell_type": "code",
   "execution_count": 30,
   "id": "3da1e034-29ff-4ffd-8e5e-da3e2dc15027",
   "metadata": {},
   "outputs": [
    {
     "data": {
      "text/plain": [
       "{1, 2, 3, 4, 5, 6, 7, 8, 9, 'Pintu', 'pintu'}"
      ]
     },
     "execution_count": 30,
     "metadata": {},
     "output_type": "execute_result"
    }
   ],
   "source": [
    "set(s6)"
   ]
  },
  {
   "cell_type": "code",
   "execution_count": 31,
   "id": "df0daff4-abdf-4d01-ad81-7d8c538c2c8d",
   "metadata": {},
   "outputs": [],
   "source": [
    "l6=list(set(l6))"
   ]
  },
  {
   "cell_type": "code",
   "execution_count": 32,
   "id": "f9bc10b2-213c-4633-8024-20ddbcfb9c93",
   "metadata": {},
   "outputs": [
    {
     "data": {
      "text/plain": [
       "[1, 2, 3, 4, 5, 6, 7, 8, 9, 'pintu', 'Pintu']"
      ]
     },
     "execution_count": 32,
     "metadata": {},
     "output_type": "execute_result"
    }
   ],
   "source": [
    "l6"
   ]
  },
  {
   "cell_type": "code",
   "execution_count": 33,
   "id": "3cbf30bd-e95a-490d-8525-b18e70e457ca",
   "metadata": {},
   "outputs": [
    {
     "data": {
      "text/plain": [
       "[1, 2, 3, 4, 5, 6, 7, 8, 9, 'pintu', 'Pintu']"
      ]
     },
     "execution_count": 33,
     "metadata": {},
     "output_type": "execute_result"
    }
   ],
   "source": [
    "l6"
   ]
  },
  {
   "cell_type": "code",
   "execution_count": 41,
   "id": "a651ae10-a48a-4643-9ffc-716a77987e69",
   "metadata": {},
   "outputs": [],
   "source": [
    "p={232,345,56,45,65,\"subh\",\"pwskills\"}"
   ]
  },
  {
   "cell_type": "code",
   "execution_count": 36,
   "id": "cdd51ae0-f396-4e40-945f-796a40d547ea",
   "metadata": {},
   "outputs": [
    {
     "data": {
      "text/plain": [
       "{232, 345, 45, 56, 65, 'pwskills', 'subh'}"
      ]
     },
     "execution_count": 36,
     "metadata": {},
     "output_type": "execute_result"
    }
   ],
   "source": [
    "p"
   ]
  },
  {
   "cell_type": "code",
   "execution_count": 37,
   "id": "0121bfb6-8258-4bf5-83d6-e41b062db331",
   "metadata": {},
   "outputs": [],
   "source": [
    "p.add(5)"
   ]
  },
  {
   "cell_type": "code",
   "execution_count": 38,
   "id": "fa61fc9e-233c-4146-832f-f4e6ea259f28",
   "metadata": {},
   "outputs": [
    {
     "data": {
      "text/plain": [
       "{232, 345, 45, 5, 56, 65, 'pwskills', 'subh'}"
      ]
     },
     "execution_count": 38,
     "metadata": {},
     "output_type": "execute_result"
    }
   ],
   "source": [
    "p"
   ]
  },
  {
   "cell_type": "code",
   "execution_count": 39,
   "id": "962e42d8-60d8-402b-b971-6ac45df649c5",
   "metadata": {},
   "outputs": [],
   "source": [
    "p.add(\"gupta\")"
   ]
  },
  {
   "cell_type": "code",
   "execution_count": 40,
   "id": "0dffc0c2-66b1-4973-bfcd-2fd2367b883a",
   "metadata": {},
   "outputs": [
    {
     "data": {
      "text/plain": [
       "{232, 345, 45, 5, 56, 65, 'gupta', 'pwskills', 'subh'}"
      ]
     },
     "execution_count": 40,
     "metadata": {},
     "output_type": "execute_result"
    }
   ],
   "source": [
    "p"
   ]
  },
  {
   "cell_type": "code",
   "execution_count": 42,
   "id": "3ec5eba3-1555-4d8a-917a-aae5a6b23ce7",
   "metadata": {},
   "outputs": [
    {
     "data": {
      "text/plain": [
       "{232, 345, 45, 56, 65, 'pwskills', 'subh'}"
      ]
     },
     "execution_count": 42,
     "metadata": {},
     "output_type": "execute_result"
    }
   ],
   "source": [
    "p"
   ]
  },
  {
   "cell_type": "code",
   "execution_count": 43,
   "id": "0fd2fceb-6dc4-4fdf-8e45-d2d56efca400",
   "metadata": {},
   "outputs": [],
   "source": [
    "p.remove(\"subh\")"
   ]
  },
  {
   "cell_type": "code",
   "execution_count": 44,
   "id": "8860fdcb-cc02-4e13-964a-0f87ee9527e4",
   "metadata": {},
   "outputs": [
    {
     "data": {
      "text/plain": [
       "{232, 345, 45, 56, 65, 'pwskills'}"
      ]
     },
     "execution_count": 44,
     "metadata": {},
     "output_type": "execute_result"
    }
   ],
   "source": [
    "p"
   ]
  },
  {
   "cell_type": "code",
   "execution_count": null,
   "id": "3d04bf37-81a9-40f7-bc15-55d7fc735fd8",
   "metadata": {},
   "outputs": [],
   "source": []
  }
 ],
 "metadata": {
  "kernelspec": {
   "display_name": "Python 3 (ipykernel)",
   "language": "python",
   "name": "python3"
  },
  "language_info": {
   "codemirror_mode": {
    "name": "ipython",
    "version": 3
   },
   "file_extension": ".py",
   "mimetype": "text/x-python",
   "name": "python",
   "nbconvert_exporter": "python",
   "pygments_lexer": "ipython3",
   "version": "3.10.6"
  }
 },
 "nbformat": 4,
 "nbformat_minor": 5
}
